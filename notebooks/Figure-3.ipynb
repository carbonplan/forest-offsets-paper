{
 "cells": [
  {
   "cell_type": "markdown",
   "id": "affiliated-tobago",
   "metadata": {},
   "source": [
    "# Retro — Figure 3\n"
   ]
  },
  {
   "cell_type": "code",
   "execution_count": null,
   "id": "needed-tuning",
   "metadata": {},
   "outputs": [],
   "source": [
    "import os\n",
    "import fsspec\n",
    "import json\n",
    "import pandas as pd\n",
    "import numpy as np\n",
    "import matplotlib.pyplot as plt\n",
    "from matplotlib import ticker"
   ]
  },
  {
   "cell_type": "markdown",
   "id": "nutritional-absolute",
   "metadata": {},
   "source": [
    "## Load the data\n"
   ]
  },
  {
   "cell_type": "code",
   "execution_count": null,
   "id": "mighty-framework",
   "metadata": {},
   "outputs": [],
   "source": [
    "with fsspec.open(\n",
    "    \"https://carbonplan.blob.core.windows.net/carbonplan-retro/results/reclassification-crediting-error.json\",\n",
    "    \"r\",\n",
    ") as f:\n",
    "    data = json.load(f)\n",
    "del data[\"ACR360\"]\n",
    "del data[\"CAR1102\"]"
   ]
  },
  {
   "cell_type": "code",
   "execution_count": null,
   "id": "breeding-midnight",
   "metadata": {},
   "outputs": [],
   "source": [
    "with fsspec.open(\n",
    "    \"https://carbonplan.blob.core.windows.net/carbonplan-retro/projects/retro-db-light-v1.0.json\",\n",
    "    \"r\",\n",
    ") as f:\n",
    "    db = json.load(f)\n",
    "db = list(filter(lambda x: ~(x[\"id\"] == \"ACR360\") & ~(x[\"id\"] == \"CAR1102\"), db))"
   ]
  },
  {
   "cell_type": "code",
   "execution_count": null,
   "id": "addressed-greenhouse",
   "metadata": {},
   "outputs": [],
   "source": [
    "def get(id):\n",
    "    return [x for x in db if x[\"id\"] == id][0]"
   ]
  },
  {
   "cell_type": "code",
   "execution_count": null,
   "id": "alleged-award",
   "metadata": {},
   "outputs": [],
   "source": [
    "df = pd.DataFrame()\n",
    "df[\"id\"] = [key for key in data.keys()]\n",
    "df[\"percent_low\"] = [\n",
    "    np.percentile(data[key][\"delta_arbocs\"], 25) / get(key)[\"arbocs\"][\"issuance\"]\n",
    "    for key in data.keys()\n",
    "]\n",
    "df[\"percent_med\"] = [\n",
    "    np.percentile(data[key][\"delta_arbocs\"], 50) / get(key)[\"arbocs\"][\"issuance\"]\n",
    "    for key in data.keys()\n",
    "]\n",
    "df[\"percent_high\"] = [\n",
    "    np.percentile(data[key][\"delta_arbocs\"], 75) / get(key)[\"arbocs\"][\"issuance\"]\n",
    "    for key in data.keys()\n",
    "]\n",
    "df[\"absolute_low\"] = [np.percentile(data[key][\"delta_arbocs\"], 5) for key in data.keys()]\n",
    "df[\"absolute_med\"] = [np.percentile(data[key][\"delta_arbocs\"], 50) for key in data.keys()]\n",
    "df[\"absolute_high\"] = [np.percentile(data[key][\"delta_arbocs\"], 95) for key in data.keys()]\n",
    "df[\"project_size\"] = [get(key)[\"arbocs\"][\"issuance\"] for key in data.keys()]\n",
    "df[\"cp_slag\"] = [get(key)[\"carbon\"][\"common_practice\"][\"value\"] for key in data.keys()]\n",
    "df[\"alternate_slag\"] = [np.percentile(data[key][\"alt_slag\"], 50) for key in data.keys()]\n",
    "df = df.sort_values(\"percent_med\", ascending=False)"
   ]
  },
  {
   "cell_type": "markdown",
   "id": "signed-oriental",
   "metadata": {},
   "source": [
    "## Make the plot\n"
   ]
  },
  {
   "cell_type": "code",
   "execution_count": null,
   "id": "checked-overhead",
   "metadata": {},
   "outputs": [],
   "source": [
    "def format_si(num, precision=0, suffixes=[\"\", \"K\", \"M\", \"G\", \"T\", \"P\"], show_suffix=False):\n",
    "    m = sum([abs(num / 1000.0 ** x) >= 1 for x in range(1, len(suffixes))])\n",
    "    if show_suffix:\n",
    "        return f\"{num/1000.0**m:.{precision}f}{suffixes[m]}\"\n",
    "    else:\n",
    "        return f\"{num/1000.0**m:.{precision}f}\"\n",
    "\n",
    "\n",
    "def format_pt(num, precision=0, show_suffix=False):\n",
    "    if show_suffix:\n",
    "        return f\"{num * 100:.{precision}f}%\"\n",
    "    else:\n",
    "        return f\"{num * 100:.{precision}f}\"\n",
    "\n",
    "\n",
    "@ticker.FuncFormatter\n",
    "def formatter_si(x, pos):\n",
    "    return format_si(x)\n",
    "\n",
    "\n",
    "@ticker.FuncFormatter\n",
    "def formatter_pt(x, pos):\n",
    "    return format_pt(x)"
   ]
  },
  {
   "cell_type": "code",
   "execution_count": null,
   "id": "breathing-wholesale",
   "metadata": {},
   "outputs": [],
   "source": [
    "total = []\n",
    "for i in range(1000):\n",
    "    total.append(np.nansum([data[key][\"delta_arbocs\"][i] for key in data.keys()]))\n",
    "    total_arbocs = np.percentile(total, [5, 50, 95])\n",
    "    total_percentage = np.percentile(total, [5, 50, 95]) / np.sum(\n",
    "        [[x for x in db if x[\"id\"] == key][0][\"arbocs\"][\"issuance\"] for key in data.keys()]\n",
    "    )"
   ]
  },
  {
   "cell_type": "code",
   "execution_count": null,
   "id": "mental-academy",
   "metadata": {},
   "outputs": [],
   "source": [
    "for i in range(3):\n",
    "    print(format_si(total_arbocs[i], precision=2, show_suffix=True))"
   ]
  },
  {
   "cell_type": "code",
   "execution_count": null,
   "id": "global-johnston",
   "metadata": {},
   "outputs": [],
   "source": [
    "for i in range(3):\n",
    "    print(format_pt(total_percentage[i], precision=2, show_suffix=True))"
   ]
  },
  {
   "cell_type": "code",
   "execution_count": null,
   "id": "rational-advertising",
   "metadata": {},
   "outputs": [],
   "source": [
    "for i in range(3):\n",
    "    print(format_si(total_arbocs[i] * 13.67, precision=2, show_suffix=True))"
   ]
  },
  {
   "cell_type": "code",
   "execution_count": null,
   "id": "speaking-defense",
   "metadata": {},
   "outputs": [],
   "source": [
    "plt.rcParams.update({\"font.size\": 14, \"svg.fonttype\": \"none\"})\n",
    "\n",
    "fig, axs = plt.subplots(2, 1, figsize=[18, 10], gridspec_kw={\"height_ratios\": [1, 2.5]})\n",
    "\n",
    "axs[0].vlines(df[\"id\"], 0, 400, color=(0.95, 0.95, 0.95), linewidth=1)\n",
    "axs[0].scatter(\n",
    "    df[\"id\"],\n",
    "    df[\"cp_slag\"],\n",
    "    marker=\"_\",\n",
    "    s=200,\n",
    "    color=\".3\",\n",
    "    lw=2.5,\n",
    "    label=\"Common practice\",\n",
    "    zorder=10,\n",
    ")\n",
    "axs[0].scatter(\n",
    "    df[\"id\"],\n",
    "    df[\"alternate_slag\"],\n",
    "    marker=\"_\",\n",
    "    s=200,\n",
    "    color=\".7\",\n",
    "    lw=2.5,\n",
    "    label=\"Recalculated common practice\",\n",
    "    zorder=10,\n",
    ")\n",
    "\n",
    "axs[0].set_xticks([])\n",
    "axs[0].set_ylim([0, 260])\n",
    "axs[0].set_ylabel(\"Carbon\\n(tCO2e / acre)\")\n",
    "axs[0].margins(0.01)\n",
    "\n",
    "axs[0].legend(\n",
    "    ncol=2,\n",
    "    loc=\"upper right\",\n",
    "    frameon=False,\n",
    "    bbox_to_anchor=(1, 1.15),\n",
    "    handletextpad=0.05,\n",
    "    prop={\"size\": 16},\n",
    ")\n",
    "\n",
    "axs[1].vlines(df[\"id\"], -1, 1.5, color=(0.95, 0.95, 0.95), linewidth=1)\n",
    "axs[1].hlines([0], [0], [len(df) - 1], color=(0.75, 0.75, 0.75), linewidth=2)\n",
    "axs[1].plot(df[\"id\"], df[\"percent_med\"], \".\", color=\"#7EB36A\", markersize=12)\n",
    "axs[1].vlines(df[\"id\"], df[\"percent_low\"], df[\"percent_high\"], color=\"black\", linewidth=1.25)\n",
    "axs[1].set_xticks([])\n",
    "axs[1].set_ylim([-1.1, 1.1])\n",
    "axs[1].set_ylabel(\"Crediting error (%)\")\n",
    "axs[1].yaxis.set_major_formatter(formatter_pt)\n",
    "axs[1].margins(0.01)\n",
    "axs[1].set_xticks(df[\"id\"])\n",
    "axs[1].set_xticklabels(df[\"id\"], rotation=\"vertical\")\n",
    "axs[1].tick_params(axis=\"x\", which=\"major\", pad=3)\n",
    "\n",
    "text = f\"Total Overcrediting: {total_percentage[1]:.1%} (95% CI: {total_percentage[0]:.1%} to {total_percentage[2]:.1%})\"\n",
    "axs[1].set_title(text, fontsize=16, loc=\"right\")\n",
    "\n",
    "for ax, text in zip(axs, [\"A\", \"B\"]):\n",
    "    ax.annotate(text, xy=(-0.07, 1), xycoords=\"axes fraction\", fontsize=18)\n",
    "\n",
    "labels = [item.get_text() for item in axs[1].get_xticklabels()]\n",
    "callouts = np.nonzero((df[\"percent_low\"] < -1.05).values)[0]\n",
    "for c in callouts:\n",
    "    labels[c] = \"* \" + labels[c]\n",
    "    axs[1].set_xticklabels(labels)\n",
    "\n",
    "for ax in axs:\n",
    "    for s in ax.spines.values():\n",
    "        s.set_visible(False)\n",
    "\n",
    "fname = \"Figure-3.svg\"\n",
    "if \"BLOB_ACCOUNT_KEY\" in os.environ:\n",
    "    with fsspec.open(\n",
    "        f\"az://carbonplan-retro/figures/raw/{fname}\",\n",
    "        \"w\",\n",
    "        account_name=\"carbonplan\",\n",
    "        account_key=os.environ[\"BLOB_ACCOUNT_KEY\"],\n",
    "    ) as f:\n",
    "        fig.savefig(f, format=\"svg\")\n",
    "else:\n",
    "    plt.savefig(fname)"
   ]
  }
 ],
 "metadata": {
  "kernelspec": {
   "display_name": "Python 3",
   "language": "python",
   "name": "python3"
  },
  "language_info": {
   "codemirror_mode": {
    "name": "ipython",
    "version": 3
   },
   "file_extension": ".py",
   "mimetype": "text/x-python",
   "name": "python",
   "nbconvert_exporter": "python",
   "pygments_lexer": "ipython3",
   "version": "3.8.6"
  }
 },
 "nbformat": 4,
 "nbformat_minor": 5
}
