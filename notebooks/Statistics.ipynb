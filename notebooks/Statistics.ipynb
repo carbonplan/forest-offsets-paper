{
 "cells": [
  {
   "cell_type": "code",
   "execution_count": 1,
   "id": "improved-consumption",
   "metadata": {},
   "outputs": [],
   "source": [
    "import os\n",
    "import fsspec\n",
    "import json\n",
    "import pandas as pd\n",
    "import numpy as np"
   ]
  },
  {
   "cell_type": "markdown",
   "id": "massive-feeding",
   "metadata": {},
   "source": [
    "## Load the data\n"
   ]
  },
  {
   "cell_type": "markdown",
   "id": "hispanic-greenhouse",
   "metadata": {},
   "source": [
    "We exclude two projects from all further analysis due to insufficient underlying FIA data\n"
   ]
  },
  {
   "cell_type": "code",
   "execution_count": 2,
   "id": "fourth-delhi",
   "metadata": {},
   "outputs": [],
   "source": [
    "with fsspec.open(\n",
    "    \"https://carbonplan.blob.core.windows.net/carbonplan-forests/offsets/archive/results/reclassification-crediting-error.json\",\n",
    "    \"r\",\n",
    ") as f:\n",
    "    data = json.load(f)\n",
    "\n",
    "with fsspec.open(\n",
    "    \"https://carbonplan.blob.core.windows.net/carbonplan-forests/offsets/database/forest-offsets-database-v1.0.json\",\n",
    "    \"r\",\n",
    ") as f:\n",
    "    db = json.load(f)\n",
    "db = list(filter(lambda x: ~(x[\"id\"] == \"ACR360\") & ~(x[\"id\"] == \"CAR1102\"), db))"
   ]
  },
  {
   "cell_type": "code",
   "execution_count": 3,
   "id": "binding-album",
   "metadata": {},
   "outputs": [
    {
     "name": "stdout",
     "output_type": "stream",
     "text": [
      "Number of projects: 74\n"
     ]
    }
   ],
   "source": [
    "print(f\"Number of projects: {len(db)}\")"
   ]
  },
  {
   "cell_type": "code",
   "execution_count": 4,
   "id": "blocked-forty",
   "metadata": {},
   "outputs": [
    {
     "name": "stdout",
     "output_type": "stream",
     "text": [
      "Total ARBOCs: 102064294.0\n"
     ]
    }
   ],
   "source": [
    "print(\n",
    "    f\"Total ARBOCs: {np.sum([[x for x in db if x['id'] == key][0]['arbocs']['issuance'] for key in data.keys()])}\"\n",
    ")"
   ]
  },
  {
   "cell_type": "markdown",
   "id": "valued-heaven",
   "metadata": {},
   "source": [
    "## Calculate over-crediting\n"
   ]
  },
  {
   "cell_type": "markdown",
   "id": "former-promotion",
   "metadata": {},
   "source": [
    "We write a simple function to help with formatting\n"
   ]
  },
  {
   "cell_type": "code",
   "execution_count": 5,
   "id": "certified-decline",
   "metadata": {},
   "outputs": [],
   "source": [
    "def format_si(num, precision=1, suffixes=[\"\", \"K\", \"M\", \"G\", \"T\", \"P\"], hide_suffix=False):\n",
    "    m = sum([abs(num / 1000.0 ** x) >= 1 for x in range(1, len(suffixes))])\n",
    "    if hide_suffix:\n",
    "        return f\"{num/1000.0**m:.{precision}f}\"\n",
    "    else:\n",
    "        return f\"{num/1000.0**m:.{precision}f}{suffixes[m]}\""
   ]
  },
  {
   "cell_type": "code",
   "execution_count": 6,
   "id": "noticed-offense",
   "metadata": {},
   "outputs": [],
   "source": [
    "def format_pt(num, precision=1):\n",
    "    return f\"{num * 100:.{precision}f}%\""
   ]
  },
  {
   "cell_type": "markdown",
   "id": "painful-internship",
   "metadata": {},
   "source": [
    "We write a function to calculate over-crediting (as a percentage or in ARBOCs), optionally using a\n",
    "condition by which to filter projects\n"
   ]
  },
  {
   "cell_type": "code",
   "execution_count": 7,
   "id": "english-battery",
   "metadata": {},
   "outputs": [],
   "source": [
    "def get_overcrediting(condition=None, percentage=True, display=False):\n",
    "    if condition is not None:\n",
    "        keys = list(map(lambda x: x[\"id\"], filter(condition, db)))\n",
    "    else:\n",
    "        keys = list(map(lambda x: x[\"id\"], db))\n",
    "    keys = list(filter(lambda x: x in data.keys(), keys))\n",
    "    total = []\n",
    "    for i in range(1000):\n",
    "        total.append(np.nansum([data[key][\"delta_arbocs\"][i] for key in keys]))\n",
    "        total_percentage = np.percentile(total, [5, 50, 95]) / np.sum(\n",
    "            [[x for x in db if x[\"id\"] == key][0][\"arbocs\"][\"issuance\"] for key in keys]\n",
    "        )\n",
    "        total_arbocs = np.percentile(total, [5, 50, 95])\n",
    "    if display:\n",
    "        print(\n",
    "            f\"Over-crediting in ARBOCs: \\\n",
    "            {format_si(total_arbocs[1])}, ({format_si(total_arbocs[0])}, {format_si(total_arbocs[2])})\"\n",
    "        )\n",
    "        print(\n",
    "            f\"Over-crediting as %: \\\n",
    "            {format_pt(total_percentage[1])} ({format_pt(total_percentage[0])}, {format_pt(total_percentage[2])})\"\n",
    "        )\n",
    "        print(\n",
    "            f\"Projects included: \\\n",
    "            {len(keys)}\"\n",
    "        )\n",
    "    else:\n",
    "        return {\"count\": len(keys), \"percent\": total_percentage, \"arbocs\": total_arbocs}"
   ]
  },
  {
   "cell_type": "markdown",
   "id": "worth-manchester",
   "metadata": {},
   "source": [
    "## Examples of over-crediting\n"
   ]
  },
  {
   "cell_type": "markdown",
   "id": "international-projector",
   "metadata": {},
   "source": [
    "Now we compute over-crediting for some example conditions\n"
   ]
  },
  {
   "cell_type": "code",
   "execution_count": 8,
   "id": "latter-rendering",
   "metadata": {},
   "outputs": [
    {
     "name": "stdout",
     "output_type": "stream",
     "text": [
      "Over-crediting in ARBOCs:             30.0M, (20.5M, 38.6M)\n",
      "Over-crediting as %:             29.4% (20.1%, 37.8%)\n",
      "Projects included:             65\n"
     ]
    }
   ],
   "source": [
    "condition = None\n",
    "get_overcrediting(condition=condition, percentage=True, display=True)"
   ]
  },
  {
   "cell_type": "code",
   "execution_count": 9,
   "id": "thousand-hearts",
   "metadata": {},
   "outputs": [
    {
     "name": "stdout",
     "output_type": "stream",
     "text": [
      "Over-crediting in ARBOCs:             9.5M, (6.0M, 12.9M)\n",
      "Over-crediting as %:             52.1% (33.1%, 70.8%)\n",
      "Projects included:             13\n"
     ]
    }
   ],
   "source": [
    "condition = lambda x: \"New Forests\" in x[\"developers\"] or \"New Forests\" in x[\"owners\"]\n",
    "get_overcrediting(condition=condition, percentage=True, display=True)"
   ]
  },
  {
   "cell_type": "code",
   "execution_count": 10,
   "id": "recovered-kinase",
   "metadata": {},
   "outputs": [
    {
     "name": "stdout",
     "output_type": "stream",
     "text": [
      "Over-crediting in ARBOCs:             11.7M, (3.6M, 19.2M)\n",
      "Over-crediting as %:             23.3% (7.2%, 38.2%)\n",
      "Projects included:             18\n"
     ]
    }
   ],
   "source": [
    "condition = lambda x: \"Finite Carbon\" in x[\"developers\"] or \"Finite Carbon\" in x[\"owners\"]\n",
    "get_overcrediting(condition=condition, percentage=True, display=True)"
   ]
  },
  {
   "cell_type": "code",
   "execution_count": 11,
   "id": "simplified-eclipse",
   "metadata": {},
   "outputs": [
    {
     "name": "stdout",
     "output_type": "stream",
     "text": [
      "Over-crediting in ARBOCs:             135.9K, (85.5K, 185.9K)\n",
      "Over-crediting as %:             50.1% (31.5%, 68.6%)\n",
      "Projects included:             1\n"
     ]
    }
   ],
   "source": [
    "condition = lambda x: x[\"id\"] == \"ACR189\"\n",
    "get_overcrediting(condition=condition, percentage=True, display=True)"
   ]
  },
  {
   "cell_type": "markdown",
   "id": "funded-aurora",
   "metadata": {},
   "source": [
    "## Table of over-crediting by developer\n"
   ]
  },
  {
   "cell_type": "markdown",
   "id": "level-processing",
   "metadata": {},
   "source": [
    "First we get unique developers\n"
   ]
  },
  {
   "cell_type": "code",
   "execution_count": 12,
   "id": "processed-delta",
   "metadata": {},
   "outputs": [],
   "source": [
    "developers = [x[\"developers\"] for x in db if x[\"id\"] in data.keys()]\n",
    "developers = [item for sublist in developers for item in sublist]\n",
    "developers = list(set(developers))"
   ]
  },
  {
   "cell_type": "code",
   "execution_count": 13,
   "id": "threatened-arizona",
   "metadata": {},
   "outputs": [],
   "source": [
    "df = pd.DataFrame()\n",
    "df[\"Developer\"] = developers\n",
    "results = [\n",
    "    get_overcrediting(condition=lambda x: d in x[\"developers\"] or d in x[\"owners\"], percentage=True)\n",
    "    for d in developers\n",
    "]\n",
    "df[\"Count\"] = [d[\"count\"] for d in results]\n",
    "df[\"Over-crediting as %\"] = [f'{format_pt(d[\"percent\"][1])}' for d in results]\n",
    "df[\"Range for %\"] = [\n",
    "    f'({format_pt(d[\"percent\"][0])}, {format_pt(d[\"percent\"][2])})' for d in results\n",
    "]\n",
    "df[\"Over-crediting as ARBOCs\"] = [f'{format_si(d[\"arbocs\"][1])}' for d in results]\n",
    "df[\"Range for ARBOCs\"] = [\n",
    "    f'({format_si(d[\"arbocs\"][0])}, {format_si(d[\"arbocs\"][2])})' for d in results\n",
    "]"
   ]
  },
  {
   "cell_type": "code",
   "execution_count": 14,
   "id": "statistical-jackson",
   "metadata": {},
   "outputs": [
    {
     "data": {
      "text/html": [
       "<div>\n",
       "<style scoped>\n",
       "    .dataframe tbody tr th:only-of-type {\n",
       "        vertical-align: middle;\n",
       "    }\n",
       "\n",
       "    .dataframe tbody tr th {\n",
       "        vertical-align: top;\n",
       "    }\n",
       "\n",
       "    .dataframe thead th {\n",
       "        text-align: right;\n",
       "    }\n",
       "</style>\n",
       "<table border=\"1\" class=\"dataframe\">\n",
       "  <thead>\n",
       "    <tr style=\"text-align: right;\">\n",
       "      <th></th>\n",
       "      <th>Developer</th>\n",
       "      <th>Count</th>\n",
       "      <th>Over-crediting as %</th>\n",
       "      <th>Range for %</th>\n",
       "      <th>Over-crediting as ARBOCs</th>\n",
       "      <th>Range for ARBOCs</th>\n",
       "    </tr>\n",
       "  </thead>\n",
       "  <tbody>\n",
       "    <tr>\n",
       "      <th>3</th>\n",
       "      <td>New Forests</td>\n",
       "      <td>13</td>\n",
       "      <td>52.1%</td>\n",
       "      <td>(33.1%, 70.8%)</td>\n",
       "      <td>9.5M</td>\n",
       "      <td>(6.0M, 12.9M)</td>\n",
       "    </tr>\n",
       "    <tr>\n",
       "      <th>11</th>\n",
       "      <td>Blue Source</td>\n",
       "      <td>15</td>\n",
       "      <td>38.5%</td>\n",
       "      <td>(32.2%, 44.7%)</td>\n",
       "      <td>4.6M</td>\n",
       "      <td>(3.8M, 5.3M)</td>\n",
       "    </tr>\n",
       "    <tr>\n",
       "      <th>12</th>\n",
       "      <td>Finite Carbon</td>\n",
       "      <td>18</td>\n",
       "      <td>23.3%</td>\n",
       "      <td>(7.2%, 38.2%)</td>\n",
       "      <td>11.7M</td>\n",
       "      <td>(3.6M, 19.2M)</td>\n",
       "    </tr>\n",
       "    <tr>\n",
       "      <th>13</th>\n",
       "      <td>ecoPartners</td>\n",
       "      <td>6</td>\n",
       "      <td>15.1%</td>\n",
       "      <td>(12.9%, 17.2%)</td>\n",
       "      <td>1.5M</td>\n",
       "      <td>(1.3M, 1.7M)</td>\n",
       "    </tr>\n",
       "    <tr>\n",
       "      <th>18</th>\n",
       "      <td>NCRM</td>\n",
       "      <td>7</td>\n",
       "      <td>5.5%</td>\n",
       "      <td>(-0.2%, 11.5%)</td>\n",
       "      <td>206.5K</td>\n",
       "      <td>(-7.6K, 433.1K)</td>\n",
       "    </tr>\n",
       "  </tbody>\n",
       "</table>\n",
       "</div>"
      ],
      "text/plain": [
       "        Developer  Count Over-crediting as %     Range for %  \\\n",
       "3     New Forests     13               52.1%  (33.1%, 70.8%)   \n",
       "11    Blue Source     15               38.5%  (32.2%, 44.7%)   \n",
       "12  Finite Carbon     18               23.3%   (7.2%, 38.2%)   \n",
       "13    ecoPartners      6               15.1%  (12.9%, 17.2%)   \n",
       "18           NCRM      7                5.5%  (-0.2%, 11.5%)   \n",
       "\n",
       "   Over-crediting as ARBOCs Range for ARBOCs  \n",
       "3                      9.5M    (6.0M, 12.9M)  \n",
       "11                     4.6M     (3.8M, 5.3M)  \n",
       "12                    11.7M    (3.6M, 19.2M)  \n",
       "13                     1.5M     (1.3M, 1.7M)  \n",
       "18                   206.5K  (-7.6K, 433.1K)  "
      ]
     },
     "execution_count": 14,
     "metadata": {},
     "output_type": "execute_result"
    }
   ],
   "source": [
    "df[df[\"Count\"] > 5]"
   ]
  }
 ],
 "metadata": {
  "kernelspec": {
   "display_name": "Python 3",
   "language": "python",
   "name": "python3"
  },
  "language_info": {
   "codemirror_mode": {
    "name": "ipython",
    "version": 3
   },
   "file_extension": ".py",
   "mimetype": "text/x-python",
   "name": "python",
   "nbconvert_exporter": "python",
   "pygments_lexer": "ipython3",
   "version": "3.8.8"
  }
 },
 "nbformat": 4,
 "nbformat_minor": 5
}
