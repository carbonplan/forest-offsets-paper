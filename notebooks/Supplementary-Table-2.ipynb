{
 "cells": [
  {
   "cell_type": "markdown",
   "id": "unlimited-peripheral",
   "metadata": {},
   "source": [
    "# Retro - Supplementary Table 2"
   ]
  },
  {
   "cell_type": "code",
   "execution_count": 13,
   "id": "negative-sailing",
   "metadata": {},
   "outputs": [],
   "source": [
    "import os\n",
    "import fsspec\n",
    "import json\n",
    "import pandas as pd\n",
    "import numpy as np\n",
    "import random\n",
    "import matplotlib.pyplot as plt"
   ]
  },
  {
   "cell_type": "markdown",
   "id": "attractive-barrel",
   "metadata": {},
   "source": [
    "## Load the data"
   ]
  },
  {
   "cell_type": "code",
   "execution_count": 2,
   "id": "committed-butler",
   "metadata": {},
   "outputs": [],
   "source": [
    "with fsspec.open(\n",
    "    \"https://carbonplan.blob.core.windows.net/carbonplan-retro/results/reclassification-labels.json\",\n",
    "    \"r\",\n",
    ") as f:\n",
    "    data = json.load(f)"
   ]
  },
  {
   "cell_type": "markdown",
   "id": "norman-sculpture",
   "metadata": {},
   "source": [
    "## Plot the table"
   ]
  },
  {
   "cell_type": "code",
   "execution_count": 10,
   "id": "beautiful-purpose",
   "metadata": {},
   "outputs": [],
   "source": [
    "df = pd.DataFrame()\n",
    "df['Project'] = [d['id'] for d in data]\n",
    "df['Supersection'] = [d['ss_id'] for d in data]\n",
    "df['Assessment Area'] = [d['aa_id'] for d in data]\n",
    "df['Species'] = ['\\n'.join([str(s['name']).capitalize() + ' : ' + '%.1f' % (s['fraction'] * 100) + '%' for s in d['species']]) for d in data]\n",
    "df['Classification'] = ['\\n'.join([str(s[0]).capitalize() + ' : ' + '%.1f' % (s[1] * 100) + '%' for s in d['classification']]) for d in data]"
   ]
  },
  {
   "cell_type": "code",
   "execution_count": 21,
   "id": "starting-mission",
   "metadata": {},
   "outputs": [
    {
     "data": {
      "text/html": [
       "<style  type=\"text/css\" >\n",
       "#T_b5e58_row0_col0,#T_b5e58_row0_col1,#T_b5e58_row0_col2,#T_b5e58_row0_col3,#T_b5e58_row0_col4,#T_b5e58_row1_col0,#T_b5e58_row1_col1,#T_b5e58_row1_col2,#T_b5e58_row1_col3,#T_b5e58_row1_col4,#T_b5e58_row2_col0,#T_b5e58_row2_col1,#T_b5e58_row2_col2,#T_b5e58_row2_col3,#T_b5e58_row2_col4,#T_b5e58_row3_col0,#T_b5e58_row3_col1,#T_b5e58_row3_col2,#T_b5e58_row3_col3,#T_b5e58_row3_col4,#T_b5e58_row4_col0,#T_b5e58_row4_col1,#T_b5e58_row4_col2,#T_b5e58_row4_col3,#T_b5e58_row4_col4,#T_b5e58_row5_col0,#T_b5e58_row5_col1,#T_b5e58_row5_col2,#T_b5e58_row5_col3,#T_b5e58_row5_col4,#T_b5e58_row6_col0,#T_b5e58_row6_col1,#T_b5e58_row6_col2,#T_b5e58_row6_col3,#T_b5e58_row6_col4,#T_b5e58_row7_col0,#T_b5e58_row7_col1,#T_b5e58_row7_col2,#T_b5e58_row7_col3,#T_b5e58_row7_col4,#T_b5e58_row8_col0,#T_b5e58_row8_col1,#T_b5e58_row8_col2,#T_b5e58_row8_col3,#T_b5e58_row8_col4,#T_b5e58_row9_col0,#T_b5e58_row9_col1,#T_b5e58_row9_col2,#T_b5e58_row9_col3,#T_b5e58_row9_col4{\n",
       "            white-space:  pre-wrap;\n",
       "        }</style><table id=\"T_b5e58_\" ><thead>    <tr>        <th class=\"col_heading level0 col0\" >Project</th>        <th class=\"col_heading level0 col1\" >Supersection</th>        <th class=\"col_heading level0 col2\" >Assessment Area</th>        <th class=\"col_heading level0 col3\" >Species</th>        <th class=\"col_heading level0 col4\" >Classification</th>    </tr></thead><tbody>\n",
       "                <tr>\n",
       "                                <td id=\"T_b5e58_row0_col0\" class=\"data row0 col0\" >ACR324</td>\n",
       "                        <td id=\"T_b5e58_row0_col1\" class=\"data row0 col1\" >286</td>\n",
       "                        <td id=\"T_b5e58_row0_col2\" class=\"data row0 col2\" >286</td>\n",
       "                        <td id=\"T_b5e58_row0_col3\" class=\"data row0 col3\" >Western hemlock : 40.2%</td>\n",
       "                        <td id=\"T_b5e58_row0_col4\" class=\"data row0 col4\" >Western hemlock : 90.9%</td>\n",
       "            </tr>\n",
       "            <tr>\n",
       "                                <td id=\"T_b5e58_row1_col0\" class=\"data row1 col0\" >CAR1257</td>\n",
       "                        <td id=\"T_b5e58_row1_col1\" class=\"data row1 col1\" >2</td>\n",
       "                        <td id=\"T_b5e58_row1_col2\" class=\"data row1 col2\" >7</td>\n",
       "                        <td id=\"T_b5e58_row1_col3\" class=\"data row1 col3\" >Sugar maple : 22.9%\n",
       "Yellow-poplar : 16.0%</td>\n",
       "                        <td id=\"T_b5e58_row1_col4\" class=\"data row1 col4\" >Hard maple / basswood : 13.3%\n",
       "Sugar maple / beech / yellow birch : 15.4%\n",
       "Yellow-poplar / white oak / northern red oak : 25.7%\n",
       "White oak / red oak / hickory : 29.8%</td>\n",
       "            </tr>\n",
       "            <tr>\n",
       "                                <td id=\"T_b5e58_row2_col0\" class=\"data row2 col0\" >ACR273</td>\n",
       "                        <td id=\"T_b5e58_row2_col1\" class=\"data row2 col1\" >25</td>\n",
       "                        <td id=\"T_b5e58_row2_col2\" class=\"data row2 col2\" >999</td>\n",
       "                        <td id=\"T_b5e58_row2_col3\" class=\"data row2 col3\" >Lodgepole pine : 20.4%\n",
       "Ponderosa pine : 60.1%</td>\n",
       "                        <td id=\"T_b5e58_row2_col4\" class=\"data row2 col4\" >Ponderosa pine : 87.2%</td>\n",
       "            </tr>\n",
       "            <tr>\n",
       "                                <td id=\"T_b5e58_row3_col0\" class=\"data row3 col0\" >ACR255</td>\n",
       "                        <td id=\"T_b5e58_row3_col1\" class=\"data row3 col1\" >22</td>\n",
       "                        <td id=\"T_b5e58_row3_col2\" class=\"data row3 col2\" >82</td>\n",
       "                        <td id=\"T_b5e58_row3_col3\" class=\"data row3 col3\" >Ponderosa pine : 44.8%\n",
       "Douglas fir : 44.3%</td>\n",
       "                        <td id=\"T_b5e58_row3_col4\" class=\"data row3 col4\" >Douglas fir : 43.4%\n",
       "Ponderosa pine : 55.8%</td>\n",
       "            </tr>\n",
       "            <tr>\n",
       "                                <td id=\"T_b5e58_row4_col0\" class=\"data row4 col0\" >ACR192</td>\n",
       "                        <td id=\"T_b5e58_row4_col1\" class=\"data row4 col1\" >4</td>\n",
       "                        <td id=\"T_b5e58_row4_col2\" class=\"data row4 col2\" >999</td>\n",
       "                        <td id=\"T_b5e58_row4_col3\" class=\"data row4 col3\" >Longleaf pine : 32.9%\n",
       "Loblolly pine : 19.3%\n",
       "Laurel oak : 18.6%</td>\n",
       "                        <td id=\"T_b5e58_row4_col4\" class=\"data row4 col4\" >Longleaf pine / oak : 15.1%\n",
       "Loblolly pine : 15.8%\n",
       "Longleaf pine : 63.7%</td>\n",
       "            </tr>\n",
       "            <tr>\n",
       "                                <td id=\"T_b5e58_row5_col0\" class=\"data row5 col0\" >ACR262</td>\n",
       "                        <td id=\"T_b5e58_row5_col1\" class=\"data row5 col1\" >79</td>\n",
       "                        <td id=\"T_b5e58_row5_col2\" class=\"data row5 col2\" >297</td>\n",
       "                        <td id=\"T_b5e58_row5_col3\" class=\"data row5 col3\" >Douglas fir : 35.0%\n",
       "Tanoak : 29.0%</td>\n",
       "                        <td id=\"T_b5e58_row5_col4\" class=\"data row5 col4\" >Douglas fir : 18.1%\n",
       "Tanoak : 72.8%</td>\n",
       "            </tr>\n",
       "            <tr>\n",
       "                                <td id=\"T_b5e58_row6_col0\" class=\"data row6 col0\" >ACR378</td>\n",
       "                        <td id=\"T_b5e58_row6_col1\" class=\"data row6 col1\" >79</td>\n",
       "                        <td id=\"T_b5e58_row6_col2\" class=\"data row6 col2\" >297</td>\n",
       "                        <td id=\"T_b5e58_row6_col3\" class=\"data row6 col3\" >Tanoak : 59.6%\n",
       "Douglas fir : 16.6%</td>\n",
       "                        <td id=\"T_b5e58_row6_col4\" class=\"data row6 col4\" >Tanoak : 99.1%</td>\n",
       "            </tr>\n",
       "            <tr>\n",
       "                                <td id=\"T_b5e58_row7_col0\" class=\"data row7 col0\" >ACR257</td>\n",
       "                        <td id=\"T_b5e58_row7_col1\" class=\"data row7 col1\" >32</td>\n",
       "                        <td id=\"T_b5e58_row7_col2\" class=\"data row7 col2\" >113</td>\n",
       "                        <td id=\"T_b5e58_row7_col3\" class=\"data row7 col3\" >Loblolly pine : 64.8%</td>\n",
       "                        <td id=\"T_b5e58_row7_col4\" class=\"data row7 col4\" >Loblolly pine : 92.2%</td>\n",
       "            </tr>\n",
       "            <tr>\n",
       "                                <td id=\"T_b5e58_row8_col0\" class=\"data row8 col0\" >ACR211</td>\n",
       "                        <td id=\"T_b5e58_row8_col1\" class=\"data row8 col1\" >95</td>\n",
       "                        <td id=\"T_b5e58_row8_col2\" class=\"data row8 col2\" >350</td>\n",
       "                        <td id=\"T_b5e58_row8_col3\" class=\"data row8 col3\" >Douglas fir : 25.0%\n",
       "None : 22.0%\n",
       "White fir : 17.0%</td>\n",
       "                        <td id=\"T_b5e58_row8_col4\" class=\"data row8 col4\" >Douglas fir : 90.3%</td>\n",
       "            </tr>\n",
       "            <tr>\n",
       "                                <td id=\"T_b5e58_row9_col0\" class=\"data row9 col0\" >CAR1103</td>\n",
       "                        <td id=\"T_b5e58_row9_col1\" class=\"data row9 col1\" >55</td>\n",
       "                        <td id=\"T_b5e58_row9_col2\" class=\"data row9 col2\" >221</td>\n",
       "                        <td id=\"T_b5e58_row9_col3\" class=\"data row9 col3\" >Douglas fir : 54.4%\n",
       "Tanoak : 16.6%</td>\n",
       "                        <td id=\"T_b5e58_row9_col4\" class=\"data row9 col4\" >Tanoak : 12.4%\n",
       "California mixed conifer : 21.2%\n",
       "Douglas fir : 56.1%</td>\n",
       "            </tr>\n",
       "    </tbody></table>"
      ],
      "text/plain": [
       "<pandas.io.formats.style.Styler at 0x13784d3a0>"
      ]
     },
     "execution_count": 21,
     "metadata": {},
     "output_type": "execute_result"
    }
   ],
   "source": [
    "df.sample(10).drop_duplicates().style.set_properties(**{'white-space': 'pre-wrap',}).hide_index()"
   ]
  }
 ],
 "metadata": {
  "kernelspec": {
   "display_name": "Python 3",
   "language": "python",
   "name": "python3"
  },
  "language_info": {
   "codemirror_mode": {
    "name": "ipython",
    "version": 3
   },
   "file_extension": ".py",
   "mimetype": "text/x-python",
   "name": "python",
   "nbconvert_exporter": "python",
   "pygments_lexer": "ipython3",
   "version": "3.8.6"
  }
 },
 "nbformat": 4,
 "nbformat_minor": 5
}
