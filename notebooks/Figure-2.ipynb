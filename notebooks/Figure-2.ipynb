{
 "cells": [
  {
   "cell_type": "markdown",
   "id": "neutral-monaco",
   "metadata": {},
   "source": [
    "# Retro — Figure 2\n"
   ]
  },
  {
   "cell_type": "code",
   "execution_count": 1,
   "id": "nasty-character",
   "metadata": {},
   "outputs": [],
   "source": [
    "import os\n",
    "import fsspec\n",
    "import json\n",
    "import pandas as pd\n",
    "import numpy as np\n",
    "import statsmodels.formula.api as smf\n",
    "import matplotlib.pyplot as plt"
   ]
  },
  {
   "cell_type": "markdown",
   "id": "inside-palestine",
   "metadata": {},
   "source": [
    "## Load the data\n"
   ]
  },
  {
   "cell_type": "code",
   "execution_count": 2,
   "id": "certain-implementation",
   "metadata": {},
   "outputs": [],
   "source": [
    "with fsspec.open(\n",
    "    \"https://carbonplan.blob.core.windows.net/carbonplan-retro/projects/retro-db-light-v1.0.json\",\n",
    "    \"r\",\n",
    ") as f:\n",
    "    db = json.load(f)\n",
    "db = list(filter(lambda x: ~(x[\"id\"] == \"ACR360\") & ~(x[\"id\"] == \"CAR1102\"), db))"
   ]
  },
  {
   "cell_type": "code",
   "execution_count": 3,
   "id": "certified-preservation",
   "metadata": {},
   "outputs": [],
   "source": [
    "projects = [\n",
    "    project\n",
    "    for project in db\n",
    "    if project[\"carbon\"][\"initial_carbon_stock\"][\"value\"]\n",
    "    > project[\"carbon\"][\"common_practice\"][\"value\"]\n",
    "]"
   ]
  },
  {
   "cell_type": "code",
   "execution_count": 4,
   "id": "close-export",
   "metadata": {},
   "outputs": [],
   "source": [
    "def get_summary_stats(data):\n",
    "    summary_d = {}\n",
    "    mod = smf.ols(\"cp~average_slag_baseline\", data=data).fit()\n",
    "    summary_d[\"slope\"] = mod.params[\"average_slag_baseline\"]\n",
    "\n",
    "    delta_slag = data[\"average_slag_baseline\"] - data[\"cp\"]\n",
    "    desc = delta_slag.describe()\n",
    "    summary_d[\"median_delta\"] = desc[\"50%\"]\n",
    "    summary_d[\"mean_delta\"] = desc[\"mean\"]\n",
    "    return summary_d"
   ]
  },
  {
   "cell_type": "markdown",
   "id": "proper-triple",
   "metadata": {},
   "source": [
    "Organize into a data frame\n"
   ]
  },
  {
   "cell_type": "code",
   "execution_count": 5,
   "id": "affected-round",
   "metadata": {},
   "outputs": [],
   "source": [
    "df = pd.DataFrame(\n",
    "    {\n",
    "        project[\"opr_id\"]: (\n",
    "            project[\"carbon\"][\"average_slag_baseline\"][\"value\"],\n",
    "            project[\"carbon\"][\"common_practice\"][\"value\"],\n",
    "        )\n",
    "        for project in projects\n",
    "    }\n",
    ").T.rename(columns={0: \"average_slag_baseline\", 1: \"cp\"})"
   ]
  },
  {
   "cell_type": "code",
   "execution_count": 6,
   "id": "cellular-abuse",
   "metadata": {},
   "outputs": [],
   "source": [
    "df = df.dropna()"
   ]
  },
  {
   "cell_type": "code",
   "execution_count": 7,
   "id": "smaller-quebec",
   "metadata": {},
   "outputs": [],
   "source": [
    "df.sort_values(by=[\"cp\"], inplace=True, ascending=False)"
   ]
  },
  {
   "cell_type": "markdown",
   "id": "piano-mortality",
   "metadata": {},
   "source": [
    "## Make the plot\n"
   ]
  },
  {
   "cell_type": "code",
   "execution_count": 8,
   "id": "billion-confidence",
   "metadata": {},
   "outputs": [
    {
     "data": {
      "text/plain": [
       "0.8923076923076924"
      ]
     },
     "execution_count": 8,
     "metadata": {},
     "output_type": "execute_result"
    }
   ],
   "source": [
    "np.sum(df['average_slag_baseline'] < 1.05 * df['cp']) / len(df)"
   ]
  },
  {
   "cell_type": "code",
   "execution_count": 9,
   "id": "pregnant-relation",
   "metadata": {},
   "outputs": [
    {
     "data": {
      "text/plain": [
       "1.983846153846154"
      ]
     },
     "execution_count": 9,
     "metadata": {},
     "output_type": "execute_result"
    }
   ],
   "source": [
    "np.mean(df['average_slag_baseline'] - df['cp'])"
   ]
  },
  {
   "cell_type": "code",
   "execution_count": 10,
   "id": "visible-separate",
   "metadata": {},
   "outputs": [
    {
     "data": {
      "text/plain": [
       "0.0"
      ]
     },
     "execution_count": 10,
     "metadata": {},
     "output_type": "execute_result"
    }
   ],
   "source": [
    "np.median(df['average_slag_baseline'] - df['cp'])"
   ]
  },
  {
   "cell_type": "code",
   "execution_count": 11,
   "id": "innocent-reference",
   "metadata": {},
   "outputs": [
    {
     "data": {
      "image/png": "[encoded data removed]",
      "text/plain": [
       "<Figure size 1296x288 with 1 Axes>"
      ]
     },
     "metadata": {
      "needs_background": "light"
     },
     "output_type": "display_data"
    }
   ],
   "source": [
    "plt.rcParams.update({\"font.size\": 14, \"svg.fonttype\": \"none\"})\n",
    "\n",
    "fig, ax = plt.subplots(1, 1, figsize=(18, 4))\n",
    "ax.vlines(df.index.values, 0, 200, color=(0.95, 0.95, 0.95), linewidth=1)\n",
    "ax.scatter(\n",
    "    df.index.values,\n",
    "    df[\"cp\"],\n",
    "    marker=\"_\",\n",
    "    s=200,\n",
    "    color=\".3\",\n",
    "    lw=1.5,\n",
    "    label=\"Common practice\",\n",
    "    zorder=10,\n",
    ")\n",
    "ax.plot(\n",
    "    df.index.values,\n",
    "    df[\"average_slag_baseline\"],\n",
    "    \".\",\n",
    "    markersize=12,\n",
    "    color=\"#7EB36A\",\n",
    "    label=\"Baseline average\",\n",
    "    zorder=11,\n",
    ")\n",
    "ax.set_ylim(-5, 200)\n",
    "ax.set_xticks(df.index.values)\n",
    "ax.set_xticklabels(df.index.values, rotation=\"vertical\")\n",
    "ax.spines[\"top\"].set_visible(False)\n",
    "ax.spines[\"left\"].set_visible(False)\n",
    "ax.spines[\"right\"].set_visible(False)\n",
    "ax.set_xlim(-1, 65)\n",
    "ax.spines[\"bottom\"].set_visible(False)\n",
    "ax.tick_params(axis=\"x\", which=\"major\", pad=3)\n",
    "\n",
    "ax.set_ylabel(\"Carbon\\n(tCO2e / acre)\")\n",
    "\n",
    "fname = \"Figure-2.svg\"\n",
    "if \"BLOB_ACCOUNT_KEY\" in os.environ:\n",
    "    with fsspec.open(\n",
    "        f\"az://carbonplan-retro/figures/raw/{fname}\",\n",
    "        \"w\",\n",
    "        account_name=\"carbonplan\",\n",
    "        account_key=os.environ[\"BLOB_ACCOUNT_KEY\"],\n",
    "    ) as f:\n",
    "        fig.savefig(f, format=\"svg\")\n",
    "else:\n",
    "    plt.savefig(fname)"
   ]
  }
 ],
 "metadata": {
  "kernelspec": {
   "display_name": "Python 3",
   "language": "python",
   "name": "python3"
  },
  "language_info": {
   "codemirror_mode": {
    "name": "ipython",
    "version": 3
   },
   "file_extension": ".py",
   "mimetype": "text/x-python",
   "name": "python",
   "nbconvert_exporter": "python",
   "pygments_lexer": "ipython3",
   "version": "3.8.6"
  }
 },
 "nbformat": 4,
 "nbformat_minor": 5
}
