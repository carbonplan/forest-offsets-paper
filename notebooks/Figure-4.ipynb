{
 "cells": [
  {
   "cell_type": "markdown",
   "id": "honey-crime",
   "metadata": {},
   "source": [
    "# Retro — Figure 4\n"
   ]
  },
  {
   "cell_type": "code",
   "execution_count": null,
   "id": "dynamic-syria",
   "metadata": {},
   "outputs": [],
   "source": [
    "import os\n",
    "import fsspec\n",
    "import json\n",
    "import geopandas\n",
    "import matplotlib as mpl\n",
    "import matplotlib.pyplot as plt\n",
    "import numpy as np\n",
    "from matplotlib.colors import ListedColormap\n",
    "from mpl_toolkits.axes_grid1.inset_locator import inset_axes\n",
    "from shapely.geometry import Point\n",
    "\n",
    "\n",
    "crs = \"+proj=aea +lat_0=23 +lon_0=-96 +lat_1=29.5 +lat_2=45.5 +x_0=0 +y_0=0 +datum=WGS84 +units=m +no_defs=True\""
   ]
  },
  {
   "cell_type": "code",
   "execution_count": null,
   "id": "dynamic-habitat",
   "metadata": {},
   "outputs": [],
   "source": [
    "## Load the data\n",
    "\n",
    "with fsspec.open(\n",
    "    \"https://carbonplan.blob.core.windows.net/carbonplan-retro/projects/retro-db-light-v1.0.json\",\n",
    "    \"r\",\n",
    ") as f:\n",
    "    db = json.load(f)"
   ]
  },
  {
   "cell_type": "code",
   "execution_count": null,
   "id": "romance-neighbor",
   "metadata": {},
   "outputs": [],
   "source": [
    "ecomap_sections = geopandas.read_file(\n",
    "    \"https://data.fs.usda.gov/geodata/edw/edw_resources/shp/S_USA.EcomapSections.zip\"\n",
    ").to_crs(\"epsg:4326\")"
   ]
  },
  {
   "cell_type": "code",
   "execution_count": null,
   "id": "corresponding-nature",
   "metadata": {},
   "outputs": [],
   "source": [
    "arbitrage_df = geopandas.read_file(\n",
    "    \"https://carbonplan.blob.core.windows.net/carbonplan-retro/arbitrage/prism-supersections/79.json\"\n",
    ")"
   ]
  },
  {
   "cell_type": "code",
   "execution_count": null,
   "id": "accepting-major",
   "metadata": {},
   "outputs": [],
   "source": [
    "states = geopandas.read_file(\n",
    "    \"https://carbonplan.blob.core.windows.net/carbonplan-retro/ancillary/ne_110m_admin_1_states_provinces.json\"\n",
    ")"
   ]
  },
  {
   "cell_type": "code",
   "execution_count": null,
   "id": "mature-demographic",
   "metadata": {},
   "outputs": [],
   "source": [
    "ecosections = [\"M261A\", \"M261B\", \"M261D\"]"
   ]
  },
  {
   "cell_type": "code",
   "execution_count": null,
   "id": "constitutional-russell",
   "metadata": {},
   "outputs": [],
   "source": [
    "proj_centroids = {\n",
    "    project[\"opr_id\"]: Point(project[\"shape_centroid\"][0][0], project[\"shape_centroid\"][0][1])\n",
    "    for project in db\n",
    "    if (79 in project[\"supersection_ids\"])\n",
    "    and (\n",
    "        project[\"carbon\"][\"initial_carbon_stock\"][\"value\"]\n",
    "        > project[\"carbon\"][\"common_practice\"][\"value\"]\n",
    "    )\n",
    "    # and (project['opr_id'] != 'CAR1102')\n",
    "}"
   ]
  },
  {
   "cell_type": "code",
   "execution_count": null,
   "id": "earlier-russell",
   "metadata": {},
   "outputs": [],
   "source": [
    "proj_points = geopandas.GeoDataFrame(\n",
    "    data=list(proj_centroids.keys()), geometry=list(proj_centroids.values()), crs=\"epsg:4326\"\n",
    ")"
   ]
  },
  {
   "cell_type": "code",
   "execution_count": null,
   "id": "increased-drive",
   "metadata": {},
   "outputs": [],
   "source": [
    "conus = [\n",
    "    \"AL\",\n",
    "    \"AZ\",\n",
    "    \"AR\",\n",
    "    \"CA\",\n",
    "    \"CO\",\n",
    "    \"CT\",\n",
    "    \"DE\",\n",
    "    \"FL\",\n",
    "    \"GA\",\n",
    "    \"ID\",\n",
    "    \"IL\",\n",
    "    \"IN\",\n",
    "    \"IA\",\n",
    "    \"KS\",\n",
    "    \"KY\",\n",
    "    \"LA\",\n",
    "    \"ME\",\n",
    "    \"MD\",\n",
    "    \"MA\",\n",
    "    \"MI\",\n",
    "    \"MN\",\n",
    "    \"MS\",\n",
    "    \"MO\",\n",
    "    \"MT\",\n",
    "    \"NE\",\n",
    "    \"NV\",\n",
    "    \"NH\",\n",
    "    \"NJ\",\n",
    "    \"NM\",\n",
    "    \"NY\",\n",
    "    \"NC\",\n",
    "    \"ND\",\n",
    "    \"OH\",\n",
    "    \"OK\",\n",
    "    \"OR\",\n",
    "    \"PA\",\n",
    "    \"RI\",\n",
    "    \"SC\",\n",
    "    \"SD\",\n",
    "    \"TN\",\n",
    "    \"TX\",\n",
    "    \"UT\",\n",
    "    \"VT\",\n",
    "    \"VA\",\n",
    "    \"WA\",\n",
    "    \"WV\",\n",
    "    \"WI\",\n",
    "    \"WY\",\n",
    "]\n",
    "states = states.loc[states[\"postal\"].isin(conus)]\n",
    "outline_states = states.dissolve(\"adm0_a3\")\n",
    "\n",
    "sub_states = states.loc[states[\"postal\"].isin([\"CA\", \"OR\"])]"
   ]
  },
  {
   "cell_type": "code",
   "execution_count": null,
   "id": "improved-latitude",
   "metadata": {},
   "outputs": [],
   "source": [
    "arbitrage_df.mean_local_slag.mean()"
   ]
  },
  {
   "cell_type": "code",
   "execution_count": null,
   "id": "broke-delicious",
   "metadata": {},
   "outputs": [],
   "source": [
    "vmin, vmax = arbitrage_df.mean_local_slag.quantile(0.025), arbitrage_df.mean_local_slag.quantile(\n",
    "    0.975\n",
    ")\n",
    "\n",
    "norm = mpl.colors.Normalize(vmin, vmax)"
   ]
  },
  {
   "cell_type": "code",
   "execution_count": null,
   "id": "collective-tyler",
   "metadata": {},
   "outputs": [],
   "source": [
    "rfia_mean = 119.05\n",
    "slag_per_section = {\n",
    "    \"M261B\": 150.5 - rfia_mean,\n",
    "    \"M261A\": 120.6 - rfia_mean,\n",
    "    \"M261D\": 95.2 - rfia_mean,\n",
    "}"
   ]
  },
  {
   "cell_type": "code",
   "execution_count": null,
   "id": "maritime-sullivan",
   "metadata": {},
   "outputs": [],
   "source": [
    "def make_colormap():\n",
    "    N = 256\n",
    "    vals1 = np.ones((N, 4))\n",
    "    vals1[:, 0] = np.linspace(126 / 256, 1, N)\n",
    "    vals1[:, 1] = np.linspace(179 / 256, 1, N)\n",
    "    vals1[:, 2] = np.linspace(106 / 256, 1, N)\n",
    "    vals2 = np.ones((N, 4))\n",
    "    vals2[:, 0] = np.linspace(128 / 256, 1, N)\n",
    "    vals2[:, 1] = np.linspace(128 / 256, 1, N)\n",
    "    vals2[:, 2] = np.linspace(128 / 256, 1, N)\n",
    "    return mpl.colors.ListedColormap(np.concatenate([vals2, vals1[::-1]]))"
   ]
  },
  {
   "cell_type": "code",
   "execution_count": null,
   "id": "above-tablet",
   "metadata": {},
   "outputs": [],
   "source": [
    "cp_cm = make_colormap()\n",
    "ecomap_colors = cp_cm(norm(list(slag_per_section.values())))\n",
    "ecomap_cmap = ListedColormap(ecomap_colors[::-1], name=\"ecomap\")"
   ]
  },
  {
   "cell_type": "code",
   "execution_count": null,
   "id": "plain-allah",
   "metadata": {},
   "outputs": [],
   "source": [
    "supersection_sections = (\n",
    "    ecomap_sections.loc[ecomap_sections[\"MAP_UNIT_S\"].isin(ecosections)].to_crs(crs).copy()\n",
    ")\n",
    "supersection_sections[\"slag\"] = supersection_sections[\"MAP_UNIT_S\"].map(slag_per_section)\n",
    "supersection_outline = supersection_sections.dissolve(\"PROJECT\")"
   ]
  },
  {
   "cell_type": "code",
   "execution_count": null,
   "id": "desirable-catalog",
   "metadata": {},
   "outputs": [],
   "source": [
    "fig, ax = plt.subplots(1, 2, figsize=(7, 7))\n",
    "\n",
    "\n",
    "left, bottom, width, height = 0.3, 0.1, 0.025, 0.15\n",
    "cax = fig.add_axes([left, bottom, width, height])\n",
    "\n",
    "arbitrage_df.to_crs(crs).plot(\n",
    "    \"delta_slag\",\n",
    "    markersize=4.5,\n",
    "    ax=ax[0],\n",
    "    cmap=cp_cm,\n",
    "    legend=True,\n",
    "    cax=cax,\n",
    "    vmin=-55,\n",
    "    vmax=55,\n",
    "    legend_kwds={\"label\": \"\", \"orientation\": \"vertical\"},\n",
    ")\n",
    "cax.set_ylabel(\"$\\Delta$ Carbon\\n(tCO2e / acre)\", loc=\"center\", labelpad=-75, fontsize=12)\n",
    "cax.yaxis.set_ticks_position(\"none\")\n",
    "\n",
    "proj_points.to_crs(crs).plot(ax=ax[0], marker=\"^\", color=\"k\", markersize=100, edgecolor=None)\n",
    "supersection_outline.plot(ax=ax[0], edgecolor=\"k\", lw=0.2, color=\"None\")\n",
    "\n",
    "supersection_sections.plot(\n",
    "    column=\"slag\",\n",
    "    ax=ax[1],\n",
    "    edgecolor=\"k\",\n",
    "    lw=0.2,\n",
    "    cmap=cp_cm,\n",
    "    vmin=-55,\n",
    "    vmax=55,\n",
    ")\n",
    "proj_points.to_crs(crs).plot(ax=ax[1], marker=\"^\", color=\"k\", markersize=100, edgecolor=None)\n",
    "\n",
    "\n",
    "xys = {\"M261D\": (0.7, 0.25), \"M261A\": (0.15, 0.8), \"M261B\": (0.4, 0.15)}\n",
    "xyoffsets = {\n",
    "    \"M261D\": (50, -30),\n",
    "    \"M261A\": (-50, 30),\n",
    "    \"M261B\": (50, -30),\n",
    "}\n",
    "connections = {\n",
    "    \"M261D\": \"angle,angleA=0,angleB=-45,rad=1\",\n",
    "    \"M261A\": \"angle,angleA=0,angleB=-45\",\n",
    "    \"M261B\": \"angle,angleA=0,angleB=-45,rad=1\",\n",
    "}\n",
    "\n",
    "\n",
    "for key in xys.keys():\n",
    "\n",
    "    ax[1].annotate(\n",
    "        text=key,\n",
    "        xy=xys[key],\n",
    "        annotation_clip=False,\n",
    "        xycoords=\"axes fraction\",\n",
    "        fontsize=14,\n",
    "        xytext=xyoffsets[key],\n",
    "        textcoords=\"offset points\",\n",
    "        arrowprops=dict(arrowstyle=\"-\", connectionstyle=connections[key]),\n",
    "    )\n",
    "width = 4.5\n",
    "inset = inset_axes(\n",
    "    ax[1],\n",
    "    width=width,\n",
    "    height=width / 2,\n",
    "    bbox_to_anchor=(1.8, 0.65, 0.55, 0.275),\n",
    "    bbox_transform=ax[1].transAxes,\n",
    ")\n",
    "outline_states.to_crs(crs).plot(ax=inset, color=\"None\", edgecolor=\".8\")\n",
    "supersection_sections.to_crs(crs).plot(ax=inset, color=\".1\", alpha=0.55)\n",
    "inset.axes.set_axis_off()\n",
    "\n",
    "inset_2 = inset_axes(\n",
    "    ax[1],\n",
    "    width=4 / 3,\n",
    "    height=4,\n",
    "    bbox_to_anchor=(1.1, 0.4, 0.75, 0.25),\n",
    "    bbox_transform=ax[1].transAxes,\n",
    ")\n",
    "sub_states.to_crs(crs).plot(ax=inset_2, color=\"None\", edgecolor=\".8\")\n",
    "supersection_sections.to_crs(crs).plot(ax=inset_2, color=\".1\", alpha=0.55)\n",
    "\n",
    "inset_2.axes.set_axis_off()\n",
    "\n",
    "ax[0].set_axis_off()\n",
    "ax[1].set_axis_off()\n",
    "\n",
    "for a, text in zip(ax, [\"A\", \"B\"]):\n",
    "    a.annotate(text, xy=(0, 0.95), xycoords=\"axes fraction\", fontsize=18)\n",
    "\n",
    "fig.tight_layout()\n",
    "\n",
    "fname = \"Figure-4.svg\"\n",
    "if \"BLOB_ACCOUNT_KEY\" in os.environ:\n",
    "    with fsspec.open(\n",
    "        f\"az://carbonplan-retro/figures/raw/{fname}\",\n",
    "        \"w\",\n",
    "        account_name=\"carbonplan\",\n",
    "        account_key=os.environ[\"BLOB_ACCOUNT_KEY\"],\n",
    "    ) as f:\n",
    "        fig.savefig(f, format=\"svg\", dpi=300, bbox_inches=\"tight\")\n",
    "else:\n",
    "    plt.savefig(fname, dpi=300, bbox_inches=\"svg\")"
   ]
  }
 ],
 "metadata": {
  "kernelspec": {
   "display_name": "Python 3",
   "language": "python",
   "name": "python3"
  },
  "language_info": {
   "codemirror_mode": {
    "name": "ipython",
    "version": 3
   },
   "file_extension": ".py",
   "mimetype": "text/x-python",
   "name": "python",
   "nbconvert_exporter": "python",
   "pygments_lexer": "ipython3",
   "version": "3.9.2"
  }
 },
 "nbformat": 4,
 "nbformat_minor": 5
}
