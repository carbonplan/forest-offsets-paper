{
 "cells": [
  {
   "cell_type": "markdown",
   "id": "relative-vietnamese",
   "metadata": {},
   "source": [
    "# Retro - Supplementary Table 1\n"
   ]
  },
  {
   "cell_type": "code",
   "execution_count": 1,
   "id": "civil-copying",
   "metadata": {},
   "outputs": [],
   "source": [
    "import os\n",
    "import fsspec\n",
    "import json\n",
    "import pandas as pd\n",
    "import numpy as np\n",
    "import random\n",
    "import matplotlib.pyplot as plt"
   ]
  },
  {
   "cell_type": "markdown",
   "id": "physical-anniversary",
   "metadata": {},
   "source": [
    "## Load the data\n"
   ]
  },
  {
   "cell_type": "code",
   "execution_count": 2,
   "id": "compatible-defeat",
   "metadata": {},
   "outputs": [],
   "source": [
    "with fsspec.open(\n",
    "    \"https://carbonplan.blob.core.windows.net/carbonplan-retro/reclassification/classifier_fscores.json\",\n",
    "    \"r\",\n",
    ") as f:\n",
    "    data = json.load(f)"
   ]
  },
  {
   "cell_type": "markdown",
   "id": "together-jacket",
   "metadata": {},
   "source": [
    "## Plot the table\n"
   ]
  },
  {
   "cell_type": "code",
   "execution_count": 3,
   "id": "tired-magnet",
   "metadata": {},
   "outputs": [],
   "source": [
    "df = pd.DataFrame()\n",
    "df[\"Supersection\"] = data.keys()\n",
    "df[\"Weighted F1-Score\"] = [str(round(data[key][0], 2)) for key in data.keys()]"
   ]
  },
  {
   "cell_type": "code",
   "execution_count": 4,
   "id": "prerequisite-gross",
   "metadata": {},
   "outputs": [
    {
     "data": {
      "text/html": [
       "<style  type=\"text/css\" >\n",
       "#T_71fb6d42_9dfd_11eb_92f7_784f436cff73row0_col0,#T_71fb6d42_9dfd_11eb_92f7_784f436cff73row0_col1,#T_71fb6d42_9dfd_11eb_92f7_784f436cff73row1_col0,#T_71fb6d42_9dfd_11eb_92f7_784f436cff73row1_col1,#T_71fb6d42_9dfd_11eb_92f7_784f436cff73row2_col0,#T_71fb6d42_9dfd_11eb_92f7_784f436cff73row2_col1,#T_71fb6d42_9dfd_11eb_92f7_784f436cff73row3_col0,#T_71fb6d42_9dfd_11eb_92f7_784f436cff73row3_col1,#T_71fb6d42_9dfd_11eb_92f7_784f436cff73row4_col0,#T_71fb6d42_9dfd_11eb_92f7_784f436cff73row4_col1,#T_71fb6d42_9dfd_11eb_92f7_784f436cff73row5_col0,#T_71fb6d42_9dfd_11eb_92f7_784f436cff73row5_col1,#T_71fb6d42_9dfd_11eb_92f7_784f436cff73row6_col0,#T_71fb6d42_9dfd_11eb_92f7_784f436cff73row6_col1,#T_71fb6d42_9dfd_11eb_92f7_784f436cff73row7_col0,#T_71fb6d42_9dfd_11eb_92f7_784f436cff73row7_col1,#T_71fb6d42_9dfd_11eb_92f7_784f436cff73row8_col0,#T_71fb6d42_9dfd_11eb_92f7_784f436cff73row8_col1,#T_71fb6d42_9dfd_11eb_92f7_784f436cff73row9_col0,#T_71fb6d42_9dfd_11eb_92f7_784f436cff73row9_col1,#T_71fb6d42_9dfd_11eb_92f7_784f436cff73row10_col0,#T_71fb6d42_9dfd_11eb_92f7_784f436cff73row10_col1,#T_71fb6d42_9dfd_11eb_92f7_784f436cff73row11_col0,#T_71fb6d42_9dfd_11eb_92f7_784f436cff73row11_col1,#T_71fb6d42_9dfd_11eb_92f7_784f436cff73row12_col0,#T_71fb6d42_9dfd_11eb_92f7_784f436cff73row12_col1,#T_71fb6d42_9dfd_11eb_92f7_784f436cff73row13_col0,#T_71fb6d42_9dfd_11eb_92f7_784f436cff73row13_col1,#T_71fb6d42_9dfd_11eb_92f7_784f436cff73row14_col0,#T_71fb6d42_9dfd_11eb_92f7_784f436cff73row14_col1,#T_71fb6d42_9dfd_11eb_92f7_784f436cff73row15_col0,#T_71fb6d42_9dfd_11eb_92f7_784f436cff73row15_col1,#T_71fb6d42_9dfd_11eb_92f7_784f436cff73row16_col0,#T_71fb6d42_9dfd_11eb_92f7_784f436cff73row16_col1,#T_71fb6d42_9dfd_11eb_92f7_784f436cff73row17_col0,#T_71fb6d42_9dfd_11eb_92f7_784f436cff73row17_col1,#T_71fb6d42_9dfd_11eb_92f7_784f436cff73row18_col0,#T_71fb6d42_9dfd_11eb_92f7_784f436cff73row18_col1{\n",
       "            white-space:  pre-wrap;\n",
       "        }</style><table id=\"T_71fb6d42_9dfd_11eb_92f7_784f436cff73\" ><thead>    <tr>        <th class=\"col_heading level0 col0\" >Supersection</th>        <th class=\"col_heading level0 col1\" >Weighted F1-Score</th>    </tr></thead><tbody>\n",
       "                <tr>\n",
       "                                <td id=\"T_71fb6d42_9dfd_11eb_92f7_784f436cff73row0_col0\" class=\"data row0 col0\" >Gulf Coastal Plain</td>\n",
       "                        <td id=\"T_71fb6d42_9dfd_11eb_92f7_784f436cff73row0_col1\" class=\"data row0 col1\" >0.74</td>\n",
       "            </tr>\n",
       "            <tr>\n",
       "                                <td id=\"T_71fb6d42_9dfd_11eb_92f7_784f436cff73row1_col0\" class=\"data row1 col0\" >Northern California Coast</td>\n",
       "                        <td id=\"T_71fb6d42_9dfd_11eb_92f7_784f436cff73row1_col1\" class=\"data row1 col1\" >0.75</td>\n",
       "            </tr>\n",
       "            <tr>\n",
       "                                <td id=\"T_71fb6d42_9dfd_11eb_92f7_784f436cff73row2_col0\" class=\"data row2 col0\" >Southern Cascades</td>\n",
       "                        <td id=\"T_71fb6d42_9dfd_11eb_92f7_784f436cff73row2_col1\" class=\"data row2 col1\" >0.82</td>\n",
       "            </tr>\n",
       "            <tr>\n",
       "                                <td id=\"T_71fb6d42_9dfd_11eb_92f7_784f436cff73row3_col0\" class=\"data row3 col0\" >Laurentian Mixed Forest Northern Highlands</td>\n",
       "                        <td id=\"T_71fb6d42_9dfd_11eb_92f7_784f436cff73row3_col1\" class=\"data row3 col1\" >0.77</td>\n",
       "            </tr>\n",
       "            <tr>\n",
       "                                <td id=\"T_71fb6d42_9dfd_11eb_92f7_784f436cff73row4_col0\" class=\"data row4 col0\" >Adirondacks & Green Mountains</td>\n",
       "                        <td id=\"T_71fb6d42_9dfd_11eb_92f7_784f436cff73row4_col1\" class=\"data row4 col1\" >0.74</td>\n",
       "            </tr>\n",
       "            <tr>\n",
       "                                <td id=\"T_71fb6d42_9dfd_11eb_92f7_784f436cff73row5_col0\" class=\"data row5 col0\" >St Lawrence & Mohawk Valley</td>\n",
       "                        <td id=\"T_71fb6d42_9dfd_11eb_92f7_784f436cff73row5_col1\" class=\"data row5 col1\" >0.76</td>\n",
       "            </tr>\n",
       "            <tr>\n",
       "                                <td id=\"T_71fb6d42_9dfd_11eb_92f7_784f436cff73row6_col0\" class=\"data row6 col0\" >Okanogan Highland</td>\n",
       "                        <td id=\"T_71fb6d42_9dfd_11eb_92f7_784f436cff73row6_col1\" class=\"data row6 col1\" >0.88</td>\n",
       "            </tr>\n",
       "            <tr>\n",
       "                                <td id=\"T_71fb6d42_9dfd_11eb_92f7_784f436cff73row7_col0\" class=\"data row7 col0\" >Columbia Basin</td>\n",
       "                        <td id=\"T_71fb6d42_9dfd_11eb_92f7_784f436cff73row7_col1\" class=\"data row7 col1\" >0.89</td>\n",
       "            </tr>\n",
       "            <tr>\n",
       "                                <td id=\"T_71fb6d42_9dfd_11eb_92f7_784f436cff73row8_col0\" class=\"data row8 col0\" >White Mountains - San Francisco Peaks - Mongollon</td>\n",
       "                        <td id=\"T_71fb6d42_9dfd_11eb_92f7_784f436cff73row8_col1\" class=\"data row8 col1\" >0.93</td>\n",
       "            </tr>\n",
       "            <tr>\n",
       "                                <td id=\"T_71fb6d42_9dfd_11eb_92f7_784f436cff73row9_col0\" class=\"data row9 col0\" >Lower New England - Northern Appalachia</td>\n",
       "                        <td id=\"T_71fb6d42_9dfd_11eb_92f7_784f436cff73row9_col1\" class=\"data row9 col1\" >0.73</td>\n",
       "            </tr>\n",
       "            <tr>\n",
       "                                <td id=\"T_71fb6d42_9dfd_11eb_92f7_784f436cff73row10_col0\" class=\"data row10 col0\" >Central New Mexico</td>\n",
       "                        <td id=\"T_71fb6d42_9dfd_11eb_92f7_784f436cff73row10_col1\" class=\"data row10 col1\" >0.94</td>\n",
       "            </tr>\n",
       "            <tr>\n",
       "                                <td id=\"T_71fb6d42_9dfd_11eb_92f7_784f436cff73row11_col0\" class=\"data row11 col0\" >Northwest Cascades</td>\n",
       "                        <td id=\"T_71fb6d42_9dfd_11eb_92f7_784f436cff73row11_col1\" class=\"data row11 col1\" >0.87</td>\n",
       "            </tr>\n",
       "            <tr>\n",
       "                                <td id=\"T_71fb6d42_9dfd_11eb_92f7_784f436cff73row12_col0\" class=\"data row12 col0\" >Allegheny & North Cumberland Mountains</td>\n",
       "                        <td id=\"T_71fb6d42_9dfd_11eb_92f7_784f436cff73row12_col1\" class=\"data row12 col1\" >0.69</td>\n",
       "            </tr>\n",
       "            <tr>\n",
       "                                <td id=\"T_71fb6d42_9dfd_11eb_92f7_784f436cff73row13_col0\" class=\"data row13 col0\" >Southern Allegheny Plateau</td>\n",
       "                        <td id=\"T_71fb6d42_9dfd_11eb_92f7_784f436cff73row13_col1\" class=\"data row13 col1\" >0.68</td>\n",
       "            </tr>\n",
       "            <tr>\n",
       "                                <td id=\"T_71fb6d42_9dfd_11eb_92f7_784f436cff73row14_col0\" class=\"data row14 col0\" >Laurentian Mixed Forest Southern Superior</td>\n",
       "                        <td id=\"T_71fb6d42_9dfd_11eb_92f7_784f436cff73row14_col1\" class=\"data row14 col1\" >0.79</td>\n",
       "            </tr>\n",
       "            <tr>\n",
       "                                <td id=\"T_71fb6d42_9dfd_11eb_92f7_784f436cff73row15_col0\" class=\"data row15 col0\" >Eastern Broadleaf Forest Cumberland Plateau</td>\n",
       "                        <td id=\"T_71fb6d42_9dfd_11eb_92f7_784f436cff73row15_col1\" class=\"data row15 col1\" >0.69</td>\n",
       "            </tr>\n",
       "            <tr>\n",
       "                                <td id=\"T_71fb6d42_9dfd_11eb_92f7_784f436cff73row16_col0\" class=\"data row16 col0\" >White Mountains</td>\n",
       "                        <td id=\"T_71fb6d42_9dfd_11eb_92f7_784f436cff73row16_col1\" class=\"data row16 col1\" >0.78</td>\n",
       "            </tr>\n",
       "            <tr>\n",
       "                                <td id=\"T_71fb6d42_9dfd_11eb_92f7_784f436cff73row17_col0\" class=\"data row17 col0\" >Maine - New Brunswick Foothills and Lowlands</td>\n",
       "                        <td id=\"T_71fb6d42_9dfd_11eb_92f7_784f436cff73row17_col1\" class=\"data row17 col1\" >0.78</td>\n",
       "            </tr>\n",
       "            <tr>\n",
       "                                <td id=\"T_71fb6d42_9dfd_11eb_92f7_784f436cff73row18_col0\" class=\"data row18 col0\" >Southeast and South Central Alaska</td>\n",
       "                        <td id=\"T_71fb6d42_9dfd_11eb_92f7_784f436cff73row18_col1\" class=\"data row18 col1\" >0.91</td>\n",
       "            </tr>\n",
       "    </tbody></table>"
      ],
      "text/plain": [
       "<pandas.io.formats.style.Styler at 0x7fc75887ba90>"
      ]
     },
     "execution_count": 4,
     "metadata": {},
     "output_type": "execute_result"
    }
   ],
   "source": [
    "df.style.set_properties(\n",
    "    **{\n",
    "        \"white-space\": \"pre-wrap\",\n",
    "    }\n",
    ").hide_index()"
   ]
  }
 ],
 "metadata": {
  "kernelspec": {
   "display_name": "Python 3",
   "language": "python",
   "name": "python3"
  },
  "language_info": {
   "codemirror_mode": {
    "name": "ipython",
    "version": 3
   },
   "file_extension": ".py",
   "mimetype": "text/x-python",
   "name": "python",
   "nbconvert_exporter": "python",
   "pygments_lexer": "ipython3",
   "version": "3.7.8"
  }
 },
 "nbformat": 4,
 "nbformat_minor": 5
}
