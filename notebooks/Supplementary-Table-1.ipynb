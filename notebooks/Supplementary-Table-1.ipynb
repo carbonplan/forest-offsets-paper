{
 "cells": [
  {
   "cell_type": "markdown",
   "id": "96424877",
   "metadata": {},
   "source": [
    "# Forest Offsets Paper - Supplementary Table 1\n"
   ]
  },
  {
   "cell_type": "code",
   "execution_count": 1,
   "id": "7acc1352",
   "metadata": {},
   "outputs": [],
   "source": [
    "import json\n",
    "import os\n",
    "import random\n",
    "\n",
    "import fsspec\n",
    "import matplotlib.pyplot as plt\n",
    "import numpy as np\n",
    "import pandas as pd"
   ]
  },
  {
   "cell_type": "markdown",
   "id": "145e13a2",
   "metadata": {},
   "source": [
    "## Load the data\n"
   ]
  },
  {
   "cell_type": "code",
   "execution_count": null,
   "id": "700c2753",
   "metadata": {},
   "outputs": [],
   "source": [
    "with fsspec.open(\n",
    "    \"https://carbonplan-forests.s3.us-west-2.amazonaws.com/offsets/archive/results/classifier_fscores.json\",\n",
    "    \"r\",\n",
    ") as f:\n",
    "    data = json.load(f)"
   ]
  },
  {
   "cell_type": "markdown",
   "id": "27af1f78",
   "metadata": {},
   "source": [
    "## Plot the table\n"
   ]
  },
  {
   "cell_type": "code",
   "execution_count": 3,
   "id": "2b6ae158",
   "metadata": {},
   "outputs": [],
   "source": [
    "df = pd.DataFrame()\n",
    "df[\"Supersection\"] = data.keys()\n",
    "df[\"Weighted F1-Score\"] = [str(round(data[key][0], 2)) for key in data.keys()]"
   ]
  },
  {
   "cell_type": "code",
   "execution_count": 4,
   "id": "fd3c8c7c",
   "metadata": {},
   "outputs": [
    {
     "data": {
      "text/html": [
       "<style  type=\"text/css\" >\n",
       "#T_a348f_row0_col0,#T_a348f_row0_col1,#T_a348f_row1_col0,#T_a348f_row1_col1,#T_a348f_row2_col0,#T_a348f_row2_col1,#T_a348f_row3_col0,#T_a348f_row3_col1,#T_a348f_row4_col0,#T_a348f_row4_col1,#T_a348f_row5_col0,#T_a348f_row5_col1,#T_a348f_row6_col0,#T_a348f_row6_col1,#T_a348f_row7_col0,#T_a348f_row7_col1,#T_a348f_row8_col0,#T_a348f_row8_col1,#T_a348f_row9_col0,#T_a348f_row9_col1,#T_a348f_row10_col0,#T_a348f_row10_col1,#T_a348f_row11_col0,#T_a348f_row11_col1,#T_a348f_row12_col0,#T_a348f_row12_col1,#T_a348f_row13_col0,#T_a348f_row13_col1,#T_a348f_row14_col0,#T_a348f_row14_col1,#T_a348f_row15_col0,#T_a348f_row15_col1,#T_a348f_row16_col0,#T_a348f_row16_col1,#T_a348f_row17_col0,#T_a348f_row17_col1,#T_a348f_row18_col0,#T_a348f_row18_col1{\n",
       "            white-space:  pre-wrap;\n",
       "        }</style><table id=\"T_a348f_\" ><thead>    <tr>        <th class=\"col_heading level0 col0\" >Supersection</th>        <th class=\"col_heading level0 col1\" >Weighted F1-Score</th>    </tr></thead><tbody>\n",
       "                <tr>\n",
       "                                <td id=\"T_a348f_row0_col0\" class=\"data row0 col0\" >Gulf Coastal Plain</td>\n",
       "                        <td id=\"T_a348f_row0_col1\" class=\"data row0 col1\" >0.74</td>\n",
       "            </tr>\n",
       "            <tr>\n",
       "                                <td id=\"T_a348f_row1_col0\" class=\"data row1 col0\" >Northern California Coast</td>\n",
       "                        <td id=\"T_a348f_row1_col1\" class=\"data row1 col1\" >0.75</td>\n",
       "            </tr>\n",
       "            <tr>\n",
       "                                <td id=\"T_a348f_row2_col0\" class=\"data row2 col0\" >Southern Cascades</td>\n",
       "                        <td id=\"T_a348f_row2_col1\" class=\"data row2 col1\" >0.82</td>\n",
       "            </tr>\n",
       "            <tr>\n",
       "                                <td id=\"T_a348f_row3_col0\" class=\"data row3 col0\" >Laurentian Mixed Forest Northern Highlands</td>\n",
       "                        <td id=\"T_a348f_row3_col1\" class=\"data row3 col1\" >0.77</td>\n",
       "            </tr>\n",
       "            <tr>\n",
       "                                <td id=\"T_a348f_row4_col0\" class=\"data row4 col0\" >Adirondacks & Green Mountains</td>\n",
       "                        <td id=\"T_a348f_row4_col1\" class=\"data row4 col1\" >0.74</td>\n",
       "            </tr>\n",
       "            <tr>\n",
       "                                <td id=\"T_a348f_row5_col0\" class=\"data row5 col0\" >St Lawrence & Mohawk Valley</td>\n",
       "                        <td id=\"T_a348f_row5_col1\" class=\"data row5 col1\" >0.76</td>\n",
       "            </tr>\n",
       "            <tr>\n",
       "                                <td id=\"T_a348f_row6_col0\" class=\"data row6 col0\" >Okanogan Highland</td>\n",
       "                        <td id=\"T_a348f_row6_col1\" class=\"data row6 col1\" >0.88</td>\n",
       "            </tr>\n",
       "            <tr>\n",
       "                                <td id=\"T_a348f_row7_col0\" class=\"data row7 col0\" >Columbia Basin</td>\n",
       "                        <td id=\"T_a348f_row7_col1\" class=\"data row7 col1\" >0.89</td>\n",
       "            </tr>\n",
       "            <tr>\n",
       "                                <td id=\"T_a348f_row8_col0\" class=\"data row8 col0\" >White Mountains - San Francisco Peaks - Mongollon</td>\n",
       "                        <td id=\"T_a348f_row8_col1\" class=\"data row8 col1\" >0.93</td>\n",
       "            </tr>\n",
       "            <tr>\n",
       "                                <td id=\"T_a348f_row9_col0\" class=\"data row9 col0\" >Lower New England - Northern Appalachia</td>\n",
       "                        <td id=\"T_a348f_row9_col1\" class=\"data row9 col1\" >0.73</td>\n",
       "            </tr>\n",
       "            <tr>\n",
       "                                <td id=\"T_a348f_row10_col0\" class=\"data row10 col0\" >Central New Mexico</td>\n",
       "                        <td id=\"T_a348f_row10_col1\" class=\"data row10 col1\" >0.94</td>\n",
       "            </tr>\n",
       "            <tr>\n",
       "                                <td id=\"T_a348f_row11_col0\" class=\"data row11 col0\" >Northwest Cascades</td>\n",
       "                        <td id=\"T_a348f_row11_col1\" class=\"data row11 col1\" >0.87</td>\n",
       "            </tr>\n",
       "            <tr>\n",
       "                                <td id=\"T_a348f_row12_col0\" class=\"data row12 col0\" >Allegheny & North Cumberland Mountains</td>\n",
       "                        <td id=\"T_a348f_row12_col1\" class=\"data row12 col1\" >0.69</td>\n",
       "            </tr>\n",
       "            <tr>\n",
       "                                <td id=\"T_a348f_row13_col0\" class=\"data row13 col0\" >Southern Allegheny Plateau</td>\n",
       "                        <td id=\"T_a348f_row13_col1\" class=\"data row13 col1\" >0.68</td>\n",
       "            </tr>\n",
       "            <tr>\n",
       "                                <td id=\"T_a348f_row14_col0\" class=\"data row14 col0\" >Laurentian Mixed Forest Southern Superior</td>\n",
       "                        <td id=\"T_a348f_row14_col1\" class=\"data row14 col1\" >0.79</td>\n",
       "            </tr>\n",
       "            <tr>\n",
       "                                <td id=\"T_a348f_row15_col0\" class=\"data row15 col0\" >Eastern Broadleaf Forest Cumberland Plateau</td>\n",
       "                        <td id=\"T_a348f_row15_col1\" class=\"data row15 col1\" >0.69</td>\n",
       "            </tr>\n",
       "            <tr>\n",
       "                                <td id=\"T_a348f_row16_col0\" class=\"data row16 col0\" >White Mountains</td>\n",
       "                        <td id=\"T_a348f_row16_col1\" class=\"data row16 col1\" >0.78</td>\n",
       "            </tr>\n",
       "            <tr>\n",
       "                                <td id=\"T_a348f_row17_col0\" class=\"data row17 col0\" >Maine - New Brunswick Foothills and Lowlands</td>\n",
       "                        <td id=\"T_a348f_row17_col1\" class=\"data row17 col1\" >0.78</td>\n",
       "            </tr>\n",
       "            <tr>\n",
       "                                <td id=\"T_a348f_row18_col0\" class=\"data row18 col0\" >Southeast and South Central Alaska</td>\n",
       "                        <td id=\"T_a348f_row18_col1\" class=\"data row18 col1\" >0.91</td>\n",
       "            </tr>\n",
       "    </tbody></table>"
      ],
      "text/plain": [
       "<pandas.io.formats.style.Styler at 0x7f27d4bf4190>"
      ]
     },
     "execution_count": 4,
     "metadata": {},
     "output_type": "execute_result"
    }
   ],
   "source": [
    "df.style.set_properties(\n",
    "    **{\n",
    "        \"white-space\": \"pre-wrap\",\n",
    "    }\n",
    ").hide_index()"
   ]
  }
 ],
 "metadata": {
  "kernelspec": {
   "display_name": "Python 3 (ipykernel)",
   "language": "python",
   "name": "python3"
  },
  "language_info": {
   "codemirror_mode": {
    "name": "ipython",
    "version": 3
   },
   "file_extension": ".py",
   "mimetype": "text/x-python",
   "name": "python",
   "nbconvert_exporter": "python",
   "pygments_lexer": "ipython3",
   "version": "3.9.6"
  }
 },
 "nbformat": 4,
 "nbformat_minor": 5
}
