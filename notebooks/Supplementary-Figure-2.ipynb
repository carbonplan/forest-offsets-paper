{
 "cells": [
  {
   "cell_type": "markdown",
   "id": "positive-chance",
   "metadata": {},
   "source": [
    "# Retro - Supplementary Figure 2\n"
   ]
  },
  {
   "cell_type": "code",
   "execution_count": null,
   "id": "rapid-circuit",
   "metadata": {},
   "outputs": [],
   "source": [
    "import os\n",
    "import fsspec\n",
    "import json\n",
    "import pandas as pd\n",
    "import numpy as np\n",
    "import matplotlib.pyplot as plt\n",
    "from matplotlib import ticker"
   ]
  },
  {
   "cell_type": "markdown",
   "id": "reliable-enough",
   "metadata": {},
   "source": [
    "## Load the data\n"
   ]
  },
  {
   "cell_type": "code",
   "execution_count": null,
   "id": "prescribed-folder",
   "metadata": {},
   "outputs": [],
   "source": [
    "with fsspec.open(\n",
    "    \"https://carbonplan.blob.core.windows.net/carbonplan-retro/results/common-practice-verification.json\",\n",
    "    \"r\",\n",
    ") as f:\n",
    "    data = json.load(f)"
   ]
  },
  {
   "cell_type": "code",
   "execution_count": null,
   "id": "accepted-patrol",
   "metadata": {},
   "outputs": [],
   "source": [
    "df_aa = pd.DataFrame()\n",
    "df_aa[\"common_practice\"] = [d[\"common_practice\"] for d in data[\"assessment_areas\"]]\n",
    "df_aa[\"rfia\"] = [d[\"rfia\"] for d in data[\"assessment_areas\"]]\n",
    "\n",
    "df_projects = pd.DataFrame()\n",
    "df_projects[\"project_reported\"] = [d[\"project_reported\"] for d in data[\"projects\"]]\n",
    "df_projects[\"recalculated\"] = [d[\"recalculated\"] for d in data[\"projects\"]]"
   ]
  },
  {
   "cell_type": "markdown",
   "id": "manufactured-strip",
   "metadata": {},
   "source": [
    "## Make the plot\n"
   ]
  },
  {
   "cell_type": "code",
   "execution_count": null,
   "id": "hollow-debate",
   "metadata": {},
   "outputs": [],
   "source": [
    "diffs = (df_projects[\"recalculated\"] - df_projects[\"project_reported\"]) / df_projects[\n",
    "    \"project_reported\"\n",
    "]"
   ]
  },
  {
   "cell_type": "code",
   "execution_count": null,
   "id": "biblical-intelligence",
   "metadata": {},
   "outputs": [],
   "source": [
    "diffs[np.isfinite(diffs)].mean()"
   ]
  },
  {
   "cell_type": "code",
   "execution_count": null,
   "id": "touched-vatican",
   "metadata": {},
   "outputs": [],
   "source": [
    "plt.rcParams.update({\"font.size\": 14, \"svg.fonttype\": \"none\"})\n",
    "\n",
    "fig, axs = plt.subplots(1, 2, figsize=[10, 5])\n",
    "\n",
    "\n",
    "axs[0].scatter(\n",
    "    df_aa[\"rfia\"],\n",
    "    df_aa[\"common_practice\"],\n",
    "    marker=\".\",\n",
    "    s=400,\n",
    "    color=\".3\",\n",
    "    lw=1.5,\n",
    "    label=\"Common practice\",\n",
    "    zorder=10,\n",
    "    clip_on=False,\n",
    ")\n",
    "\n",
    "axs[0].annotate(\n",
    "    f'R$^2$: {np.corrcoef([df_aa[\"rfia\"], df_aa[\"common_practice\"]])[0,1] ** 2:.2f}',\n",
    "    xy=(150, 50),\n",
    "    xycoords=\"axes points\",\n",
    "    fontsize=16,\n",
    ")\n",
    "axs[0].annotate(\n",
    "    f'RMSE: {np.sqrt(np.mean((df_aa[\"rfia\"] - df_aa[\"common_practice\"]) ** 2)):.2f}',\n",
    "    xy=(150, 30),\n",
    "    xycoords=\"axes points\",\n",
    "    fontsize=16,\n",
    ")\n",
    "\n",
    "axs[1].scatter(\n",
    "    df_projects[\"recalculated\"],\n",
    "    df_projects[\"project_reported\"],\n",
    "    marker=\".\",\n",
    "    s=500,\n",
    "    color=\".3\",\n",
    "    lw=1.5,\n",
    "    label=\"Common practice\",\n",
    "    zorder=10,\n",
    "    clip_on=False,\n",
    ")\n",
    "\n",
    "axs[1].annotate(\n",
    "    f'R$^2$: {np.corrcoef([df_projects[\"project_reported\"], df_projects[\"recalculated\"]])[0,1] ** 2:.2f}',\n",
    "    xy=(150, 50),\n",
    "    xycoords=\"axes points\",\n",
    "    fontsize=16,\n",
    ")\n",
    "axs[1].annotate(\n",
    "    f'RMSE: {np.sqrt(np.mean((df_projects[\"project_reported\"] - df_projects[\"recalculated\"]) ** 2)):.2f}',\n",
    "    xy=(150, 30),\n",
    "    xycoords=\"axes points\",\n",
    "    fontsize=16,\n",
    ")\n",
    "\n",
    "for ax, label, kind in zip(axs, [\"A\", \"B\"], [\"Assessment\\nAreas\", \"Projects\"]):\n",
    "    ax.spines[\"right\"].set_visible(False)\n",
    "    ax.spines[\"top\"].set_visible(False)\n",
    "    ax.plot([0, 200], [0, 200], \"-\", color=(0.75, 0.75, 0.75))\n",
    "    ax.set_ylim([0, 215])\n",
    "    ax.set_xlim([0, 215])\n",
    "    ax.set_xticks([0, 50, 100, 150, 200])\n",
    "    ax.set_yticks([0, 50, 100, 150, 200])\n",
    "    ax.tick_params(labelsize=16)\n",
    "    ax.set_ylabel(\"ARB common practice (tCO$_2$ / acre)\", fontsize=16)\n",
    "    ax.set_xlabel(\"rFIA common practice (tCO$_2$ / acre)\", fontsize=16)\n",
    "    ax.annotate(label, xy=(-0.35, 1.1), xycoords=\"axes fraction\", fontsize=18)\n",
    "    ax.annotate(kind, xy=(0.07, 0.97), xycoords=\"axes fraction\", fontsize=18, va=\"top\")\n",
    "\n",
    "fname = \"Supplementary-Figure-2.svg\"\n",
    "if \"BLOB_ACCOUNT_KEY\" in os.environ:\n",
    "    with fsspec.open(\n",
    "        f\"az://carbonplan-retro/figures/raw/{fname}\",\n",
    "        \"w\",\n",
    "        account_name=\"carbonplan\",\n",
    "        account_key=os.environ[\"BLOB_ACCOUNT_KEY\"],\n",
    "    ) as f:\n",
    "        fig.savefig(f, format=\"svg\")\n",
    "else:\n",
    "    plt.savefig(fname)\n",
    "\n",
    "fig.tight_layout()"
   ]
  }
 ],
 "metadata": {
  "kernelspec": {
   "display_name": "Python 3",
   "language": "python",
   "name": "python3"
  },
  "language_info": {
   "codemirror_mode": {
    "name": "ipython",
    "version": 3
   },
   "file_extension": ".py",
   "mimetype": "text/x-python",
   "name": "python",
   "nbconvert_exporter": "python",
   "pygments_lexer": "ipython3",
   "version": "3.8.6"
  }
 },
 "nbformat": 4,
 "nbformat_minor": 5
}
