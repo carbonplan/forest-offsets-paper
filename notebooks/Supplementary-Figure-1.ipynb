{
 "cells": [
  {
   "cell_type": "markdown",
   "id": "decent-murray",
   "metadata": {},
   "source": [
    "# Retro - Supplementary Figure 1"
   ]
  },
  {
   "cell_type": "code",
   "execution_count": 1,
   "id": "general-valve",
   "metadata": {},
   "outputs": [],
   "source": [
    "import os\n",
    "import fsspec\n",
    "import json\n",
    "import pandas as pd\n",
    "import numpy as np\n",
    "import matplotlib.pyplot as plt\n",
    "from matplotlib import ticker"
   ]
  },
  {
   "cell_type": "markdown",
   "id": "illegal-providence",
   "metadata": {},
   "source": [
    "## Load the data\n"
   ]
  },
  {
   "cell_type": "code",
   "execution_count": 2,
   "id": "permanent-victorian",
   "metadata": {},
   "outputs": [],
   "source": [
    "with fsspec.open(\n",
    "    \"https://carbonplan.blob.core.windows.net/carbonplan-retro/results/crediting-verification.json\",\n",
    "    \"r\",\n",
    ") as f:\n",
    "    data = json.load(f)"
   ]
  },
  {
   "cell_type": "code",
   "execution_count": 3,
   "id": "injured-adjustment",
   "metadata": {},
   "outputs": [],
   "source": [
    "df = pd.DataFrame()\n",
    "df['calculated'] = [d['calculated'] for d in data]\n",
    "df['issued'] = [d['issued'] for d in data]"
   ]
  },
  {
   "cell_type": "markdown",
   "id": "blocked-budapest",
   "metadata": {},
   "source": [
    "## Make the plot\n"
   ]
  },
  {
   "cell_type": "code",
   "execution_count": 4,
   "id": "continent-reward",
   "metadata": {},
   "outputs": [],
   "source": [
    "def format_si(num, precision=0, suffixes=[\"\", \"K\", \"M\", \"G\", \"T\", \"P\"], show_suffix=False):\n",
    "    m = sum([abs(num / 1000.0 ** x) >= 1 for x in range(1, len(suffixes))])\n",
    "    if show_suffix:\n",
    "        return f\"{num/1000.0**m:.{precision}f}{suffixes[m]}\"\n",
    "    else:\n",
    "        return f\"{num/1000.0**m:.{precision}f}\"\n",
    "\n",
    "@ticker.FuncFormatter\n",
    "def formatter(x, pos):\n",
    "    return format_si(x)"
   ]
  },
  {
   "cell_type": "code",
   "execution_count": 5,
   "id": "gothic-probability",
   "metadata": {},
   "outputs": [
    {
     "data": {
      "image/png": "[encoded data removed]",
      "text/plain": [
       "<Figure size 360x360 with 1 Axes>"
      ]
     },
     "metadata": {
      "needs_background": "light"
     },
     "output_type": "display_data"
    }
   ],
   "source": [
    "plt.rcParams.update({\"font.size\": 14, \"svg.fonttype\": \"none\"})\n",
    "\n",
    "fig, ax = plt.subplots(1, 1, figsize=[5, 5])\n",
    "\n",
    "ax.spines[\"right\"].set_visible(False)\n",
    "ax.spines[\"top\"].set_visible(False)\n",
    "ax.scatter(\n",
    "    df[\"calculated\"],\n",
    "    df[\"issued\"],\n",
    "    marker=\".\",\n",
    "    s=500,\n",
    "    color=\".3\",\n",
    "    lw=1.5,\n",
    "    label=\"Common practice\",\n",
    "    zorder=10,\n",
    "    clip_on=False\n",
    ")\n",
    "ax.plot([0, 15000000], [0, 15000000], '-', color=(0.75, 0.75, 0.75))\n",
    "ax.xaxis.set_major_formatter(formatter)\n",
    "ax.yaxis.set_major_formatter(formatter)\n",
    "ax.set_ylim([0, 15500000])\n",
    "ax.set_xlim([0, 15500000])\n",
    "ax.set_xticks([0, 5000000, 10000000, 15000000])\n",
    "ax.set_yticks([0, 5000000, 10000000, 15000000])\n",
    "ax.set_ylabel(\"Issues ARBOCs (million tCO$_2$)\")\n",
    "ax.set_xlabel(\"Calculated ARBOCs (million tCO$_2$)\")\n",
    "ax.tick_params(labelsize=16)\n",
    "ax.annotate(f'R$^2$: {np.corrcoef([df[\"calculated\"], df[\"issued\"]])[0,1] ** 2:.4f}',xy=(200, 50), xycoords='axes points')\n",
    "ax.annotate(f'MAE: {np.mean((df[\"calculated\"] - df[\"issued\"])):.0f}',xy=(200, 30), xycoords='axes points')\n",
    "\n",
    "fname = \"Supplementary-Figure-1.svg\"\n",
    "if \"BLOB_ACCOUNT_KEY\" in os.environ:\n",
    "    with fsspec.open(\n",
    "        f\"az://carbonplan-retro/figures/raw/{fname}\",\n",
    "        \"w\",\n",
    "        account_name=\"carbonplan\",\n",
    "        account_key=os.environ[\"BLOB_ACCOUNT_KEY\"],\n",
    "    ) as f:\n",
    "        fig.savefig(f, format=\"svg\")\n",
    "else:\n",
    "    plt.savefig(fname)"
   ]
  },
  {
   "cell_type": "code",
   "execution_count": null,
   "id": "spatial-advance",
   "metadata": {},
   "outputs": [],
   "source": []
  }
 ],
 "metadata": {
  "kernelspec": {
   "display_name": "Python 3",
   "language": "python",
   "name": "python3"
  },
  "language_info": {
   "codemirror_mode": {
    "name": "ipython",
    "version": 3
   },
   "file_extension": ".py",
   "mimetype": "text/x-python",
   "name": "python",
   "nbconvert_exporter": "python",
   "pygments_lexer": "ipython3",
   "version": "3.8.8"
  }
 },
 "nbformat": 4,
 "nbformat_minor": 5
}
