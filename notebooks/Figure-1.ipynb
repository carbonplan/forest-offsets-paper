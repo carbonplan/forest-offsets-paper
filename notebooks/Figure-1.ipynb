{
 "cells": [
  {
   "cell_type": "markdown",
   "id": "fitting-domestic",
   "metadata": {},
   "source": [
    "# Retro — Figure 1\n"
   ]
  },
  {
   "cell_type": "code",
   "execution_count": 1,
   "id": "spiritual-effort",
   "metadata": {},
   "outputs": [],
   "source": [
    "import os\n",
    "import fsspec\n",
    "import json\n",
    "import numpy as np\n",
    "import matplotlib.pyplot as plt"
   ]
  },
  {
   "cell_type": "markdown",
   "id": "breeding-isolation",
   "metadata": {},
   "source": [
    "## Load the data\n"
   ]
  },
  {
   "cell_type": "code",
   "execution_count": 2,
   "id": "elect-oregon",
   "metadata": {},
   "outputs": [],
   "source": [
    "with fsspec.open(\n",
    "    \"https://carbonplan.blob.core.windows.net/carbonplan-retro/results/reclassification-crediting-error.json\", \"r\"\n",
    ") as f:\n",
    "    data = json.load(f)\n",
    "\n",
    "# TODO: explain\n",
    "del data[\"ACR360\"]\n",
    "del data[\"CAR1102\"]"
   ]
  },
  {
   "cell_type": "code",
   "execution_count": 3,
   "id": "induced-performance",
   "metadata": {},
   "outputs": [],
   "source": [
    "with fsspec.open(\n",
    "    \"https://carbonplan.blob.core.windows.net/carbonplan-retro/projects/retro-db-light-v1.0.json\",\n",
    "    \"r\",\n",
    ") as f:\n",
    "    db = json.load(f)\n",
    "db = list(filter(lambda x: ~(x[\"id\"] == \"ACR360\") & ~(x[\"id\"] == \"CAR1102\"), db))"
   ]
  },
  {
   "cell_type": "code",
   "execution_count": 4,
   "id": "judicial-swiss",
   "metadata": {},
   "outputs": [],
   "source": [
    "def get(id):\n",
    "    return [x for x in db if x[\"id\"] == id][0]"
   ]
  },
  {
   "cell_type": "code",
   "execution_count": 5,
   "id": "raising-leeds",
   "metadata": {},
   "outputs": [],
   "source": [
    "# TODO:\n",
    "numbers = {\n",
    "    \"all\": (474, 192996530.0),\n",
    "    \"all_forest\": (130, 156069203.0),\n",
    "    \"compliance_ifm\": (74, 131462946.0),\n",
    "    \"upfront_ifm\": (72, 120954134.0),\n",
    "}"
   ]
  },
  {
   "cell_type": "code",
   "execution_count": 6,
   "id": "printable-information",
   "metadata": {},
   "outputs": [],
   "source": [
    "numbers[\"analyzed\"] = (\n",
    "    len(data.keys()),\n",
    "    np.sum([get(key)[\"arbocs\"][\"issuance\"] for key in data.keys()]),\n",
    ")"
   ]
  },
  {
   "cell_type": "markdown",
   "id": "mexican-amazon",
   "metadata": {},
   "source": [
    "## Make the plot\n"
   ]
  },
  {
   "cell_type": "code",
   "execution_count": 7,
   "id": "ongoing-colombia",
   "metadata": {},
   "outputs": [
    {
     "data": {
      "image/png": "[encoded data removed]",
      "text/plain": [
       "<Figure size 360x216 with 1 Axes>"
      ]
     },
     "metadata": {
      "needs_background": "light"
     },
     "output_type": "display_data"
    }
   ],
   "source": [
    "cats = [\"analyzed\", \"upfront_ifm\", \"compliance_ifm\", \"all_forest\", \"all\"]\n",
    "\n",
    "fig, ax = plt.subplots(1, 1, figsize=(5, 3))\n",
    "\n",
    "ax.spines[\"left\"].set_visible(False)\n",
    "ax.spines[\"right\"].set_visible(False)\n",
    "ax.spines[\"top\"].set_visible(False)\n",
    "ax.spines[\"bottom\"].set_visible(False)\n",
    "ax.barh(cats, width=[numbers[c][1] for c in cats], height=0.5, color=\"#7eb36a\")\n",
    "\n",
    "\n",
    "fname = \"Figure-1.svg\"\n",
    "if \"BLOB_ACCOUNT_KEY\" in os.environ:\n",
    "    with fsspec.open(\n",
    "        f\"az://carbonplan-retro/figures/raw/{fname}\",\n",
    "        \"w\",\n",
    "        account_name=\"carbonplan\",\n",
    "        account_key=os.environ[\"BLOB_ACCOUNT_KEY\"],\n",
    "    ) as f:\n",
    "        fig.savefig(f, format=\"svg\")\n",
    "else:\n",
    "    plt.savefig(fname)"
   ]
  }
 ],
 "metadata": {
  "kernelspec": {
   "display_name": "Python 3",
   "language": "python",
   "name": "python3"
  },
  "language_info": {
   "codemirror_mode": {
    "name": "ipython",
    "version": 3
   },
   "file_extension": ".py",
   "mimetype": "text/x-python",
   "name": "python",
   "nbconvert_exporter": "python",
   "pygments_lexer": "ipython3",
   "version": "3.8.6"
  }
 },
 "nbformat": 4,
 "nbformat_minor": 5
}
