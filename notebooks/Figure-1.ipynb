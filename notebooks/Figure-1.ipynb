{
 "cells": [
  {
   "cell_type": "markdown",
   "id": "6f7a7e0f",
   "metadata": {},
   "source": [
    "# Forest Offsets Paper — Figure 1\n"
   ]
  },
  {
   "cell_type": "code",
   "execution_count": 1,
   "id": "df6b28e0",
   "metadata": {},
   "outputs": [],
   "source": [
    "import json\n",
    "import os\n",
    "\n",
    "import fsspec\n",
    "import matplotlib.pyplot as plt\n",
    "import numpy as np"
   ]
  },
  {
   "cell_type": "markdown",
   "id": "0586d9fa",
   "metadata": {},
   "source": [
    "## Load the data\n"
   ]
  },
  {
   "cell_type": "code",
   "execution_count": 2,
   "id": "e9db7709",
   "metadata": {},
   "outputs": [],
   "source": [
    "with fsspec.open(\n",
    "    \"https://carbonplan-forests.s3.us-west-2.amazonaws.com/offsets/archive/results/reclassification-crediting-error.json\",\n",
    "    \"r\",\n",
    ") as f:\n",
    "    data = json.load(f)"
   ]
  },
  {
   "cell_type": "code",
   "execution_count": 3,
   "id": "2506ea04",
   "metadata": {},
   "outputs": [],
   "source": [
    "with fsspec.open(\n",
    "    \"https://carbonplan-forests.s3.us-west-2.amazonaws.com/offsets/database/forest-offsets-database-v1.0.json\",\n",
    "    \"r\",\n",
    ") as f:\n",
    "    db = json.load(f)\n",
    "db = list(filter(lambda x: ~(x[\"id\"] == \"ACR360\") & ~(x[\"id\"] == \"CAR1102\"), db))"
   ]
  },
  {
   "cell_type": "code",
   "execution_count": 4,
   "id": "ed3a57c2",
   "metadata": {},
   "outputs": [],
   "source": [
    "def get(id):\n",
    "    return [x for x in db if x[\"id\"] == id][0]"
   ]
  },
  {
   "cell_type": "code",
   "execution_count": 5,
   "id": "a1d26c6f",
   "metadata": {},
   "outputs": [],
   "source": [
    "# TODO:\n",
    "numbers = {\n",
    "    \"all\": (474, 192996530.0),\n",
    "    \"all_forest\": (130, 156069203.0),\n",
    "    \"compliance_ifm\": (74, 131462946.0),\n",
    "    \"upfront_ifm\": (72, 120954134.0),\n",
    "}"
   ]
  },
  {
   "cell_type": "code",
   "execution_count": 6,
   "id": "d0b98f59",
   "metadata": {},
   "outputs": [],
   "source": [
    "numbers[\"analyzed\"] = (\n",
    "    len(data.keys()),\n",
    "    np.sum([get(key)[\"arbocs\"][\"issuance\"] for key in data.keys()]),\n",
    ")"
   ]
  },
  {
   "cell_type": "markdown",
   "id": "5ef543cb",
   "metadata": {},
   "source": [
    "## Make the plot\n"
   ]
  },
  {
   "cell_type": "code",
   "execution_count": 7,
   "id": "b90f45c5",
   "metadata": {},
   "outputs": [
    {
     "data": {
      "text/plain": [
       "{'all': (474, 192996530.0),\n",
       " 'all_forest': (130, 156069203.0),\n",
       " 'compliance_ifm': (74, 131462946.0),\n",
       " 'upfront_ifm': (72, 120954134.0),\n",
       " 'analyzed': (65, 102064294.0)}"
      ]
     },
     "execution_count": 7,
     "metadata": {},
     "output_type": "execute_result"
    }
   ],
   "source": [
    "numbers"
   ]
  },
  {
   "cell_type": "code",
   "execution_count": null,
   "id": "aaac8e72",
   "metadata": {},
   "outputs": [
    {
     "data": {
      "image/png": "[encoded data removed]",
      "text/plain": [
       "<Figure size 360x216 with 1 Axes>"
      ]
     },
     "metadata": {
      "needs_background": "light"
     },
     "output_type": "display_data"
    }
   ],
   "source": [
    "cats = [\"analyzed\", \"upfront_ifm\", \"compliance_ifm\", \"all_forest\", \"all\"]\n",
    "colors = {\n",
    "    \"analyzed\": \"#7eb36a\",\n",
    "    \"upfront_ifm\": \"#808080\",\n",
    "    \"compliance_ifm\": \"#808080\",\n",
    "    \"all_forest\": \"#808080\",\n",
    "    \"all\": \"#808080\",\n",
    "}\n",
    "\n",
    "words = {\n",
    "    \"analyzed\": \"Analyzed credits\",\n",
    "    \"upfront_ifm\": \"Upfront credits\",\n",
    "    \"compliance_ifm\": \"IFM credits\",\n",
    "    \"all_forest\": \"Forest credits\",\n",
    "    \"all\": \"All credits\",\n",
    "}\n",
    "\n",
    "fig, ax = plt.subplots(1, 1, figsize=(5, 3))\n",
    "\n",
    "ax.spines[\"left\"].set_visible(False)\n",
    "ax.spines[\"right\"].set_visible(False)\n",
    "ax.spines[\"top\"].set_visible(False)\n",
    "ax.spines[\"bottom\"].set_visible(False)\n",
    "ax.barh(\n",
    "    [words[c] for c in cats],\n",
    "    width=[numbers[c][1] for c in cats],\n",
    "    height=0.5,\n",
    "    color=[colors[c] for c in cats],\n",
    ")\n",
    "ax.xaxis.set_visible(False)\n",
    "ax.yaxis.set_ticks_position(\"none\")\n",
    "\n",
    "rects = ax.patches\n",
    "for rect, c in zip(rects, cats):\n",
    "    n, size = numbers[c]\n",
    "    size /= 1e6\n",
    "    label = f\"{size:.1f}M  n={n}\"\n",
    "    offset = 7000000\n",
    "    ax.text(\n",
    "        rect.get_x() + rect.get_width() + offset,\n",
    "        rect.get_y() + rect.get_height() / 2,\n",
    "        label,\n",
    "        ha=\"left\",\n",
    "        va=\"center\",\n",
    "    )\n",
    "\n",
    "fname = \"Figure-1.svg\"\n",
    "\n",
    "plt.savefig(fname)"
   ]
  }
 ],
 "metadata": {
  "kernelspec": {
   "display_name": "Python 3 (ipykernel)",
   "language": "python",
   "name": "python3"
  },
  "language_info": {
   "codemirror_mode": {
    "name": "ipython",
    "version": 3
   },
   "file_extension": ".py",
   "mimetype": "text/x-python",
   "name": "python",
   "nbconvert_exporter": "python",
   "pygments_lexer": "ipython3",
   "version": "3.9.6"
  }
 },
 "nbformat": 4,
 "nbformat_minor": 5
}
