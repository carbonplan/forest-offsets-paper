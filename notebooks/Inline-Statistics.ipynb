{
 "cells": [
  {
   "cell_type": "markdown",
   "id": "junior-concrete",
   "metadata": {},
   "source": [
    "This notebook generates the values reported in the text of `Systematic over-crediting in California’s forest carbon offsets program`"
   ]
  },
  {
   "cell_type": "code",
   "execution_count": 111,
   "id": "virtual-saudi",
   "metadata": {},
   "outputs": [],
   "source": [
    "from collections import Counter\n",
    "import fsspec\n",
    "import json\n",
    "import os\n",
    "\n",
    "import matplotlib.pyplot as plt\n",
    "import numpy as np\n",
    "import pandas as pd\n",
    "import seaborn as sns\n",
    "from sklearn.metrics import mean_squared_error\n",
    "\n",
    "from carbonplan_forest_offsets.analysis.project_crediting_error import get_slag_to_total_scalar\n",
    "from carbonplan_forest_offsets.data import cat, get_retro_bucket, get_temp_bucket\n",
    "from carbonplan_forest_offsets.load.issuance import load_issuance_table, ifm_opr_ids"
   ]
  },
  {
   "cell_type": "code",
   "execution_count": 14,
   "id": "helpful-region",
   "metadata": {},
   "outputs": [],
   "source": [
    "df = load_issuance_table(forest_only=False)\n",
    "retro_json = cat.retro_db_light_json.read()"
   ]
  },
  {
   "cell_type": "markdown",
   "id": "bound-secretariat",
   "metadata": {},
   "source": [
    "## Total Value\n"
   ]
  },
  {
   "cell_type": "code",
   "execution_count": 15,
   "id": "stock-checkout",
   "metadata": {},
   "outputs": [
    {
     "data": {
      "text/plain": [
       "192996530.0"
      ]
     },
     "metadata": {},
     "output_type": "display_data"
    },
    {
     "data": {
      "text/plain": [
       "2638262565.1"
      ]
     },
     "metadata": {},
     "output_type": "display_data"
    }
   ],
   "source": [
    "total_arbocs = df[\"allocation\"].sum()\n",
    "display(total_arbocs)\n",
    "\n",
    "price_per_arboc = 13.67\n",
    "\n",
    "display(price_per_arboc * total_arbocs)"
   ]
  },
  {
   "cell_type": "markdown",
   "id": "gross-button",
   "metadata": {},
   "source": [
    "### figure 1a\n",
    "data also posted to results via `analysis/summarize_issuance.py"
   ]
  },
  {
   "cell_type": "code",
   "execution_count": 25,
   "id": "raising-reviewer",
   "metadata": {},
   "outputs": [
    {
     "data": {
      "text/plain": [
       "{'all': (474, 193.0),\n",
       " 'all_forest': (130, 156.1),\n",
       " 'compliance_ifm': (93, 137.1),\n",
       " 'non_graduated_compliance_ifms': (74, 131.5),\n",
       " 'upfront_ifm': (72, 121.0)}"
      ]
     },
     "metadata": {},
     "output_type": "display_data"
    }
   ],
   "source": [
    "def subset_stats(criteria):\n",
    "    nunique_opr_ids = df[criteria][\"opr_id\"].nunique()\n",
    "    total_arbocs = (df[criteria][\"allocation\"].sum() / 1_000_000).round(1)\n",
    "    return (nunique_opr_ids, total_arbocs)\n",
    "\n",
    "\n",
    "upfront_opr_ids = [\n",
    "    project[\"opr_id\"]\n",
    "    for project in retro_json\n",
    "    if project[\"carbon\"][\"initial_carbon_stock\"][\"value\"]\n",
    "    > project[\"carbon\"][\"common_practice\"][\"value\"]\n",
    "]\n",
    "compliance_opr_ids = [project[\"opr_id\"] for project in retro_json]\n",
    "\n",
    "subsets = {\n",
    "    \"all\": np.tile(True, len(df)),\n",
    "    \"all_forest\": df[\"project_type\"] == \"forest\",\n",
    "    \"compliance_ifm\": (df[\"opr_id\"].isin(ifm_opr_ids)) & (df[\"Early Action/ Compliance\"] == \"COP\"),\n",
    "    \"non_graduated_compliance_ifms\": (df[\"opr_id\"].isin(compliance_opr_ids))\n",
    "    & (df[\"Early Action/ Compliance\"] == \"COP\"),\n",
    "    \"upfront_ifm\": (df[\"opr_id\"].isin(upfront_opr_ids)) & (df[\"arb_rp_id\"].isin([\"A\"])),\n",
    "}\n",
    "\n",
    "summary = {k: subset_stats(v) for k, v in subsets.items()}\n",
    "display(summary)"
   ]
  },
  {
   "cell_type": "code",
   "execution_count": 27,
   "id": "checked-valley",
   "metadata": {},
   "outputs": [
    {
     "data": {
      "text/plain": [
       "0.7751441383728379"
      ]
     },
     "execution_count": 27,
     "metadata": {},
     "output_type": "execute_result"
    }
   ],
   "source": [
    "summary['upfront_ifm'][1] / summary['all_forest'][1]"
   ]
  },
  {
   "cell_type": "code",
   "execution_count": 26,
   "id": "neither-prime",
   "metadata": {},
   "outputs": [
    {
     "data": {
      "text/plain": [
       "0.6269430051813472"
      ]
     },
     "execution_count": 26,
     "metadata": {},
     "output_type": "execute_result"
    }
   ],
   "source": [
    "summary['upfront_ifm'][1] / summary['all'][1]"
   ]
  },
  {
   "cell_type": "markdown",
   "id": "foster-glossary",
   "metadata": {},
   "source": [
    "## Carbon stocks for SC by species\n"
   ]
  },
  {
   "cell_type": "code",
   "execution_count": null,
   "id": "armed-conducting",
   "metadata": {},
   "outputs": [],
   "source": [
    "sc_data = cat.rfia_all(assessment_area_id=297).read()\n",
    "\n",
    "sc_data = sc_data[sc_data[\"YEAR\"] == 2010].copy()  # use 2010 because comporable to CP data\n",
    "\n",
    "\n",
    "sc_data[\"CARB_ACRE\"] = sc_data[\"CARB_ACRE\"] * 44 / 12 * 0.907185"
   ]
  },
  {
   "cell_type": "code",
   "execution_count": null,
   "id": "legal-prince",
   "metadata": {},
   "outputs": [],
   "source": [
    "fortyps_of_interest = {\"Douglas fir\": 201, \"Ponderosa pine\": 221, \"Tanoak\": 941}"
   ]
  },
  {
   "cell_type": "code",
   "execution_count": null,
   "id": "naughty-essex",
   "metadata": {},
   "outputs": [],
   "source": [
    "standing_carbon = {}\n",
    "for k, v in fortyps_of_interest.items():\n",
    "    standing_carbon[k] = round(sc_data.loc[sc_data[\"FORTYPCD\"] == v, \"CARB_ACRE\"].item(),1)\n",
    "display(standing_carbon)"
   ]
  },
  {
   "cell_type": "markdown",
   "id": "saving-europe",
   "metadata": {},
   "source": [
    "### Coastal Alaska\n"
   ]
  },
  {
   "cell_type": "code",
   "execution_count": null,
   "id": "efficient-panama",
   "metadata": {},
   "outputs": [],
   "source": [
    "# ak has three assessment areas but lets summarize across all to report inline value\n",
    "ak_assessment_areas = [285, 286, 287]\n",
    "ak_all = pd.concat([cat.rfia_all(assessment_area_id=aa_id).read() for aa_id in ak_assessment_areas])\n",
    "\n",
    "ak_all = ak_all[ak_all[\"YEAR\"] == 2013].copy()  # 2013 to match what used in CP\n",
    "\n",
    "sums = ak_all.groupby(\"FORTYPCD\").sum()[[\"CARB_TOTAL\", \"AREA_TOTAL\", \"nPlots_TREE\"]]"
   ]
  },
  {
   "cell_type": "code",
   "execution_count": null,
   "id": "reverse-racing",
   "metadata": {},
   "outputs": [],
   "source": [
    "ak_forests_of_interest = {\n",
    "    \"Sitka sprice\": 305,\n",
    "    \"Western hemlock\": 301,\n",
    "    \"Cottonwood\": 703,\n",
    "    \"Paper birch\": 902,\n",
    "}"
   ]
  },
  {
   "cell_type": "code",
   "execution_count": null,
   "id": "directed-colleague",
   "metadata": {},
   "outputs": [],
   "source": [
    "ak_carb_acre = sums[\"CARB_TOTAL\"] / sums[\"AREA_TOTAL\"] * 44 / 12 * 0.907185\n",
    "\n",
    "display({k: ak_carb_acre[v].round(1) for k, v in ak_forests_of_interest.items()})"
   ]
  },
  {
   "cell_type": "markdown",
   "id": "international-hurricane",
   "metadata": {},
   "source": [
    "### Project Examples\n"
   ]
  },
  {
   "cell_type": "code",
   "execution_count": 32,
   "id": "attractive-programmer",
   "metadata": {},
   "outputs": [],
   "source": [
    "fs_prefix, fs_kwargs = get_retro_bucket()\n",
    "fn = f\"{fs_prefix}/results/reclassification-crediting-error.json\"\n",
    "with fsspec.open(fn, mode=\"r\", **fs_kwargs) as f:\n",
    "    reclass_credit = json.load(f)"
   ]
  },
  {
   "cell_type": "code",
   "execution_count": 33,
   "id": "ordinary-cisco",
   "metadata": {},
   "outputs": [],
   "source": [
    "def summarize_project(project):\n",
    "    crediting_error = np.percentile(\n",
    "        reclass_credit[project[\"opr_id\"]][\"delta_arbocs\"], q=[5, 50, 95]\n",
    "    ).round(1)\n",
    "\n",
    "    as_frac = crediting_error / project[\"arbocs\"][\"calculated\"]\n",
    "    print(f\"{project['opr_id']} has a {crediting_error[1]} crediting error ({as_frac[1].round(3)})\")\n",
    "    print(f\"CI: {crediting_error[0]}, {crediting_error[2]}\")\n",
    "    print(f\"% CI: {as_frac[0].round(3)}, {as_frac[2].round(3)}\")"
   ]
  },
  {
   "cell_type": "code",
   "execution_count": 34,
   "id": "biblical-castle",
   "metadata": {},
   "outputs": [
    {
     "name": "stdout",
     "output_type": "stream",
     "text": [
      "ACR189 has a 135869.2 crediting error (0.501)\n",
      "CI: 85480.8, 185916.6\n",
      "% CI: 0.315, 0.686\n"
     ]
    }
   ],
   "source": [
    "opr_id = \"ACR189\"\n",
    "project = [x for x in retro_json if x[\"opr_id\"] == opr_id][0]\n",
    "\n",
    "summarize_project(project)"
   ]
  },
  {
   "cell_type": "code",
   "execution_count": null,
   "id": "proved-cowboy",
   "metadata": {},
   "outputs": [],
   "source": [
    "opr_id = \"ACR361\"\n",
    "project = [x for x in retro_json if x[\"opr_id\"] == opr_id][0]\n",
    "\n",
    "summarize_project(project)"
   ]
  },
  {
   "cell_type": "code",
   "execution_count": null,
   "id": "basic-cambodia",
   "metadata": {},
   "outputs": [],
   "source": [
    "opr_id = \"CAR1183\"\n",
    "project = [x for x in retro_json if x[\"opr_id\"] == opr_id][0]\n",
    "\n",
    "summarize_project(project)"
   ]
  },
  {
   "cell_type": "markdown",
   "id": "julian-parish",
   "metadata": {},
   "source": [
    "### Ecosection combos\n"
   ]
  },
  {
   "cell_type": "code",
   "execution_count": 2,
   "id": "respiratory-bathroom",
   "metadata": {},
   "outputs": [],
   "source": [
    "fs_prefix, fs_kwargs = get_retro_bucket()"
   ]
  },
  {
   "cell_type": "code",
   "execution_count": 3,
   "id": "noted-chick",
   "metadata": {},
   "outputs": [],
   "source": [
    "fn = f'{fs_prefix}/results/297_by_ecosection.csv'"
   ]
  },
  {
   "cell_type": "code",
   "execution_count": 4,
   "id": "grateful-updating",
   "metadata": {},
   "outputs": [],
   "source": [
    "with fsspec.open(fn, mode='r', **fs_kwargs) as f:\n",
    "    data = pd.read_csv(f)\n",
    "    \n",
    "data = data[data[\"YEAR\"] == 2010]  # match CP calculation period"
   ]
  },
  {
   "cell_type": "code",
   "execution_count": 5,
   "id": "cellular-career",
   "metadata": {},
   "outputs": [],
   "source": [
    "data[\"ECOSECTION\"] = data[\"ECOSUBCD\"].str[:-1].str.strip()\n",
    "\n",
    "\n",
    "lst = [\"M261A\", \"M261B\", \"M261D\"]  # ['263A']# [\"M221A\",\"M221B\",\"M221C\"] #['263A']#\n",
    "subset = data[(data[\"CARB_TOTAL\"] > 0) & (data[\"ECOSECTION\"].isin(lst))].copy()"
   ]
  },
  {
   "cell_type": "code",
   "execution_count": 6,
   "id": "separated-spice",
   "metadata": {},
   "outputs": [],
   "source": [
    "sums = subset.groupby([\"site\", \"ECOSECTION\"])[[\"CARB_TOTAL\", \"AREA_TOTAL\"]].sum()\n",
    "slag = sums[\"CARB_TOTAL\"] / sums[\"AREA_TOTAL\"] * 44 / 12 * 0.907185"
   ]
  },
  {
   "cell_type": "code",
   "execution_count": 7,
   "id": "talented-scotland",
   "metadata": {},
   "outputs": [],
   "source": [
    "ss_average = subset.groupby([\"site\"])[[\"CARB_TOTAL\", \"AREA_TOTAL\"]].sum()"
   ]
  },
  {
   "cell_type": "code",
   "execution_count": 8,
   "id": "careful-milwaukee",
   "metadata": {},
   "outputs": [],
   "source": [
    "ss_slag = ss_average[\"CARB_TOTAL\"] / ss_average[\"AREA_TOTAL\"] * 44 / 12 * 0.907185"
   ]
  },
  {
   "cell_type": "code",
   "execution_count": 9,
   "id": "lesser-phone",
   "metadata": {},
   "outputs": [
    {
     "data": {
      "text/html": [
       "<div>\n",
       "<style scoped>\n",
       "    .dataframe tbody tr th:only-of-type {\n",
       "        vertical-align: middle;\n",
       "    }\n",
       "\n",
       "    .dataframe tbody tr th {\n",
       "        vertical-align: top;\n",
       "    }\n",
       "\n",
       "    .dataframe thead th {\n",
       "        text-align: right;\n",
       "    }\n",
       "</style>\n",
       "<table border=\"1\" class=\"dataframe\">\n",
       "  <thead>\n",
       "    <tr style=\"text-align: right;\">\n",
       "      <th>ECOSECTION</th>\n",
       "      <th>M261A</th>\n",
       "      <th>M261B</th>\n",
       "      <th>M261D</th>\n",
       "    </tr>\n",
       "    <tr>\n",
       "      <th>site</th>\n",
       "      <th></th>\n",
       "      <th></th>\n",
       "      <th></th>\n",
       "    </tr>\n",
       "  </thead>\n",
       "  <tbody>\n",
       "    <tr>\n",
       "      <th>high</th>\n",
       "      <td>120.6</td>\n",
       "      <td>150.5</td>\n",
       "      <td>100.6</td>\n",
       "    </tr>\n",
       "    <tr>\n",
       "      <th>low</th>\n",
       "      <td>95.2</td>\n",
       "      <td>106.4</td>\n",
       "      <td>53.2</td>\n",
       "    </tr>\n",
       "  </tbody>\n",
       "</table>\n",
       "</div>"
      ],
      "text/plain": [
       "ECOSECTION  M261A  M261B  M261D\n",
       "site                           \n",
       "high        120.6  150.5  100.6\n",
       "low          95.2  106.4   53.2"
      ]
     },
     "execution_count": 9,
     "metadata": {},
     "output_type": "execute_result"
    }
   ],
   "source": [
    "slag.unstack(1).round(1)"
   ]
  },
  {
   "cell_type": "code",
   "execution_count": 11,
   "id": "cordless-concentration",
   "metadata": {},
   "outputs": [
    {
     "data": {
      "text/html": [
       "<div>\n",
       "<style scoped>\n",
       "    .dataframe tbody tr th:only-of-type {\n",
       "        vertical-align: middle;\n",
       "    }\n",
       "\n",
       "    .dataframe tbody tr th {\n",
       "        vertical-align: top;\n",
       "    }\n",
       "\n",
       "    .dataframe thead th {\n",
       "        text-align: right;\n",
       "    }\n",
       "</style>\n",
       "<table border=\"1\" class=\"dataframe\">\n",
       "  <thead>\n",
       "    <tr style=\"text-align: right;\">\n",
       "      <th>site</th>\n",
       "      <th>high</th>\n",
       "      <th>low</th>\n",
       "    </tr>\n",
       "    <tr>\n",
       "      <th>ECOSECTION</th>\n",
       "      <th></th>\n",
       "      <th></th>\n",
       "    </tr>\n",
       "  </thead>\n",
       "  <tbody>\n",
       "    <tr>\n",
       "      <th>M261A</th>\n",
       "      <td>-0.013284</td>\n",
       "      <td>-0.161891</td>\n",
       "    </tr>\n",
       "    <tr>\n",
       "      <th>M261B</th>\n",
       "      <td>-0.209140</td>\n",
       "      <td>-0.250049</td>\n",
       "    </tr>\n",
       "    <tr>\n",
       "      <th>M261D</th>\n",
       "      <td>0.183504</td>\n",
       "      <td>0.499957</td>\n",
       "    </tr>\n",
       "  </tbody>\n",
       "</table>\n",
       "</div>"
      ],
      "text/plain": [
       "site            high       low\n",
       "ECOSECTION                    \n",
       "M261A      -0.013284 -0.161891\n",
       "M261B      -0.209140 -0.250049\n",
       "M261D       0.183504  0.499957"
      ]
     },
     "execution_count": 11,
     "metadata": {},
     "output_type": "execute_result"
    }
   ],
   "source": [
    "((ss_slag - slag) / slag).unstack(0)"
   ]
  },
  {
   "cell_type": "code",
   "execution_count": 29,
   "id": "coral-microphone",
   "metadata": {},
   "outputs": [
    {
     "data": {
      "text/plain": [
       "-0.19069767441860466"
      ]
     },
     "execution_count": 29,
     "metadata": {},
     "output_type": "execute_result"
    }
   ],
   "source": [
    "(121.8 - 150.5)/150.5"
   ]
  },
  {
   "cell_type": "markdown",
   "id": "breathing-cherry",
   "metadata": {},
   "source": [
    "# Methods\n"
   ]
  },
  {
   "cell_type": "markdown",
   "id": "agreed-disclosure",
   "metadata": {},
   "source": [
    "## Classifier\n"
   ]
  },
  {
   "cell_type": "code",
   "execution_count": 31,
   "id": "qualified-resistance",
   "metadata": {},
   "outputs": [
    {
     "data": {
      "text/plain": [
       "'az://carbonplan-retro/results/reclassification/classifier_fscores.json'"
      ]
     },
     "execution_count": 31,
     "metadata": {},
     "output_type": "execute_result"
    }
   ],
   "source": [
    "fn"
   ]
  },
  {
   "cell_type": "code",
   "execution_count": 36,
   "id": "competitive-bracelet",
   "metadata": {},
   "outputs": [],
   "source": [
    "fs_prefix, fs_kwargs = get_retro_bucket()\n",
    "fn = f\"{fs_prefix}/reclassification/classifier_fscores.json\"\n",
    "with fsspec.open(fn, mode=\"r\", **fs_kwargs) as f:\n",
    "    fscores = json.load(f)"
   ]
  },
  {
   "cell_type": "code",
   "execution_count": 37,
   "id": "certified-homeless",
   "metadata": {},
   "outputs": [
    {
     "data": {
      "text/plain": [
       "0.77988012574225"
      ]
     },
     "execution_count": 37,
     "metadata": {},
     "output_type": "execute_result"
    }
   ],
   "source": [
    "np.median([scores[0] for ss_name, scores in fscores.items()])"
   ]
  },
  {
   "cell_type": "code",
   "execution_count": 38,
   "id": "current-devil",
   "metadata": {},
   "outputs": [],
   "source": [
    "table = (\n",
    "    pd.Series({ss_name: round(scores[0], 2) for ss_name, scores in fscores.items()})\n",
    "    .sort_values(ascending=False)\n",
    "    .rename(\"Weighted F-Score\")\n",
    "    .to_frame()\n",
    ")"
   ]
  },
  {
   "cell_type": "code",
   "execution_count": 39,
   "id": "acceptable-latvia",
   "metadata": {},
   "outputs": [],
   "source": [
    "table.index = table.index.set_names(\"Superseciton\")"
   ]
  },
  {
   "cell_type": "code",
   "execution_count": 40,
   "id": "documentary-prescription",
   "metadata": {},
   "outputs": [
    {
     "data": {
      "text/html": [
       "<div>\n",
       "<style scoped>\n",
       "    .dataframe tbody tr th:only-of-type {\n",
       "        vertical-align: middle;\n",
       "    }\n",
       "\n",
       "    .dataframe tbody tr th {\n",
       "        vertical-align: top;\n",
       "    }\n",
       "\n",
       "    .dataframe thead th {\n",
       "        text-align: right;\n",
       "    }\n",
       "</style>\n",
       "<table border=\"1\" class=\"dataframe\">\n",
       "  <thead>\n",
       "    <tr style=\"text-align: right;\">\n",
       "      <th></th>\n",
       "      <th>Weighted F-Score</th>\n",
       "    </tr>\n",
       "    <tr>\n",
       "      <th>Superseciton</th>\n",
       "      <th></th>\n",
       "    </tr>\n",
       "  </thead>\n",
       "  <tbody>\n",
       "    <tr>\n",
       "      <th>Central New Mexico</th>\n",
       "      <td>0.94</td>\n",
       "    </tr>\n",
       "    <tr>\n",
       "      <th>White Mountains - San Francisco Peaks - Mongollon</th>\n",
       "      <td>0.93</td>\n",
       "    </tr>\n",
       "    <tr>\n",
       "      <th>Southeast and South Central Alaska</th>\n",
       "      <td>0.91</td>\n",
       "    </tr>\n",
       "    <tr>\n",
       "      <th>Columbia Basin</th>\n",
       "      <td>0.89</td>\n",
       "    </tr>\n",
       "    <tr>\n",
       "      <th>Okanogan Highland</th>\n",
       "      <td>0.88</td>\n",
       "    </tr>\n",
       "    <tr>\n",
       "      <th>Northwest Cascades</th>\n",
       "      <td>0.87</td>\n",
       "    </tr>\n",
       "    <tr>\n",
       "      <th>Southern Cascades</th>\n",
       "      <td>0.82</td>\n",
       "    </tr>\n",
       "    <tr>\n",
       "      <th>Laurentian Mixed Forest Southern Superior</th>\n",
       "      <td>0.79</td>\n",
       "    </tr>\n",
       "    <tr>\n",
       "      <th>Maine - New Brunswick Foothills and Lowlands</th>\n",
       "      <td>0.78</td>\n",
       "    </tr>\n",
       "    <tr>\n",
       "      <th>White Mountains</th>\n",
       "      <td>0.78</td>\n",
       "    </tr>\n",
       "    <tr>\n",
       "      <th>Laurentian Mixed Forest Northern Highlands</th>\n",
       "      <td>0.77</td>\n",
       "    </tr>\n",
       "    <tr>\n",
       "      <th>St Lawrence &amp; Mohawk Valley</th>\n",
       "      <td>0.76</td>\n",
       "    </tr>\n",
       "    <tr>\n",
       "      <th>Northern California Coast</th>\n",
       "      <td>0.75</td>\n",
       "    </tr>\n",
       "    <tr>\n",
       "      <th>Gulf Coastal Plain</th>\n",
       "      <td>0.74</td>\n",
       "    </tr>\n",
       "    <tr>\n",
       "      <th>Adirondacks &amp; Green Mountains</th>\n",
       "      <td>0.74</td>\n",
       "    </tr>\n",
       "    <tr>\n",
       "      <th>Lower New England - Northern Appalachia</th>\n",
       "      <td>0.73</td>\n",
       "    </tr>\n",
       "    <tr>\n",
       "      <th>Eastern Broadleaf Forest Cumberland Plateau</th>\n",
       "      <td>0.69</td>\n",
       "    </tr>\n",
       "    <tr>\n",
       "      <th>Allegheny &amp; North Cumberland Mountains</th>\n",
       "      <td>0.69</td>\n",
       "    </tr>\n",
       "    <tr>\n",
       "      <th>Southern Allegheny Plateau</th>\n",
       "      <td>0.68</td>\n",
       "    </tr>\n",
       "  </tbody>\n",
       "</table>\n",
       "</div>"
      ],
      "text/plain": [
       "                                                   Weighted F-Score\n",
       "Superseciton                                                       \n",
       "Central New Mexico                                             0.94\n",
       "White Mountains - San Francisco Peaks - Mongollon              0.93\n",
       "Southeast and South Central Alaska                             0.91\n",
       "Columbia Basin                                                 0.89\n",
       "Okanogan Highland                                              0.88\n",
       "Northwest Cascades                                             0.87\n",
       "Southern Cascades                                              0.82\n",
       "Laurentian Mixed Forest Southern Superior                      0.79\n",
       "Maine - New Brunswick Foothills and Lowlands                   0.78\n",
       "White Mountains                                                0.78\n",
       "Laurentian Mixed Forest Northern Highlands                     0.77\n",
       "St Lawrence & Mohawk Valley                                    0.76\n",
       "Northern California Coast                                      0.75\n",
       "Gulf Coastal Plain                                             0.74\n",
       "Adirondacks & Green Mountains                                  0.74\n",
       "Lower New England - Northern Appalachia                        0.73\n",
       "Eastern Broadleaf Forest Cumberland Plateau                    0.69\n",
       "Allegheny & North Cumberland Mountains                         0.69\n",
       "Southern Allegheny Plateau                                     0.68"
      ]
     },
     "execution_count": 40,
     "metadata": {},
     "output_type": "execute_result"
    }
   ],
   "source": [
    "table"
   ]
  },
  {
   "cell_type": "markdown",
   "id": "innocent-dietary",
   "metadata": {},
   "source": [
    "## Common Practice Stuff\n"
   ]
  },
  {
   "cell_type": "code",
   "execution_count": 41,
   "id": "mysterious-camping",
   "metadata": {},
   "outputs": [],
   "source": [
    "projects = [\n",
    "    x\n",
    "    for x in retro_json\n",
    "    if x[\"carbon\"][\"initial_carbon_stock\"][\"value\"] > x[\"carbon\"][\"common_practice\"][\"value\"]\n",
    "]"
   ]
  },
  {
   "cell_type": "code",
   "execution_count": 42,
   "id": "married-world",
   "metadata": {},
   "outputs": [],
   "source": [
    "cp_df = pd.DataFrame(\n",
    "    [\n",
    "        (\n",
    "            project[\"carbon\"][\"average_slag_baseline\"][\"value\"],\n",
    "            project[\"carbon\"][\"common_practice\"][\"value\"],\n",
    "        )\n",
    "        for project in projects\n",
    "    ],\n",
    "    columns=[\"baseline\", \"cp\"],\n",
    ")"
   ]
  },
  {
   "cell_type": "markdown",
   "id": "serious-english",
   "metadata": {},
   "source": [
    "## Figure 2 Caption\n",
    "What percent of projects are within 5 percent of common practice?"
   ]
  },
  {
   "cell_type": "code",
   "execution_count": 44,
   "id": "eligible-potential",
   "metadata": {},
   "outputs": [
    {
     "data": {
      "text/plain": [
       "0.8923076923076924"
      ]
     },
     "execution_count": 44,
     "metadata": {},
     "output_type": "execute_result"
    }
   ],
   "source": [
    "sum((cp_df[\"baseline\"] <= cp_df[\"cp\"] * 1.05)) / len(cp_df.dropna())"
   ]
  },
  {
   "cell_type": "markdown",
   "id": "broken-balloon",
   "metadata": {},
   "source": [
    "# Extended Methods"
   ]
  },
  {
   "cell_type": "code",
   "execution_count": 62,
   "id": "ruled-exercise",
   "metadata": {},
   "outputs": [],
   "source": [
    "fs_prefix, fs_kwargs = get_temp_bucket()\n",
    "fn = f\"{fs_prefix}/results/common-practice-verification.json\"\n",
    "with fsspec.open(fn, mode=\"r\", **fs_kwargs) as f:\n",
    "    cp_verification = json.load(f)"
   ]
  },
  {
   "cell_type": "code",
   "execution_count": 106,
   "id": "radio-feeling",
   "metadata": {},
   "outputs": [
    {
     "data": {
      "text/plain": [
       "5.209087663866994"
      ]
     },
     "execution_count": 106,
     "metadata": {},
     "output_type": "execute_result"
    }
   ],
   "source": [
    "data = pd.DataFrame(cp_verification['assessment_areas'])[['common_practice', 'rfia']]\n",
    "mean_squared_error(data['common_practice'], data['rfia']) ** 0.5"
   ]
  },
  {
   "cell_type": "code",
   "execution_count": 110,
   "id": "indonesian-contributor",
   "metadata": {},
   "outputs": [
    {
     "data": {
      "text/plain": [
       "9.757829445418926"
      ]
     },
     "execution_count": 110,
     "metadata": {},
     "output_type": "execute_result"
    }
   ],
   "source": [
    "data = pd.DataFrame(cp_verification['projects'])[['recalculated', 'project_reported']]\n",
    "mean_squared_error(data['recalculated'], data['project_reported']) ** 0.5"
   ]
  },
  {
   "cell_type": "code",
   "execution_count": 208,
   "id": "caring-arcade",
   "metadata": {},
   "outputs": [],
   "source": [
    "data['diff'] = (data['recalculated'] - data['project_reported'])/(data['project_reported'])\n",
    "data = data[np.isfinite(data['diff'])] # CAR1186 = infite bc original CP = 0."
   ]
  },
  {
   "cell_type": "code",
   "execution_count": 209,
   "id": "gross-walnut",
   "metadata": {},
   "outputs": [
    {
     "data": {
      "text/plain": [
       "0.03226222826616072"
      ]
     },
     "execution_count": 209,
     "metadata": {},
     "output_type": "execute_result"
    }
   ],
   "source": [
    "data['diff'].mean()  "
   ]
  },
  {
   "cell_type": "code",
   "execution_count": 210,
   "id": "prescribed-software",
   "metadata": {},
   "outputs": [],
   "source": [
    "error_cp0 = data.set_index('opr_id')['diff']"
   ]
  },
  {
   "cell_type": "markdown",
   "id": "moderate-pantyhose",
   "metadata": {},
   "source": [
    "## Project scalars\n",
    "ratio of above ground to below ground carbon"
   ]
  },
  {
   "cell_type": "code",
   "execution_count": 211,
   "id": "functional-biology",
   "metadata": {},
   "outputs": [
    {
     "data": {
      "text/html": [
       "<div>\n",
       "<style scoped>\n",
       "    .dataframe tbody tr th:only-of-type {\n",
       "        vertical-align: middle;\n",
       "    }\n",
       "\n",
       "    .dataframe tbody tr th {\n",
       "        vertical-align: top;\n",
       "    }\n",
       "\n",
       "    .dataframe thead th {\n",
       "        text-align: right;\n",
       "    }\n",
       "</style>\n",
       "<table border=\"1\" class=\"dataframe\">\n",
       "  <thead>\n",
       "    <tr style=\"text-align: right;\">\n",
       "      <th></th>\n",
       "      <th>0</th>\n",
       "    </tr>\n",
       "  </thead>\n",
       "  <tbody>\n",
       "    <tr>\n",
       "      <th>count</th>\n",
       "      <td>72.000000</td>\n",
       "    </tr>\n",
       "    <tr>\n",
       "      <th>mean</th>\n",
       "      <td>1.236618</td>\n",
       "    </tr>\n",
       "    <tr>\n",
       "      <th>std</th>\n",
       "      <td>0.040171</td>\n",
       "    </tr>\n",
       "    <tr>\n",
       "      <th>min</th>\n",
       "      <td>1.027692</td>\n",
       "    </tr>\n",
       "    <tr>\n",
       "      <th>25%</th>\n",
       "      <td>1.222765</td>\n",
       "    </tr>\n",
       "    <tr>\n",
       "      <th>50%</th>\n",
       "      <td>1.242870</td>\n",
       "    </tr>\n",
       "    <tr>\n",
       "      <th>75%</th>\n",
       "      <td>1.260140</td>\n",
       "    </tr>\n",
       "    <tr>\n",
       "      <th>max</th>\n",
       "      <td>1.298649</td>\n",
       "    </tr>\n",
       "  </tbody>\n",
       "</table>\n",
       "</div>"
      ],
      "text/plain": [
       "               0\n",
       "count  72.000000\n",
       "mean    1.236618\n",
       "std     0.040171\n",
       "min     1.027692\n",
       "25%     1.222765\n",
       "50%     1.242870\n",
       "75%     1.260140\n",
       "max     1.298649"
      ]
     },
     "execution_count": 211,
     "metadata": {},
     "output_type": "execute_result"
    }
   ],
   "source": [
    "pd.DataFrame([get_slag_to_total_scalar(project) for project in projects]).describe()"
   ]
  },
  {
   "cell_type": "markdown",
   "id": "moderate-broadway",
   "metadata": {},
   "source": [
    "## IFM-3\n",
    "IFM-3 in the baseline scenario and project scenario are equal"
   ]
  },
  {
   "cell_type": "code",
   "execution_count": 136,
   "id": "satisfied-motor",
   "metadata": {},
   "outputs": [
    {
     "data": {
      "text/plain": [
       "0.5416666666666666"
      ]
     },
     "execution_count": 136,
     "metadata": {},
     "output_type": "execute_result"
    }
   ],
   "source": [
    "sum([x[\"rp_1\"][\"ifm_3\"] == x[\"baseline\"][\"ifm_3\"] for x in projects]) / len(projects)"
   ]
  },
  {
   "cell_type": "code",
   "execution_count": 220,
   "id": "fallen-former",
   "metadata": {},
   "outputs": [],
   "source": [
    "fs_prefix, fs_kwargs = get_retro_bucket()\n",
    "fn = f\"{fs_prefix}/results/reclassification-crediting-error.json\"\n",
    "with fsspec.open(fn, mode=\"r\", **fs_kwargs) as f:\n",
    "    crediting_error = json.load(f)\n",
    "\n",
    "crediting_df = pd.DataFrame({k: v[\"delta_arbocs\"] for k, v in crediting_error.items()})\n",
    "\n",
    "median_crediting_error = {k: np.median(v[\"delta_arbocs\"]) for k, v in crediting_error.items()}"
   ]
  },
  {
   "cell_type": "code",
   "execution_count": 224,
   "id": "interesting-launch",
   "metadata": {},
   "outputs": [],
   "source": [
    "tp = pd.concat(\n",
    "    [\n",
    "        pd.Series(median_crediting_error).rename(\"crediting_error\"),\n",
    "        error_cp0.rename('cp')\n",
    "    ],\n",
    "    axis=1,\n",
    ")"
   ]
  },
  {
   "cell_type": "code",
   "execution_count": 225,
   "id": "naughty-blank",
   "metadata": {},
   "outputs": [
    {
     "data": {
      "text/html": [
       "<div>\n",
       "<style scoped>\n",
       "    .dataframe tbody tr th:only-of-type {\n",
       "        vertical-align: middle;\n",
       "    }\n",
       "\n",
       "    .dataframe tbody tr th {\n",
       "        vertical-align: top;\n",
       "    }\n",
       "\n",
       "    .dataframe thead th {\n",
       "        text-align: right;\n",
       "    }\n",
       "</style>\n",
       "<table border=\"1\" class=\"dataframe\">\n",
       "  <thead>\n",
       "    <tr style=\"text-align: right;\">\n",
       "      <th></th>\n",
       "      <th>crediting_error</th>\n",
       "      <th>cp</th>\n",
       "    </tr>\n",
       "  </thead>\n",
       "  <tbody>\n",
       "    <tr>\n",
       "      <th>crediting_error</th>\n",
       "      <td>1.000000</td>\n",
       "      <td>0.059385</td>\n",
       "    </tr>\n",
       "    <tr>\n",
       "      <th>cp</th>\n",
       "      <td>0.059385</td>\n",
       "      <td>1.000000</td>\n",
       "    </tr>\n",
       "  </tbody>\n",
       "</table>\n",
       "</div>"
      ],
      "text/plain": [
       "                 crediting_error        cp\n",
       "crediting_error         1.000000  0.059385\n",
       "cp                      0.059385  1.000000"
      ]
     },
     "execution_count": 225,
     "metadata": {},
     "output_type": "execute_result"
    }
   ],
   "source": [
    "tp.dropna().corr()"
   ]
  },
  {
   "cell_type": "code",
   "execution_count": 226,
   "id": "excited-cigarette",
   "metadata": {},
   "outputs": [
    {
     "name": "stderr",
     "output_type": "stream",
     "text": [
      "/srv/conda/envs/notebook/lib/python3.8/site-packages/seaborn/_decorators.py:36: FutureWarning: Pass the following variables as keyword args: x, y. From version 0.12, the only valid positional argument will be `data`, and passing other arguments without an explicit keyword will result in an error or misinterpretation.\n",
      "  warnings.warn(\n"
     ]
    },
    {
     "data": {
      "text/plain": [
       "<seaborn.axisgrid.JointGrid at 0x7f40720a2970>"
      ]
     },
     "execution_count": 226,
     "metadata": {},
     "output_type": "execute_result"
    },
    {
     "data": {
      "image/png": "[encoded data removed]",
      "text/plain": [
       "<Figure size 432x432 with 3 Axes>"
      ]
     },
     "metadata": {
      "needs_background": "light"
     },
     "output_type": "display_data"
    }
   ],
   "source": [
    "sns.jointplot(\"cp\", \"crediting_error\", data=tp)"
   ]
  },
  {
   "cell_type": "markdown",
   "id": "hungarian-savannah",
   "metadata": {},
   "source": [
    "# Disucssion\n",
    "## Data limitations"
   ]
  },
  {
   "cell_type": "markdown",
   "id": "major-yacht",
   "metadata": {},
   "source": [
    "### Plots in AK\n"
   ]
  },
  {
   "cell_type": "code",
   "execution_count": 47,
   "id": "several-commerce",
   "metadata": {},
   "outputs": [],
   "source": [
    "ak_assessment_areas = [285, 286, 287]\n",
    "ak_all = pd.concat([cat.rfia_all(assessment_area_id=aa_id).read() for aa_id in ak_assessment_areas])"
   ]
  },
  {
   "cell_type": "code",
   "execution_count": 48,
   "id": "aboriginal-heading",
   "metadata": {},
   "outputs": [],
   "source": [
    "ak_all = ak_all[ak_all[\"YEAR\"] == 2013]"
   ]
  },
  {
   "cell_type": "code",
   "execution_count": 49,
   "id": "sorted-abuse",
   "metadata": {},
   "outputs": [
    {
     "data": {
      "text/plain": [
       "Assessment\n",
       "Alaska Range Transition            58\n",
       "Alexander Archipelago - Kodiak    161\n",
       "Gulf-NorthCoast-Chugach            79\n",
       "Name: nPlots_TREE, dtype: int64"
      ]
     },
     "metadata": {},
     "output_type": "display_data"
    }
   ],
   "source": [
    "plots_by_aa = ak_all.groupby(\"Assessment\")[\"nPlots_TREE\"].sum()\n",
    "display(plots_by_aa)"
   ]
  },
  {
   "cell_type": "code",
   "execution_count": 54,
   "id": "abroad-dinner",
   "metadata": {},
   "outputs": [
    {
     "data": {
      "text/plain": [
       "9517975.0"
      ]
     },
     "execution_count": 54,
     "metadata": {},
     "output_type": "execute_result"
    }
   ],
   "source": [
    "sum([project[\"arbocs\"][\"issuance\"] for project in retro_json if 287 in project[\"supersection_ids\"]])"
   ]
  },
  {
   "cell_type": "code",
   "execution_count": 50,
   "id": "original-destruction",
   "metadata": {},
   "outputs": [
    {
     "data": {
      "text/plain": [
       "298"
      ]
     },
     "metadata": {},
     "output_type": "display_data"
    }
   ],
   "source": [
    "# total AK plots\n",
    "display(plots_by_aa.sum())"
   ]
  },
  {
   "cell_type": "markdown",
   "id": "geographic-coverage",
   "metadata": {},
   "source": [
    "Contrasted against 297 (mixed conifer)"
   ]
  },
  {
   "cell_type": "code",
   "execution_count": 61,
   "id": "amino-ivory",
   "metadata": {},
   "outputs": [
    {
     "data": {
      "text/plain": [
       "545"
      ]
     },
     "execution_count": 61,
     "metadata": {},
     "output_type": "execute_result"
    }
   ],
   "source": [
    "sc = cat.rfia_all(assessment_area_id=297).read()\n",
    "sc[sc[\"YEAR\"] == 2010].nPlots_TREE.sum()"
   ]
  }
 ],
 "metadata": {
  "kernelspec": {
   "display_name": "Python 3",
   "language": "python",
   "name": "python3"
  },
  "language_info": {
   "codemirror_mode": {
    "name": "ipython",
    "version": 3
   },
   "file_extension": ".py",
   "mimetype": "text/x-python",
   "name": "python",
   "nbconvert_exporter": "python",
   "pygments_lexer": "ipython3",
   "version": "3.8.8"
  }
 },
 "nbformat": 4,
 "nbformat_minor": 5
}
