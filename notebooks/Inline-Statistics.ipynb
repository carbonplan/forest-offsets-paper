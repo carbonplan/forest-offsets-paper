{
 "cells": [
  {
   "cell_type": "markdown",
   "id": "ambient-bones",
   "metadata": {},
   "source": [
    "This notebook generates the values reported in the text of\n",
    "`Systematic over-crediting in California’s forest carbon offsets program`\n"
   ]
  },
  {
   "cell_type": "code",
   "execution_count": 1,
   "id": "trying-repository",
   "metadata": {},
   "outputs": [],
   "source": [
    "from collections import Counter\n",
    "import fsspec\n",
    "import json\n",
    "import os\n",
    "\n",
    "import matplotlib.pyplot as plt\n",
    "import numpy as np\n",
    "import pandas as pd\n",
    "import seaborn as sns\n",
    "from sklearn.metrics import mean_squared_error\n",
    "\n",
    "from carbonplan_forest_offsets.analysis.project_crediting_error import get_slag_to_total_scalar\n",
    "from carbonplan_forest_offsets.data import cat\n",
    "from carbonplan_forest_offsets.load.issuance import load_issuance_table, ifm_opr_ids"
   ]
  },
  {
   "cell_type": "code",
   "execution_count": 2,
   "id": "noted-dryer",
   "metadata": {},
   "outputs": [],
   "source": [
    "df = load_issuance_table(forest_only=False)\n",
    "retro_json = cat.retro_db_light_json.read()"
   ]
  },
  {
   "cell_type": "markdown",
   "id": "going-fortune",
   "metadata": {},
   "source": [
    "## Total Value\n"
   ]
  },
  {
   "cell_type": "code",
   "execution_count": 3,
   "id": "passive-allergy",
   "metadata": {},
   "outputs": [
    {
     "data": {
      "text/plain": [
       "192996530.0"
      ]
     },
     "metadata": {},
     "output_type": "display_data"
    },
    {
     "data": {
      "text/plain": [
       "2638262565.1"
      ]
     },
     "metadata": {},
     "output_type": "display_data"
    }
   ],
   "source": [
    "total_arbocs = df[\"allocation\"].sum()\n",
    "display(total_arbocs)\n",
    "\n",
    "price_per_arboc = 13.67\n",
    "\n",
    "display(price_per_arboc * total_arbocs)"
   ]
  },
  {
   "cell_type": "markdown",
   "id": "secure-bryan",
   "metadata": {},
   "source": [
    "### figure 1a\n",
    "\n",
    "data also posted to results via `analysis/summarize_issuance.py\n"
   ]
  },
  {
   "cell_type": "code",
   "execution_count": 4,
   "id": "handled-ceremony",
   "metadata": {},
   "outputs": [
    {
     "data": {
      "text/plain": [
       "{'all': (474, 193.0),\n",
       " 'all_forest': (130, 156.1),\n",
       " 'compliance_ifm': (93, 137.1),\n",
       " 'non_graduated_compliance_ifms': (74, 131.5),\n",
       " 'upfront_ifm': (72, 121.0)}"
      ]
     },
     "metadata": {},
     "output_type": "display_data"
    }
   ],
   "source": [
    "def subset_stats(criteria):\n",
    "    nunique_opr_ids = df[criteria][\"opr_id\"].nunique()\n",
    "    total_arbocs = (df[criteria][\"allocation\"].sum() / 1_000_000).round(1)\n",
    "    return (nunique_opr_ids, total_arbocs)\n",
    "\n",
    "\n",
    "upfront_opr_ids = [\n",
    "    project[\"opr_id\"]\n",
    "    for project in retro_json\n",
    "    if project[\"carbon\"][\"initial_carbon_stock\"][\"value\"]\n",
    "    > project[\"carbon\"][\"common_practice\"][\"value\"]\n",
    "]\n",
    "compliance_opr_ids = [project[\"opr_id\"] for project in retro_json]\n",
    "\n",
    "subsets = {\n",
    "    \"all\": np.tile(True, len(df)),\n",
    "    \"all_forest\": df[\"project_type\"] == \"forest\",\n",
    "    \"compliance_ifm\": (df[\"opr_id\"].isin(ifm_opr_ids)) & (df[\"Early Action/ Compliance\"] == \"COP\"),\n",
    "    \"non_graduated_compliance_ifms\": (df[\"opr_id\"].isin(compliance_opr_ids))\n",
    "    & (df[\"Early Action/ Compliance\"] == \"COP\"),\n",
    "    \"upfront_ifm\": (df[\"opr_id\"].isin(upfront_opr_ids)) & (df[\"arb_rp_id\"].isin([\"A\"])),\n",
    "}\n",
    "\n",
    "summary = {k: subset_stats(v) for k, v in subsets.items()}\n",
    "display(summary)"
   ]
  },
  {
   "cell_type": "code",
   "execution_count": 5,
   "id": "manufactured-practice",
   "metadata": {},
   "outputs": [
    {
     "data": {
      "text/plain": [
       "0.7751441383728379"
      ]
     },
     "execution_count": 5,
     "metadata": {},
     "output_type": "execute_result"
    }
   ],
   "source": [
    "summary[\"upfront_ifm\"][1] / summary[\"all_forest\"][1]"
   ]
  },
  {
   "cell_type": "code",
   "execution_count": 6,
   "id": "dense-skating",
   "metadata": {},
   "outputs": [
    {
     "data": {
      "text/plain": [
       "0.6269430051813472"
      ]
     },
     "execution_count": 6,
     "metadata": {},
     "output_type": "execute_result"
    }
   ],
   "source": [
    "summary[\"upfront_ifm\"][1] / summary[\"all\"][1]"
   ]
  },
  {
   "cell_type": "markdown",
   "id": "powerful-substance",
   "metadata": {},
   "source": [
    "## Carbon stocks for SC by species\n"
   ]
  },
  {
   "cell_type": "code",
   "execution_count": 7,
   "id": "colored-vegetable",
   "metadata": {},
   "outputs": [],
   "source": [
    "sc_data = cat.rfia_all(assessment_area_id=297).read()\n",
    "\n",
    "sc_data = sc_data[sc_data[\"YEAR\"] == 2010].copy()  # use 2010 because comporable to CP data\n",
    "\n",
    "\n",
    "sc_data[\"CARB_ACRE\"] = sc_data[\"CARB_ACRE\"] * 44 / 12 * 0.907185"
   ]
  },
  {
   "cell_type": "code",
   "execution_count": 8,
   "id": "military-coalition",
   "metadata": {},
   "outputs": [],
   "source": [
    "fortyps_of_interest = {\"Douglas fir\": 201, \"Ponderosa pine\": 221, \"Tanoak\": 941}"
   ]
  },
  {
   "cell_type": "code",
   "execution_count": 9,
   "id": "czech-fancy",
   "metadata": {},
   "outputs": [
    {
     "data": {
      "text/plain": [
       "{'Douglas fir': 122.5, 'Ponderosa pine': 60.4, 'Tanoak': 192.4}"
      ]
     },
     "metadata": {},
     "output_type": "display_data"
    }
   ],
   "source": [
    "standing_carbon = {}\n",
    "for k, v in fortyps_of_interest.items():\n",
    "    standing_carbon[k] = round(sc_data.loc[sc_data[\"FORTYPCD\"] == v, \"CARB_ACRE\"].item(), 1)\n",
    "display(standing_carbon)"
   ]
  },
  {
   "cell_type": "markdown",
   "id": "authorized-cable",
   "metadata": {},
   "source": [
    "### Coastal Alaska\n"
   ]
  },
  {
   "cell_type": "code",
   "execution_count": 10,
   "id": "natural-mortality",
   "metadata": {},
   "outputs": [],
   "source": [
    "# ak has three assessment areas but lets summarize across all to report inline value\n",
    "ak_assessment_areas = [285, 286, 287]\n",
    "ak_all = pd.concat([cat.rfia_all(assessment_area_id=aa_id).read() for aa_id in ak_assessment_areas])\n",
    "\n",
    "ak_all = ak_all[ak_all[\"YEAR\"] == 2013].copy()  # 2013 to match what used in CP\n",
    "\n",
    "sums = ak_all.groupby(\"FORTYPCD\").sum()[[\"CARB_TOTAL\", \"AREA_TOTAL\", \"nPlots_TREE\"]]"
   ]
  },
  {
   "cell_type": "code",
   "execution_count": 11,
   "id": "musical-academy",
   "metadata": {},
   "outputs": [],
   "source": [
    "ak_forests_of_interest = {\n",
    "    \"Sitka sprice\": 305,\n",
    "    \"Western hemlock\": 301,\n",
    "    \"Cottonwood\": 703,\n",
    "    \"Paper birch\": 902,\n",
    "}"
   ]
  },
  {
   "cell_type": "code",
   "execution_count": 12,
   "id": "auburn-storage",
   "metadata": {},
   "outputs": [
    {
     "data": {
      "text/plain": [
       "{'Sitka sprice': 121.1,\n",
       " 'Western hemlock': 143.0,\n",
       " 'Cottonwood': 41.4,\n",
       " 'Paper birch': 38.3}"
      ]
     },
     "metadata": {},
     "output_type": "display_data"
    }
   ],
   "source": [
    "ak_carb_acre = sums[\"CARB_TOTAL\"] / sums[\"AREA_TOTAL\"] * 44 / 12 * 0.907185\n",
    "\n",
    "display({k: ak_carb_acre[v].round(1) for k, v in ak_forests_of_interest.items()})"
   ]
  },
  {
   "cell_type": "markdown",
   "id": "actual-vietnam",
   "metadata": {},
   "source": [
    "### Project Examples\n"
   ]
  },
  {
   "cell_type": "code",
   "execution_count": 13,
   "id": "adjustable-dallas",
   "metadata": {},
   "outputs": [],
   "source": [
    "with fsspec.open(\n",
    "    \"https://carbonplan.blob.core.windows.net/carbonplan-retro/results/reclassification-crediting-error.json\",\n",
    "    mode=\"r\",\n",
    ") as f:\n",
    "    reclass_credit = json.load(f)"
   ]
  },
  {
   "cell_type": "code",
   "execution_count": 14,
   "id": "ideal-edward",
   "metadata": {},
   "outputs": [],
   "source": [
    "def summarize_project(project):\n",
    "    crediting_error = np.percentile(\n",
    "        reclass_credit[project[\"opr_id\"]][\"delta_arbocs\"], q=[5, 50, 95]\n",
    "    ).round(1)\n",
    "\n",
    "    as_frac = crediting_error / project[\"arbocs\"][\"calculated\"]\n",
    "    print(f\"{project['opr_id']} has a {crediting_error[1]} crediting error ({as_frac[1].round(3)})\")\n",
    "    print(f\"CI: {crediting_error[0]}, {crediting_error[2]}\")\n",
    "    print(f\"% CI: {as_frac[0].round(3)}, {as_frac[2].round(3)}\")"
   ]
  },
  {
   "cell_type": "code",
   "execution_count": 15,
   "id": "violent-render",
   "metadata": {},
   "outputs": [
    {
     "name": "stdout",
     "output_type": "stream",
     "text": [
      "ACR189 has a 135869.2 crediting error (0.501)\n",
      "CI: 85480.8, 185916.6\n",
      "% CI: 0.315, 0.686\n"
     ]
    }
   ],
   "source": [
    "opr_id = \"ACR189\"\n",
    "project = [x for x in retro_json if x[\"opr_id\"] == opr_id][0]\n",
    "\n",
    "summarize_project(project)"
   ]
  },
  {
   "cell_type": "code",
   "execution_count": 16,
   "id": "frank-intersection",
   "metadata": {},
   "outputs": [
    {
     "name": "stdout",
     "output_type": "stream",
     "text": [
      "ACR361 has a 318269.7 crediting error (0.134)\n",
      "CI: -198607.4, 871385.6\n",
      "% CI: -0.084, 0.367\n"
     ]
    }
   ],
   "source": [
    "opr_id = \"ACR361\"\n",
    "project = [x for x in retro_json if x[\"opr_id\"] == opr_id][0]\n",
    "\n",
    "summarize_project(project)"
   ]
  },
  {
   "cell_type": "code",
   "execution_count": 17,
   "id": "decent-saudi",
   "metadata": {},
   "outputs": [
    {
     "name": "stdout",
     "output_type": "stream",
     "text": [
      "CAR1183 has a 4417068.0 crediting error (1.0)\n",
      "CI: 4417068.0, 4417068.0\n",
      "% CI: 1.0, 1.0\n"
     ]
    }
   ],
   "source": [
    "opr_id = \"CAR1183\"\n",
    "project = [x for x in retro_json if x[\"opr_id\"] == opr_id][0]\n",
    "\n",
    "summarize_project(project)"
   ]
  },
  {
   "cell_type": "markdown",
   "id": "balanced-penny",
   "metadata": {},
   "source": [
    "### Ecosection combos\n"
   ]
  },
  {
   "cell_type": "code",
   "execution_count": 18,
   "id": "homeless-subcommittee",
   "metadata": {},
   "outputs": [],
   "source": [
    "fn = f\"https://carbonplan.blob.core.windows.net/carbonplan-retro/results/297_by_ecosection.csv\"\n",
    "with fsspec.open(fn, mode=\"r\") as f:\n",
    "    data = pd.read_csv(f)\n",
    "\n",
    "data = data[data[\"YEAR\"] == 2010]  # match CP calculation period"
   ]
  },
  {
   "cell_type": "code",
   "execution_count": 19,
   "id": "joint-mistress",
   "metadata": {},
   "outputs": [],
   "source": [
    "data[\"ECOSECTION\"] = data[\"ECOSUBCD\"].str[:-1].str.strip()\n",
    "\n",
    "\n",
    "lst = [\"M261A\", \"M261B\", \"M261D\"]  # ['263A']# [\"M221A\",\"M221B\",\"M221C\"] #['263A']#\n",
    "subset = data[(data[\"CARB_TOTAL\"] > 0) & (data[\"ECOSECTION\"].isin(lst))].copy()"
   ]
  },
  {
   "cell_type": "code",
   "execution_count": 20,
   "id": "comfortable-simulation",
   "metadata": {},
   "outputs": [],
   "source": [
    "sums = subset.groupby([\"site\", \"ECOSECTION\"])[[\"CARB_TOTAL\", \"AREA_TOTAL\"]].sum()\n",
    "slag = sums[\"CARB_TOTAL\"] / sums[\"AREA_TOTAL\"] * 44 / 12 * 0.907185"
   ]
  },
  {
   "cell_type": "code",
   "execution_count": 21,
   "id": "quality-burst",
   "metadata": {},
   "outputs": [],
   "source": [
    "ss_average = subset.groupby([\"site\"])[[\"CARB_TOTAL\", \"AREA_TOTAL\"]].sum()"
   ]
  },
  {
   "cell_type": "code",
   "execution_count": 22,
   "id": "coupled-prince",
   "metadata": {},
   "outputs": [],
   "source": [
    "ss_slag = ss_average[\"CARB_TOTAL\"] / ss_average[\"AREA_TOTAL\"] * 44 / 12 * 0.907185"
   ]
  },
  {
   "cell_type": "code",
   "execution_count": 23,
   "id": "controversial-retail",
   "metadata": {},
   "outputs": [
    {
     "data": {
      "text/html": [
       "<div>\n",
       "<style scoped>\n",
       "    .dataframe tbody tr th:only-of-type {\n",
       "        vertical-align: middle;\n",
       "    }\n",
       "\n",
       "    .dataframe tbody tr th {\n",
       "        vertical-align: top;\n",
       "    }\n",
       "\n",
       "    .dataframe thead th {\n",
       "        text-align: right;\n",
       "    }\n",
       "</style>\n",
       "<table border=\"1\" class=\"dataframe\">\n",
       "  <thead>\n",
       "    <tr style=\"text-align: right;\">\n",
       "      <th>ECOSECTION</th>\n",
       "      <th>M261A</th>\n",
       "      <th>M261B</th>\n",
       "      <th>M261D</th>\n",
       "    </tr>\n",
       "    <tr>\n",
       "      <th>site</th>\n",
       "      <th></th>\n",
       "      <th></th>\n",
       "      <th></th>\n",
       "    </tr>\n",
       "  </thead>\n",
       "  <tbody>\n",
       "    <tr>\n",
       "      <th>high</th>\n",
       "      <td>120.6</td>\n",
       "      <td>150.5</td>\n",
       "      <td>100.6</td>\n",
       "    </tr>\n",
       "    <tr>\n",
       "      <th>low</th>\n",
       "      <td>95.2</td>\n",
       "      <td>106.4</td>\n",
       "      <td>53.2</td>\n",
       "    </tr>\n",
       "  </tbody>\n",
       "</table>\n",
       "</div>"
      ],
      "text/plain": [
       "ECOSECTION  M261A  M261B  M261D\n",
       "site                           \n",
       "high        120.6  150.5  100.6\n",
       "low          95.2  106.4   53.2"
      ]
     },
     "execution_count": 23,
     "metadata": {},
     "output_type": "execute_result"
    }
   ],
   "source": [
    "slag.unstack(1).round(1)"
   ]
  },
  {
   "cell_type": "code",
   "execution_count": 24,
   "id": "exciting-bishop",
   "metadata": {},
   "outputs": [
    {
     "data": {
      "text/html": [
       "<div>\n",
       "<style scoped>\n",
       "    .dataframe tbody tr th:only-of-type {\n",
       "        vertical-align: middle;\n",
       "    }\n",
       "\n",
       "    .dataframe tbody tr th {\n",
       "        vertical-align: top;\n",
       "    }\n",
       "\n",
       "    .dataframe thead th {\n",
       "        text-align: right;\n",
       "    }\n",
       "</style>\n",
       "<table border=\"1\" class=\"dataframe\">\n",
       "  <thead>\n",
       "    <tr style=\"text-align: right;\">\n",
       "      <th>site</th>\n",
       "      <th>high</th>\n",
       "      <th>low</th>\n",
       "    </tr>\n",
       "    <tr>\n",
       "      <th>ECOSECTION</th>\n",
       "      <th></th>\n",
       "      <th></th>\n",
       "    </tr>\n",
       "  </thead>\n",
       "  <tbody>\n",
       "    <tr>\n",
       "      <th>M261A</th>\n",
       "      <td>-0.013284</td>\n",
       "      <td>-0.161891</td>\n",
       "    </tr>\n",
       "    <tr>\n",
       "      <th>M261B</th>\n",
       "      <td>-0.209140</td>\n",
       "      <td>-0.250049</td>\n",
       "    </tr>\n",
       "    <tr>\n",
       "      <th>M261D</th>\n",
       "      <td>0.183504</td>\n",
       "      <td>0.499957</td>\n",
       "    </tr>\n",
       "  </tbody>\n",
       "</table>\n",
       "</div>"
      ],
      "text/plain": [
       "site            high       low\n",
       "ECOSECTION                    \n",
       "M261A      -0.013284 -0.161891\n",
       "M261B      -0.209140 -0.250049\n",
       "M261D       0.183504  0.499957"
      ]
     },
     "execution_count": 24,
     "metadata": {},
     "output_type": "execute_result"
    }
   ],
   "source": [
    "((ss_slag - slag) / slag).unstack(0)"
   ]
  },
  {
   "cell_type": "code",
   "execution_count": 25,
   "id": "electoral-twins",
   "metadata": {},
   "outputs": [
    {
     "data": {
      "text/plain": [
       "-0.19069767441860466"
      ]
     },
     "execution_count": 25,
     "metadata": {},
     "output_type": "execute_result"
    }
   ],
   "source": [
    "(121.8 - 150.5) / 150.5"
   ]
  },
  {
   "cell_type": "markdown",
   "id": "otherwise-munich",
   "metadata": {},
   "source": [
    "# Methods\n"
   ]
  },
  {
   "cell_type": "markdown",
   "id": "straight-trance",
   "metadata": {},
   "source": [
    "## Classifier\n"
   ]
  },
  {
   "cell_type": "code",
   "execution_count": 26,
   "id": "acquired-republican",
   "metadata": {},
   "outputs": [],
   "source": [
    "fn = f\"https://carbonplan.blob.core.windows.net/carbonplan-retro/reclassification/classifier_fscores.json\"\n",
    "with fsspec.open(fn, mode=\"r\") as f:\n",
    "    fscores = json.load(f)"
   ]
  },
  {
   "cell_type": "code",
   "execution_count": 27,
   "id": "olive-attribute",
   "metadata": {},
   "outputs": [
    {
     "data": {
      "text/plain": [
       "0.77988012574225"
      ]
     },
     "execution_count": 27,
     "metadata": {},
     "output_type": "execute_result"
    }
   ],
   "source": [
    "np.median([scores[0] for ss_name, scores in fscores.items()])"
   ]
  },
  {
   "cell_type": "code",
   "execution_count": 28,
   "id": "amended-joining",
   "metadata": {},
   "outputs": [],
   "source": [
    "table = (\n",
    "    pd.Series({ss_name: round(scores[0], 2) for ss_name, scores in fscores.items()})\n",
    "    .sort_values(ascending=False)\n",
    "    .rename(\"Weighted F-Score\")\n",
    "    .to_frame()\n",
    ")"
   ]
  },
  {
   "cell_type": "code",
   "execution_count": 29,
   "id": "announced-improvement",
   "metadata": {},
   "outputs": [],
   "source": [
    "table.index = table.index.set_names(\"Superseciton\")"
   ]
  },
  {
   "cell_type": "code",
   "execution_count": 30,
   "id": "alternate-adjustment",
   "metadata": {},
   "outputs": [
    {
     "data": {
      "text/html": [
       "<div>\n",
       "<style scoped>\n",
       "    .dataframe tbody tr th:only-of-type {\n",
       "        vertical-align: middle;\n",
       "    }\n",
       "\n",
       "    .dataframe tbody tr th {\n",
       "        vertical-align: top;\n",
       "    }\n",
       "\n",
       "    .dataframe thead th {\n",
       "        text-align: right;\n",
       "    }\n",
       "</style>\n",
       "<table border=\"1\" class=\"dataframe\">\n",
       "  <thead>\n",
       "    <tr style=\"text-align: right;\">\n",
       "      <th></th>\n",
       "      <th>Weighted F-Score</th>\n",
       "    </tr>\n",
       "    <tr>\n",
       "      <th>Superseciton</th>\n",
       "      <th></th>\n",
       "    </tr>\n",
       "  </thead>\n",
       "  <tbody>\n",
       "    <tr>\n",
       "      <th>Central New Mexico</th>\n",
       "      <td>0.94</td>\n",
       "    </tr>\n",
       "    <tr>\n",
       "      <th>White Mountains - San Francisco Peaks - Mongollon</th>\n",
       "      <td>0.93</td>\n",
       "    </tr>\n",
       "    <tr>\n",
       "      <th>Southeast and South Central Alaska</th>\n",
       "      <td>0.91</td>\n",
       "    </tr>\n",
       "    <tr>\n",
       "      <th>Columbia Basin</th>\n",
       "      <td>0.89</td>\n",
       "    </tr>\n",
       "    <tr>\n",
       "      <th>Okanogan Highland</th>\n",
       "      <td>0.88</td>\n",
       "    </tr>\n",
       "    <tr>\n",
       "      <th>Northwest Cascades</th>\n",
       "      <td>0.87</td>\n",
       "    </tr>\n",
       "    <tr>\n",
       "      <th>Southern Cascades</th>\n",
       "      <td>0.82</td>\n",
       "    </tr>\n",
       "    <tr>\n",
       "      <th>Laurentian Mixed Forest Southern Superior</th>\n",
       "      <td>0.79</td>\n",
       "    </tr>\n",
       "    <tr>\n",
       "      <th>White Mountains</th>\n",
       "      <td>0.78</td>\n",
       "    </tr>\n",
       "    <tr>\n",
       "      <th>Maine - New Brunswick Foothills and Lowlands</th>\n",
       "      <td>0.78</td>\n",
       "    </tr>\n",
       "    <tr>\n",
       "      <th>Laurentian Mixed Forest Northern Highlands</th>\n",
       "      <td>0.77</td>\n",
       "    </tr>\n",
       "    <tr>\n",
       "      <th>St Lawrence &amp; Mohawk Valley</th>\n",
       "      <td>0.76</td>\n",
       "    </tr>\n",
       "    <tr>\n",
       "      <th>Northern California Coast</th>\n",
       "      <td>0.75</td>\n",
       "    </tr>\n",
       "    <tr>\n",
       "      <th>Adirondacks &amp; Green Mountains</th>\n",
       "      <td>0.74</td>\n",
       "    </tr>\n",
       "    <tr>\n",
       "      <th>Gulf Coastal Plain</th>\n",
       "      <td>0.74</td>\n",
       "    </tr>\n",
       "    <tr>\n",
       "      <th>Lower New England - Northern Appalachia</th>\n",
       "      <td>0.73</td>\n",
       "    </tr>\n",
       "    <tr>\n",
       "      <th>Allegheny &amp; North Cumberland Mountains</th>\n",
       "      <td>0.69</td>\n",
       "    </tr>\n",
       "    <tr>\n",
       "      <th>Eastern Broadleaf Forest Cumberland Plateau</th>\n",
       "      <td>0.69</td>\n",
       "    </tr>\n",
       "    <tr>\n",
       "      <th>Southern Allegheny Plateau</th>\n",
       "      <td>0.68</td>\n",
       "    </tr>\n",
       "  </tbody>\n",
       "</table>\n",
       "</div>"
      ],
      "text/plain": [
       "                                                   Weighted F-Score\n",
       "Superseciton                                                       \n",
       "Central New Mexico                                             0.94\n",
       "White Mountains - San Francisco Peaks - Mongollon              0.93\n",
       "Southeast and South Central Alaska                             0.91\n",
       "Columbia Basin                                                 0.89\n",
       "Okanogan Highland                                              0.88\n",
       "Northwest Cascades                                             0.87\n",
       "Southern Cascades                                              0.82\n",
       "Laurentian Mixed Forest Southern Superior                      0.79\n",
       "White Mountains                                                0.78\n",
       "Maine - New Brunswick Foothills and Lowlands                   0.78\n",
       "Laurentian Mixed Forest Northern Highlands                     0.77\n",
       "St Lawrence & Mohawk Valley                                    0.76\n",
       "Northern California Coast                                      0.75\n",
       "Adirondacks & Green Mountains                                  0.74\n",
       "Gulf Coastal Plain                                             0.74\n",
       "Lower New England - Northern Appalachia                        0.73\n",
       "Allegheny & North Cumberland Mountains                         0.69\n",
       "Eastern Broadleaf Forest Cumberland Plateau                    0.69\n",
       "Southern Allegheny Plateau                                     0.68"
      ]
     },
     "execution_count": 30,
     "metadata": {},
     "output_type": "execute_result"
    }
   ],
   "source": [
    "table"
   ]
  },
  {
   "cell_type": "markdown",
   "id": "composed-chicago",
   "metadata": {},
   "source": [
    "## Common Practice Stuff\n"
   ]
  },
  {
   "cell_type": "code",
   "execution_count": 31,
   "id": "vulnerable-sound",
   "metadata": {},
   "outputs": [],
   "source": [
    "projects = [\n",
    "    x\n",
    "    for x in retro_json\n",
    "    if x[\"carbon\"][\"initial_carbon_stock\"][\"value\"] > x[\"carbon\"][\"common_practice\"][\"value\"]\n",
    "]"
   ]
  },
  {
   "cell_type": "code",
   "execution_count": 32,
   "id": "smoking-spending",
   "metadata": {},
   "outputs": [],
   "source": [
    "cp_df = pd.DataFrame(\n",
    "    [\n",
    "        (\n",
    "            project[\"carbon\"][\"average_slag_baseline\"][\"value\"],\n",
    "            project[\"carbon\"][\"common_practice\"][\"value\"],\n",
    "        )\n",
    "        for project in projects\n",
    "    ],\n",
    "    columns=[\"baseline\", \"cp\"],\n",
    ")"
   ]
  },
  {
   "cell_type": "markdown",
   "id": "instructional-costa",
   "metadata": {},
   "source": [
    "## Figure 2 Caption\n",
    "\n",
    "What percent of projects are within 5 percent of common practice?\n"
   ]
  },
  {
   "cell_type": "code",
   "execution_count": 33,
   "id": "dying-mongolia",
   "metadata": {},
   "outputs": [
    {
     "data": {
      "text/plain": [
       "0.8923076923076924"
      ]
     },
     "execution_count": 33,
     "metadata": {},
     "output_type": "execute_result"
    }
   ],
   "source": [
    "sum((cp_df[\"baseline\"] <= cp_df[\"cp\"] * 1.05)) / len(cp_df.dropna())"
   ]
  },
  {
   "cell_type": "markdown",
   "id": "separate-extension",
   "metadata": {},
   "source": [
    "# Extended Methods\n"
   ]
  },
  {
   "cell_type": "code",
   "execution_count": 34,
   "id": "domestic-feelings",
   "metadata": {},
   "outputs": [],
   "source": [
    "fn = f\"https://carbonplan.blob.core.windows.net/carbonplan-retro/results/common-practice-verification.json\"\n",
    "with fsspec.open(fn, mode=\"r\") as f:\n",
    "    cp_verification = json.load(f)"
   ]
  },
  {
   "cell_type": "code",
   "execution_count": 35,
   "id": "assisted-ivory",
   "metadata": {},
   "outputs": [
    {
     "data": {
      "text/plain": [
       "4.9433707752078595"
      ]
     },
     "execution_count": 35,
     "metadata": {},
     "output_type": "execute_result"
    }
   ],
   "source": [
    "data = pd.DataFrame(cp_verification[\"assessment_areas\"])[[\"common_practice\", \"rfia\"]]\n",
    "mean_squared_error(data[\"common_practice\"], data[\"rfia\"]) ** 0.5"
   ]
  },
  {
   "cell_type": "code",
   "execution_count": 36,
   "id": "peaceful-photography",
   "metadata": {},
   "outputs": [
    {
     "data": {
      "text/plain": [
       "9.714909886835764"
      ]
     },
     "execution_count": 36,
     "metadata": {},
     "output_type": "execute_result"
    }
   ],
   "source": [
    "data = pd.DataFrame(cp_verification[\"projects\"])[[\"opr_id\", \"recalculated\", \"project_reported\"]]\n",
    "mean_squared_error(data[\"recalculated\"], data[\"project_reported\"]) ** 0.5"
   ]
  },
  {
   "cell_type": "code",
   "execution_count": 37,
   "id": "controlling-sharing",
   "metadata": {},
   "outputs": [],
   "source": [
    "data[\"diff\"] = (data[\"recalculated\"] - data[\"project_reported\"]) / (data[\"project_reported\"])\n",
    "data = data[np.isfinite(data[\"diff\"])]  # CAR1186 = infite bc original CP = 0."
   ]
  },
  {
   "cell_type": "code",
   "execution_count": 38,
   "id": "harmful-crawford",
   "metadata": {},
   "outputs": [
    {
     "data": {
      "text/plain": [
       "0.02872469944696075"
      ]
     },
     "execution_count": 38,
     "metadata": {},
     "output_type": "execute_result"
    }
   ],
   "source": [
    "data[\"diff\"].mean()"
   ]
  },
  {
   "cell_type": "code",
   "execution_count": 39,
   "id": "present-momentum",
   "metadata": {},
   "outputs": [],
   "source": [
    "error_cp0 = data.set_index(\"opr_id\")[\"diff\"]"
   ]
  },
  {
   "cell_type": "markdown",
   "id": "related-harrison",
   "metadata": {},
   "source": [
    "## Project scalars\n",
    "\n",
    "ratio of above ground to below ground carbon\n"
   ]
  },
  {
   "cell_type": "code",
   "execution_count": 40,
   "id": "reserved-scholar",
   "metadata": {},
   "outputs": [
    {
     "data": {
      "text/html": [
       "<div>\n",
       "<style scoped>\n",
       "    .dataframe tbody tr th:only-of-type {\n",
       "        vertical-align: middle;\n",
       "    }\n",
       "\n",
       "    .dataframe tbody tr th {\n",
       "        vertical-align: top;\n",
       "    }\n",
       "\n",
       "    .dataframe thead th {\n",
       "        text-align: right;\n",
       "    }\n",
       "</style>\n",
       "<table border=\"1\" class=\"dataframe\">\n",
       "  <thead>\n",
       "    <tr style=\"text-align: right;\">\n",
       "      <th></th>\n",
       "      <th>0</th>\n",
       "    </tr>\n",
       "  </thead>\n",
       "  <tbody>\n",
       "    <tr>\n",
       "      <th>count</th>\n",
       "      <td>72.000000</td>\n",
       "    </tr>\n",
       "    <tr>\n",
       "      <th>mean</th>\n",
       "      <td>1.236618</td>\n",
       "    </tr>\n",
       "    <tr>\n",
       "      <th>std</th>\n",
       "      <td>0.040171</td>\n",
       "    </tr>\n",
       "    <tr>\n",
       "      <th>min</th>\n",
       "      <td>1.027692</td>\n",
       "    </tr>\n",
       "    <tr>\n",
       "      <th>25%</th>\n",
       "      <td>1.222765</td>\n",
       "    </tr>\n",
       "    <tr>\n",
       "      <th>50%</th>\n",
       "      <td>1.242870</td>\n",
       "    </tr>\n",
       "    <tr>\n",
       "      <th>75%</th>\n",
       "      <td>1.260140</td>\n",
       "    </tr>\n",
       "    <tr>\n",
       "      <th>max</th>\n",
       "      <td>1.298649</td>\n",
       "    </tr>\n",
       "  </tbody>\n",
       "</table>\n",
       "</div>"
      ],
      "text/plain": [
       "               0\n",
       "count  72.000000\n",
       "mean    1.236618\n",
       "std     0.040171\n",
       "min     1.027692\n",
       "25%     1.222765\n",
       "50%     1.242870\n",
       "75%     1.260140\n",
       "max     1.298649"
      ]
     },
     "execution_count": 40,
     "metadata": {},
     "output_type": "execute_result"
    }
   ],
   "source": [
    "pd.DataFrame([get_slag_to_total_scalar(project) for project in projects]).describe()"
   ]
  },
  {
   "cell_type": "markdown",
   "id": "certified-demographic",
   "metadata": {},
   "source": [
    "## IFM-3\n",
    "\n",
    "IFM-3 in the baseline scenario and project scenario are equal\n"
   ]
  },
  {
   "cell_type": "code",
   "execution_count": 41,
   "id": "collectible-storm",
   "metadata": {},
   "outputs": [
    {
     "data": {
      "text/plain": [
       "0.5416666666666666"
      ]
     },
     "execution_count": 41,
     "metadata": {},
     "output_type": "execute_result"
    }
   ],
   "source": [
    "sum([x[\"rp_1\"][\"ifm_3\"] == x[\"baseline\"][\"ifm_3\"] for x in projects]) / len(projects)"
   ]
  },
  {
   "cell_type": "code",
   "execution_count": 42,
   "id": "silent-summit",
   "metadata": {},
   "outputs": [],
   "source": [
    "fn = \"https://carbonplan.blob.core.windows.net/carbonplan-retro/results/reclassification-crediting-error.json\"\n",
    "with fsspec.open(fn, mode=\"r\") as f:\n",
    "    crediting_error = json.load(f)\n",
    "\n",
    "crediting_df = pd.DataFrame({k: v[\"delta_arbocs\"] for k, v in crediting_error.items()})\n",
    "\n",
    "median_crediting_error = {k: np.median(v[\"delta_arbocs\"]) for k, v in crediting_error.items()}"
   ]
  },
  {
   "cell_type": "code",
   "execution_count": 43,
   "id": "wooden-initial",
   "metadata": {},
   "outputs": [],
   "source": [
    "tp = pd.concat(\n",
    "    [pd.Series(median_crediting_error).rename(\"crediting_error\"), error_cp0.rename(\"cp\")],\n",
    "    axis=1,\n",
    ")"
   ]
  },
  {
   "cell_type": "code",
   "execution_count": 44,
   "id": "dress-purple",
   "metadata": {},
   "outputs": [
    {
     "data": {
      "text/html": [
       "<div>\n",
       "<style scoped>\n",
       "    .dataframe tbody tr th:only-of-type {\n",
       "        vertical-align: middle;\n",
       "    }\n",
       "\n",
       "    .dataframe tbody tr th {\n",
       "        vertical-align: top;\n",
       "    }\n",
       "\n",
       "    .dataframe thead th {\n",
       "        text-align: right;\n",
       "    }\n",
       "</style>\n",
       "<table border=\"1\" class=\"dataframe\">\n",
       "  <thead>\n",
       "    <tr style=\"text-align: right;\">\n",
       "      <th></th>\n",
       "      <th>crediting_error</th>\n",
       "      <th>cp</th>\n",
       "    </tr>\n",
       "  </thead>\n",
       "  <tbody>\n",
       "    <tr>\n",
       "      <th>crediting_error</th>\n",
       "      <td>1.000000</td>\n",
       "      <td>0.087246</td>\n",
       "    </tr>\n",
       "    <tr>\n",
       "      <th>cp</th>\n",
       "      <td>0.087246</td>\n",
       "      <td>1.000000</td>\n",
       "    </tr>\n",
       "  </tbody>\n",
       "</table>\n",
       "</div>"
      ],
      "text/plain": [
       "                 crediting_error        cp\n",
       "crediting_error         1.000000  0.087246\n",
       "cp                      0.087246  1.000000"
      ]
     },
     "execution_count": 44,
     "metadata": {},
     "output_type": "execute_result"
    }
   ],
   "source": [
    "tp.dropna().corr()"
   ]
  },
  {
   "cell_type": "code",
   "execution_count": 45,
   "id": "sized-repository",
   "metadata": {},
   "outputs": [
    {
     "name": "stderr",
     "output_type": "stream",
     "text": [
      "/Users/jhamman/miniconda3/envs/carbonplan/lib/python3.7/site-packages/seaborn/_decorators.py:43: FutureWarning: Pass the following variables as keyword args: x, y. From version 0.12, the only valid positional argument will be `data`, and passing other arguments without an explicit keyword will result in an error or misinterpretation.\n",
      "  FutureWarning\n"
     ]
    },
    {
     "data": {
      "text/plain": [
       "<seaborn.axisgrid.JointGrid at 0x7fcd741d3450>"
      ]
     },
     "execution_count": 45,
     "metadata": {},
     "output_type": "execute_result"
    },
    {
     "data": {
      "image/png": "[encoded data removed]",
      "text/plain": [
       "<Figure size 432x432 with 3 Axes>"
      ]
     },
     "metadata": {
      "needs_background": "light"
     },
     "output_type": "display_data"
    }
   ],
   "source": [
    "sns.jointplot(\"cp\", \"crediting_error\", data=tp)"
   ]
  },
  {
   "cell_type": "markdown",
   "id": "biblical-bermuda",
   "metadata": {},
   "source": [
    "# Disucssion\n",
    "\n",
    "## Data limitations\n"
   ]
  },
  {
   "cell_type": "markdown",
   "id": "obvious-hayes",
   "metadata": {},
   "source": [
    "### Plots in AK\n"
   ]
  },
  {
   "cell_type": "code",
   "execution_count": 46,
   "id": "excited-guide",
   "metadata": {},
   "outputs": [],
   "source": [
    "ak_assessment_areas = [285, 286, 287]\n",
    "ak_all = pd.concat([cat.rfia_all(assessment_area_id=aa_id).read() for aa_id in ak_assessment_areas])"
   ]
  },
  {
   "cell_type": "code",
   "execution_count": 47,
   "id": "patent-afghanistan",
   "metadata": {},
   "outputs": [],
   "source": [
    "ak_all = ak_all[ak_all[\"YEAR\"] == 2013]"
   ]
  },
  {
   "cell_type": "code",
   "execution_count": 48,
   "id": "theoretical-baker",
   "metadata": {},
   "outputs": [
    {
     "data": {
      "text/plain": [
       "Assessment\n",
       "Alaska Range Transition            58\n",
       "Alexander Archipelago - Kodiak    161\n",
       "Gulf-NorthCoast-Chugach            79\n",
       "Name: nPlots_TREE, dtype: int64"
      ]
     },
     "metadata": {},
     "output_type": "display_data"
    }
   ],
   "source": [
    "plots_by_aa = ak_all.groupby(\"Assessment\")[\"nPlots_TREE\"].sum()\n",
    "display(plots_by_aa)"
   ]
  },
  {
   "cell_type": "code",
   "execution_count": 49,
   "id": "certain-founder",
   "metadata": {},
   "outputs": [
    {
     "data": {
      "text/plain": [
       "9517975.0"
      ]
     },
     "execution_count": 49,
     "metadata": {},
     "output_type": "execute_result"
    }
   ],
   "source": [
    "sum([project[\"arbocs\"][\"issuance\"] for project in retro_json if 287 in project[\"supersection_ids\"]])"
   ]
  },
  {
   "cell_type": "code",
   "execution_count": 50,
   "id": "sapphire-corruption",
   "metadata": {},
   "outputs": [
    {
     "data": {
      "text/plain": [
       "298"
      ]
     },
     "metadata": {},
     "output_type": "display_data"
    }
   ],
   "source": [
    "# total AK plots\n",
    "display(plots_by_aa.sum())"
   ]
  },
  {
   "cell_type": "markdown",
   "id": "played-physics",
   "metadata": {},
   "source": [
    "Contrasted against 297 (mixed conifer)\n"
   ]
  },
  {
   "cell_type": "code",
   "execution_count": 51,
   "id": "promotional-certificate",
   "metadata": {},
   "outputs": [
    {
     "data": {
      "text/plain": [
       "545"
      ]
     },
     "execution_count": 51,
     "metadata": {},
     "output_type": "execute_result"
    }
   ],
   "source": [
    "sc = cat.rfia_all(assessment_area_id=297).read()\n",
    "sc[sc[\"YEAR\"] == 2010].nPlots_TREE.sum()"
   ]
  }
 ],
 "metadata": {
  "kernelspec": {
   "display_name": "Python 3",
   "language": "python",
   "name": "python3"
  },
  "language_info": {
   "codemirror_mode": {
    "name": "ipython",
    "version": 3
   },
   "file_extension": ".py",
   "mimetype": "text/x-python",
   "name": "python",
   "nbconvert_exporter": "python",
   "pygments_lexer": "ipython3",
   "version": "3.7.8"
  }
 },
 "nbformat": 4,
 "nbformat_minor": 5
}
