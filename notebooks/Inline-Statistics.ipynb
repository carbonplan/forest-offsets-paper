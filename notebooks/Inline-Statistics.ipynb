{
 "cells": [
  {
   "cell_type": "markdown",
   "metadata": {},
   "source": [
    "This notebook generates the values reported in the text of\n",
    "`Systematic over-crediting in California’s forest carbon offsets program`\n"
   ]
  },
  {
   "cell_type": "code",
   "execution_count": 1,
   "metadata": {},
   "outputs": [],
   "source": [
    "from collections import Counter\n",
    "import fsspec\n",
    "import json\n",
    "import os\n",
    "\n",
    "import matplotlib.pyplot as plt\n",
    "import numpy as np\n",
    "import pandas as pd\n",
    "import seaborn as sns\n",
    "from sklearn.metrics import mean_squared_error\n",
    "\n",
    "from carbonplan_forest_offsets.analysis.project_crediting_error import get_slag_to_total_scalar\n",
    "from carbonplan_forest_offsets.data import cat\n",
    "from carbonplan_forest_offsets.load.issuance import load_issuance_table, ifm_opr_ids"
   ]
  },
  {
   "cell_type": "code",
   "execution_count": 2,
   "metadata": {},
   "outputs": [],
   "source": [
    "df = load_issuance_table(forest_only=False)\n",
    "retro_json = cat.retro_db_light_json.read()"
   ]
  },
  {
   "cell_type": "markdown",
   "metadata": {},
   "source": [
    "## Total Value\n"
   ]
  },
  {
   "cell_type": "code",
   "execution_count": 3,
   "metadata": {},
   "outputs": [
    {
     "data": {
      "text/plain": [
       "192996530.0"
      ]
     },
     "metadata": {},
     "output_type": "display_data"
    },
    {
     "data": {
      "text/plain": [
       "2638262565.1"
      ]
     },
     "metadata": {},
     "output_type": "display_data"
    }
   ],
   "source": [
    "total_arbocs = df[\"allocation\"].sum()\n",
    "display(total_arbocs)\n",
    "\n",
    "price_per_arboc = 13.67\n",
    "\n",
    "display(price_per_arboc * total_arbocs)"
   ]
  },
  {
   "cell_type": "markdown",
   "metadata": {},
   "source": [
    "### figure 1a\n",
    "\n",
    "data also posted to results via `analysis/summarize_issuance.py\n"
   ]
  },
  {
   "cell_type": "code",
   "execution_count": 4,
   "metadata": {},
   "outputs": [
    {
     "data": {
      "text/plain": [
       "{'all': (474, 193.0),\n",
       " 'all_forest': (130, 156.1),\n",
       " 'compliance_ifm': (93, 137.1),\n",
       " 'non_graduated_compliance_ifms': (74, 131.5),\n",
       " 'upfront_ifm': (72, 121.0)}"
      ]
     },
     "metadata": {},
     "output_type": "display_data"
    }
   ],
   "source": [
    "def subset_stats(criteria):\n",
    "    nunique_opr_ids = df[criteria][\"opr_id\"].nunique()\n",
    "    total_arbocs = (df[criteria][\"allocation\"].sum() / 1_000_000).round(1)\n",
    "    return (nunique_opr_ids, total_arbocs)\n",
    "\n",
    "\n",
    "upfront_opr_ids = [\n",
    "    project[\"opr_id\"]\n",
    "    for project in retro_json\n",
    "    if project[\"carbon\"][\"initial_carbon_stock\"][\"value\"]\n",
    "    > project[\"carbon\"][\"common_practice\"][\"value\"]\n",
    "]\n",
    "compliance_opr_ids = [project[\"opr_id\"] for project in retro_json]\n",
    "\n",
    "subsets = {\n",
    "    \"all\": np.tile(True, len(df)),\n",
    "    \"all_forest\": df[\"project_type\"] == \"forest\",\n",
    "    \"compliance_ifm\": (df[\"opr_id\"].isin(ifm_opr_ids)) & (df[\"Early Action/ Compliance\"] == \"COP\"),\n",
    "    \"non_graduated_compliance_ifms\": (df[\"opr_id\"].isin(compliance_opr_ids))\n",
    "    & (df[\"Early Action/ Compliance\"] == \"COP\"),\n",
    "    \"upfront_ifm\": (df[\"opr_id\"].isin(upfront_opr_ids)) & (df[\"arb_rp_id\"].isin([\"A\"])),\n",
    "}\n",
    "\n",
    "summary = {k: subset_stats(v) for k, v in subsets.items()}\n",
    "display(summary)"
   ]
  },
  {
   "cell_type": "code",
   "execution_count": 5,
   "metadata": {},
   "outputs": [
    {
     "data": {
      "text/plain": [
       "0.7751441383728379"
      ]
     },
     "execution_count": 5,
     "metadata": {},
     "output_type": "execute_result"
    }
   ],
   "source": [
    "summary[\"upfront_ifm\"][1] / summary[\"all_forest\"][1]"
   ]
  },
  {
   "cell_type": "code",
   "execution_count": 6,
   "metadata": {},
   "outputs": [
    {
     "data": {
      "text/plain": [
       "0.6269430051813472"
      ]
     },
     "execution_count": 6,
     "metadata": {},
     "output_type": "execute_result"
    }
   ],
   "source": [
    "summary[\"upfront_ifm\"][1] / summary[\"all\"][1]"
   ]
  },
  {
   "cell_type": "markdown",
   "metadata": {},
   "source": [
    "## Carbon stocks for SC by species\n"
   ]
  },
  {
   "cell_type": "code",
   "execution_count": 7,
   "metadata": {},
   "outputs": [],
   "source": [
    "sc_data = cat.rfia_all(assessment_area_id=297).read()\n",
    "\n",
    "sc_data = sc_data[sc_data[\"YEAR\"] == 2010].copy()  # use 2010 because comporable to CP data\n",
    "\n",
    "\n",
    "sc_data[\"CARB_ACRE\"] = sc_data[\"CARB_ACRE\"] * 44 / 12 * 0.907185"
   ]
  },
  {
   "cell_type": "code",
   "execution_count": 8,
   "metadata": {},
   "outputs": [],
   "source": [
    "fortyps_of_interest = {\"Douglas fir\": 201, \"Ponderosa pine\": 221, \"Tanoak\": 941}"
   ]
  },
  {
   "cell_type": "code",
   "execution_count": 9,
   "metadata": {},
   "outputs": [
    {
     "data": {
      "text/plain": [
       "{'Douglas fir': 122.5, 'Ponderosa pine': 60.4, 'Tanoak': 192.4}"
      ]
     },
     "metadata": {},
     "output_type": "display_data"
    }
   ],
   "source": [
    "standing_carbon = {}\n",
    "for k, v in fortyps_of_interest.items():\n",
    "    standing_carbon[k] = round(sc_data.loc[sc_data[\"FORTYPCD\"] == v, \"CARB_ACRE\"].item(), 1)\n",
    "display(standing_carbon)"
   ]
  },
  {
   "cell_type": "markdown",
   "metadata": {},
   "source": [
    "### Coastal Alaska\n"
   ]
  },
  {
   "cell_type": "code",
   "execution_count": 10,
   "metadata": {},
   "outputs": [],
   "source": [
    "# ak has three assessment areas but lets summarize across all to report inline value\n",
    "ak_assessment_areas = [285, 286, 287]\n",
    "ak_all = pd.concat([cat.rfia_all(assessment_area_id=aa_id).read() for aa_id in ak_assessment_areas])\n",
    "\n",
    "ak_all = ak_all[ak_all[\"YEAR\"] == 2013].copy()  # 2013 to match what used in CP\n",
    "\n",
    "sums = ak_all.groupby(\"FORTYPCD\").sum()[[\"CARB_TOTAL\", \"AREA_TOTAL\", \"nPlots_TREE\"]]"
   ]
  },
  {
   "cell_type": "code",
   "execution_count": 11,
   "metadata": {},
   "outputs": [],
   "source": [
    "ak_forests_of_interest = {\n",
    "    \"Sitka sprice\": 305,\n",
    "    \"Western hemlock\": 301,\n",
    "    \"Cottonwood\": 703,\n",
    "    \"Paper birch\": 902,\n",
    "}"
   ]
  },
  {
   "cell_type": "code",
   "execution_count": 12,
   "metadata": {},
   "outputs": [
    {
     "data": {
      "text/plain": [
       "{'Sitka sprice': 121.1,\n",
       " 'Western hemlock': 143.0,\n",
       " 'Cottonwood': 41.4,\n",
       " 'Paper birch': 38.3}"
      ]
     },
     "metadata": {},
     "output_type": "display_data"
    }
   ],
   "source": [
    "ak_carb_acre = sums[\"CARB_TOTAL\"] / sums[\"AREA_TOTAL\"] * 44 / 12 * 0.907185\n",
    "\n",
    "display({k: ak_carb_acre[v].round(1) for k, v in ak_forests_of_interest.items()})"
   ]
  },
  {
   "cell_type": "markdown",
   "metadata": {},
   "source": [
    "### Project Examples\n"
   ]
  },
  {
   "cell_type": "code",
   "execution_count": 13,
   "metadata": {},
   "outputs": [],
   "source": [
    "with fsspec.open(\n",
    "    \"https://carbonplan.blob.core.windows.net/carbonplan-retro/results/reclassification-crediting-error.json\",\n",
    "    mode=\"r\",\n",
    ") as f:\n",
    "    reclass_credit = json.load(f)"
   ]
  },
  {
   "cell_type": "code",
   "execution_count": 14,
   "metadata": {},
   "outputs": [],
   "source": [
    "def summarize_project(project):\n",
    "    crediting_error = np.percentile(\n",
    "        reclass_credit[project[\"opr_id\"]][\"delta_arbocs\"], q=[5, 50, 95]\n",
    "    ).round(1)\n",
    "\n",
    "    as_frac = crediting_error / project[\"arbocs\"][\"calculated\"]\n",
    "    print(f\"{project['opr_id']} has a {crediting_error[1]} crediting error ({as_frac[1].round(3)})\")\n",
    "    print(f\"CI: {crediting_error[0]}, {crediting_error[2]}\")\n",
    "    print(f\"% CI: {as_frac[0].round(3)}, {as_frac[2].round(3)}\")"
   ]
  },
  {
   "cell_type": "code",
   "execution_count": 15,
   "metadata": {},
   "outputs": [
    {
     "name": "stdout",
     "output_type": "stream",
     "text": [
      "ACR189 has a 135869.2 crediting error (0.501)\n",
      "CI: 85480.8, 185916.6\n",
      "% CI: 0.315, 0.686\n"
     ]
    }
   ],
   "source": [
    "opr_id = \"ACR189\"\n",
    "project = [x for x in retro_json if x[\"opr_id\"] == opr_id][0]\n",
    "\n",
    "summarize_project(project)"
   ]
  },
  {
   "cell_type": "code",
   "execution_count": 16,
   "metadata": {},
   "outputs": [
    {
     "name": "stdout",
     "output_type": "stream",
     "text": [
      "ACR361 has a 318269.7 crediting error (0.134)\n",
      "CI: -198607.4, 871385.6\n",
      "% CI: -0.084, 0.367\n"
     ]
    }
   ],
   "source": [
    "opr_id = \"ACR361\"\n",
    "project = [x for x in retro_json if x[\"opr_id\"] == opr_id][0]\n",
    "\n",
    "summarize_project(project)"
   ]
  },
  {
   "cell_type": "code",
   "execution_count": 17,
   "metadata": {},
   "outputs": [
    {
     "name": "stdout",
     "output_type": "stream",
     "text": [
      "CAR1183 has a 4417068.0 crediting error (1.0)\n",
      "CI: 4417068.0, 4417068.0\n",
      "% CI: 1.0, 1.0\n"
     ]
    }
   ],
   "source": [
    "opr_id = \"CAR1183\"\n",
    "project = [x for x in retro_json if x[\"opr_id\"] == opr_id][0]\n",
    "\n",
    "summarize_project(project)"
   ]
  },
  {
   "cell_type": "markdown",
   "metadata": {},
   "source": [
    "### Ecosection combos\n"
   ]
  },
  {
   "cell_type": "code",
   "execution_count": 18,
   "metadata": {},
   "outputs": [],
   "source": [
    "fn = f\"https://carbonplan.blob.core.windows.net/carbonplan-retro/results/297_by_ecosection.csv\"\n",
    "with fsspec.open(fn, mode=\"r\") as f:\n",
    "    data = pd.read_csv(f)\n",
    "\n",
    "data = data[data[\"YEAR\"] == 2010]  # match CP calculation period"
   ]
  },
  {
   "cell_type": "code",
   "execution_count": 19,
   "metadata": {},
   "outputs": [],
   "source": [
    "data[\"ECOSECTION\"] = data[\"ECOSUBCD\"].str[:-1].str.strip()\n",
    "\n",
    "\n",
    "lst = [\"M261A\", \"M261B\", \"M261D\"]  # ['263A']# [\"M221A\",\"M221B\",\"M221C\"] #['263A']#\n",
    "subset = data[(data[\"CARB_TOTAL\"] > 0) & (data[\"ECOSECTION\"].isin(lst))].copy()"
   ]
  },
  {
   "cell_type": "code",
   "execution_count": 20,
   "metadata": {},
   "outputs": [],
   "source": [
    "sums = subset.groupby([\"site\", \"ECOSECTION\"])[[\"CARB_TOTAL\", \"AREA_TOTAL\"]].sum()\n",
    "slag = sums[\"CARB_TOTAL\"] / sums[\"AREA_TOTAL\"] * 44 / 12 * 0.907185"
   ]
  },
  {
   "cell_type": "code",
   "execution_count": 21,
   "metadata": {},
   "outputs": [],
   "source": [
    "ss_average = subset.groupby([\"site\"])[[\"CARB_TOTAL\", \"AREA_TOTAL\"]].sum()"
   ]
  },
  {
   "cell_type": "code",
   "execution_count": 22,
   "metadata": {},
   "outputs": [],
   "source": [
    "ss_slag = ss_average[\"CARB_TOTAL\"] / ss_average[\"AREA_TOTAL\"] * 44 / 12 * 0.907185"
   ]
  },
  {
   "cell_type": "code",
   "execution_count": 23,
   "metadata": {},
   "outputs": [
    {
     "data": {
      "text/html": [
       "<div>\n",
       "<style scoped>\n",
       "    .dataframe tbody tr th:only-of-type {\n",
       "        vertical-align: middle;\n",
       "    }\n",
       "\n",
       "    .dataframe tbody tr th {\n",
       "        vertical-align: top;\n",
       "    }\n",
       "\n",
       "    .dataframe thead th {\n",
       "        text-align: right;\n",
       "    }\n",
       "</style>\n",
       "<table border=\"1\" class=\"dataframe\">\n",
       "  <thead>\n",
       "    <tr style=\"text-align: right;\">\n",
       "      <th>ECOSECTION</th>\n",
       "      <th>M261A</th>\n",
       "      <th>M261B</th>\n",
       "      <th>M261D</th>\n",
       "    </tr>\n",
       "    <tr>\n",
       "      <th>site</th>\n",
       "      <th></th>\n",
       "      <th></th>\n",
       "      <th></th>\n",
       "    </tr>\n",
       "  </thead>\n",
       "  <tbody>\n",
       "    <tr>\n",
       "      <th>high</th>\n",
       "      <td>120.6</td>\n",
       "      <td>150.5</td>\n",
       "      <td>100.6</td>\n",
       "    </tr>\n",
       "    <tr>\n",
       "      <th>low</th>\n",
       "      <td>95.2</td>\n",
       "      <td>106.4</td>\n",
       "      <td>53.2</td>\n",
       "    </tr>\n",
       "  </tbody>\n",
       "</table>\n",
       "</div>"
      ],
      "text/plain": [
       "ECOSECTION  M261A  M261B  M261D\n",
       "site                           \n",
       "high        120.6  150.5  100.6\n",
       "low          95.2  106.4   53.2"
      ]
     },
     "execution_count": 23,
     "metadata": {},
     "output_type": "execute_result"
    }
   ],
   "source": [
    "slag.unstack(1).round(1)"
   ]
  },
  {
   "cell_type": "code",
   "execution_count": 24,
   "metadata": {},
   "outputs": [
    {
     "data": {
      "text/html": [
       "<div>\n",
       "<style scoped>\n",
       "    .dataframe tbody tr th:only-of-type {\n",
       "        vertical-align: middle;\n",
       "    }\n",
       "\n",
       "    .dataframe tbody tr th {\n",
       "        vertical-align: top;\n",
       "    }\n",
       "\n",
       "    .dataframe thead th {\n",
       "        text-align: right;\n",
       "    }\n",
       "</style>\n",
       "<table border=\"1\" class=\"dataframe\">\n",
       "  <thead>\n",
       "    <tr style=\"text-align: right;\">\n",
       "      <th>site</th>\n",
       "      <th>high</th>\n",
       "      <th>low</th>\n",
       "    </tr>\n",
       "    <tr>\n",
       "      <th>ECOSECTION</th>\n",
       "      <th></th>\n",
       "      <th></th>\n",
       "    </tr>\n",
       "  </thead>\n",
       "  <tbody>\n",
       "    <tr>\n",
       "      <th>M261A</th>\n",
       "      <td>-0.013284</td>\n",
       "      <td>-0.161891</td>\n",
       "    </tr>\n",
       "    <tr>\n",
       "      <th>M261B</th>\n",
       "      <td>-0.209140</td>\n",
       "      <td>-0.250049</td>\n",
       "    </tr>\n",
       "    <tr>\n",
       "      <th>M261D</th>\n",
       "      <td>0.183504</td>\n",
       "      <td>0.499957</td>\n",
       "    </tr>\n",
       "  </tbody>\n",
       "</table>\n",
       "</div>"
      ],
      "text/plain": [
       "site            high       low\n",
       "ECOSECTION                    \n",
       "M261A      -0.013284 -0.161891\n",
       "M261B      -0.209140 -0.250049\n",
       "M261D       0.183504  0.499957"
      ]
     },
     "execution_count": 24,
     "metadata": {},
     "output_type": "execute_result"
    }
   ],
   "source": [
    "((ss_slag - slag) / slag).unstack(0)"
   ]
  },
  {
   "cell_type": "code",
   "execution_count": 25,
   "metadata": {},
   "outputs": [
    {
     "data": {
      "text/plain": [
       "-0.19069767441860466"
      ]
     },
     "execution_count": 25,
     "metadata": {},
     "output_type": "execute_result"
    }
   ],
   "source": [
    "(121.8 - 150.5) / 150.5"
   ]
  },
  {
   "cell_type": "markdown",
   "metadata": {},
   "source": [
    "# Methods\n"
   ]
  },
  {
   "cell_type": "markdown",
   "metadata": {},
   "source": [
    "## Classifier\n"
   ]
  },
  {
   "cell_type": "code",
   "execution_count": 26,
   "metadata": {},
   "outputs": [],
   "source": [
    "fn = f\"https://carbonplan.blob.core.windows.net/carbonplan-retro/reclassification/classifier_fscores.json\"\n",
    "with fsspec.open(fn, mode=\"r\") as f:\n",
    "    fscores = json.load(f)"
   ]
  },
  {
   "cell_type": "code",
   "execution_count": 27,
   "metadata": {},
   "outputs": [
    {
     "data": {
      "text/plain": [
       "0.77988012574225"
      ]
     },
     "execution_count": 27,
     "metadata": {},
     "output_type": "execute_result"
    }
   ],
   "source": [
    "np.median([scores[0] for ss_name, scores in fscores.items()])"
   ]
  },
  {
   "cell_type": "code",
   "execution_count": 28,
   "metadata": {},
   "outputs": [],
   "source": [
    "table = (\n",
    "    pd.Series({ss_name: round(scores[0], 2) for ss_name, scores in fscores.items()})\n",
    "    .sort_values(ascending=False)\n",
    "    .rename(\"Weighted F-Score\")\n",
    "    .to_frame()\n",
    ")"
   ]
  },
  {
   "cell_type": "code",
   "execution_count": 29,
   "metadata": {},
   "outputs": [],
   "source": [
    "table.index = table.index.set_names(\"Superseciton\")"
   ]
  },
  {
   "cell_type": "code",
   "execution_count": 30,
   "metadata": {},
   "outputs": [
    {
     "data": {
      "text/html": [
       "<div>\n",
       "<style scoped>\n",
       "    .dataframe tbody tr th:only-of-type {\n",
       "        vertical-align: middle;\n",
       "    }\n",
       "\n",
       "    .dataframe tbody tr th {\n",
       "        vertical-align: top;\n",
       "    }\n",
       "\n",
       "    .dataframe thead th {\n",
       "        text-align: right;\n",
       "    }\n",
       "</style>\n",
       "<table border=\"1\" class=\"dataframe\">\n",
       "  <thead>\n",
       "    <tr style=\"text-align: right;\">\n",
       "      <th></th>\n",
       "      <th>Weighted F-Score</th>\n",
       "    </tr>\n",
       "    <tr>\n",
       "      <th>Superseciton</th>\n",
       "      <th></th>\n",
       "    </tr>\n",
       "  </thead>\n",
       "  <tbody>\n",
       "    <tr>\n",
       "      <th>Central New Mexico</th>\n",
       "      <td>0.94</td>\n",
       "    </tr>\n",
       "    <tr>\n",
       "      <th>White Mountains - San Francisco Peaks - Mongollon</th>\n",
       "      <td>0.93</td>\n",
       "    </tr>\n",
       "    <tr>\n",
       "      <th>Southeast and South Central Alaska</th>\n",
       "      <td>0.91</td>\n",
       "    </tr>\n",
       "    <tr>\n",
       "      <th>Columbia Basin</th>\n",
       "      <td>0.89</td>\n",
       "    </tr>\n",
       "    <tr>\n",
       "      <th>Okanogan Highland</th>\n",
       "      <td>0.88</td>\n",
       "    </tr>\n",
       "    <tr>\n",
       "      <th>Northwest Cascades</th>\n",
       "      <td>0.87</td>\n",
       "    </tr>\n",
       "    <tr>\n",
       "      <th>Southern Cascades</th>\n",
       "      <td>0.82</td>\n",
       "    </tr>\n",
       "    <tr>\n",
       "      <th>Laurentian Mixed Forest Southern Superior</th>\n",
       "      <td>0.79</td>\n",
       "    </tr>\n",
       "    <tr>\n",
       "      <th>White Mountains</th>\n",
       "      <td>0.78</td>\n",
       "    </tr>\n",
       "    <tr>\n",
       "      <th>Maine - New Brunswick Foothills and Lowlands</th>\n",
       "      <td>0.78</td>\n",
       "    </tr>\n",
       "    <tr>\n",
       "      <th>Laurentian Mixed Forest Northern Highlands</th>\n",
       "      <td>0.77</td>\n",
       "    </tr>\n",
       "    <tr>\n",
       "      <th>St Lawrence &amp; Mohawk Valley</th>\n",
       "      <td>0.76</td>\n",
       "    </tr>\n",
       "    <tr>\n",
       "      <th>Northern California Coast</th>\n",
       "      <td>0.75</td>\n",
       "    </tr>\n",
       "    <tr>\n",
       "      <th>Adirondacks &amp; Green Mountains</th>\n",
       "      <td>0.74</td>\n",
       "    </tr>\n",
       "    <tr>\n",
       "      <th>Gulf Coastal Plain</th>\n",
       "      <td>0.74</td>\n",
       "    </tr>\n",
       "    <tr>\n",
       "      <th>Lower New England - Northern Appalachia</th>\n",
       "      <td>0.73</td>\n",
       "    </tr>\n",
       "    <tr>\n",
       "      <th>Allegheny &amp; North Cumberland Mountains</th>\n",
       "      <td>0.69</td>\n",
       "    </tr>\n",
       "    <tr>\n",
       "      <th>Eastern Broadleaf Forest Cumberland Plateau</th>\n",
       "      <td>0.69</td>\n",
       "    </tr>\n",
       "    <tr>\n",
       "      <th>Southern Allegheny Plateau</th>\n",
       "      <td>0.68</td>\n",
       "    </tr>\n",
       "  </tbody>\n",
       "</table>\n",
       "</div>"
      ],
      "text/plain": [
       "                                                   Weighted F-Score\n",
       "Superseciton                                                       \n",
       "Central New Mexico                                             0.94\n",
       "White Mountains - San Francisco Peaks - Mongollon              0.93\n",
       "Southeast and South Central Alaska                             0.91\n",
       "Columbia Basin                                                 0.89\n",
       "Okanogan Highland                                              0.88\n",
       "Northwest Cascades                                             0.87\n",
       "Southern Cascades                                              0.82\n",
       "Laurentian Mixed Forest Southern Superior                      0.79\n",
       "White Mountains                                                0.78\n",
       "Maine - New Brunswick Foothills and Lowlands                   0.78\n",
       "Laurentian Mixed Forest Northern Highlands                     0.77\n",
       "St Lawrence & Mohawk Valley                                    0.76\n",
       "Northern California Coast                                      0.75\n",
       "Adirondacks & Green Mountains                                  0.74\n",
       "Gulf Coastal Plain                                             0.74\n",
       "Lower New England - Northern Appalachia                        0.73\n",
       "Allegheny & North Cumberland Mountains                         0.69\n",
       "Eastern Broadleaf Forest Cumberland Plateau                    0.69\n",
       "Southern Allegheny Plateau                                     0.68"
      ]
     },
     "execution_count": 30,
     "metadata": {},
     "output_type": "execute_result"
    }
   ],
   "source": [
    "table"
   ]
  },
  {
   "cell_type": "markdown",
   "metadata": {},
   "source": [
    "## Common Practice Stuff\n"
   ]
  },
  {
   "cell_type": "code",
   "execution_count": 31,
   "metadata": {},
   "outputs": [],
   "source": [
    "projects = [\n",
    "    x\n",
    "    for x in retro_json\n",
    "    if x[\"carbon\"][\"initial_carbon_stock\"][\"value\"] > x[\"carbon\"][\"common_practice\"][\"value\"]\n",
    "]"
   ]
  },
  {
   "cell_type": "code",
   "execution_count": 32,
   "metadata": {},
   "outputs": [],
   "source": [
    "cp_df = pd.DataFrame(\n",
    "    [\n",
    "        (\n",
    "            project[\"carbon\"][\"average_slag_baseline\"][\"value\"],\n",
    "            project[\"carbon\"][\"common_practice\"][\"value\"],\n",
    "        )\n",
    "        for project in projects\n",
    "    ],\n",
    "    columns=[\"baseline\", \"cp\"],\n",
    ")"
   ]
  },
  {
   "cell_type": "markdown",
   "metadata": {},
   "source": [
    "## Figure 2 Caption\n",
    "\n",
    "What percent of projects are within 5 percent of common practice?\n"
   ]
  },
  {
   "cell_type": "code",
   "execution_count": 33,
   "metadata": {},
   "outputs": [
    {
     "data": {
      "text/plain": [
       "0.8923076923076924"
      ]
     },
     "execution_count": 33,
     "metadata": {},
     "output_type": "execute_result"
    }
   ],
   "source": [
    "sum((cp_df[\"baseline\"] <= cp_df[\"cp\"] * 1.05)) / len(cp_df.dropna())"
   ]
  },
  {
   "cell_type": "markdown",
   "metadata": {},
   "source": [
    "# Extended Methods\n"
   ]
  },
  {
   "cell_type": "code",
   "execution_count": 34,
   "metadata": {},
   "outputs": [],
   "source": [
    "fn = f\"https://carbonplan.blob.core.windows.net/carbonplan-retro/results/common-practice-verification.json\"\n",
    "with fsspec.open(fn, mode=\"r\") as f:\n",
    "    cp_verification = json.load(f)"
   ]
  },
  {
   "cell_type": "code",
   "execution_count": 35,
   "metadata": {},
   "outputs": [
    {
     "data": {
      "text/plain": [
       "4.9433707752078595"
      ]
     },
     "execution_count": 35,
     "metadata": {},
     "output_type": "execute_result"
    }
   ],
   "source": [
    "data = pd.DataFrame(cp_verification[\"assessment_areas\"])[[\"common_practice\", \"rfia\"]]\n",
    "mean_squared_error(data[\"common_practice\"], data[\"rfia\"]) ** 0.5"
   ]
  },
  {
   "cell_type": "code",
   "execution_count": 36,
   "metadata": {},
   "outputs": [
    {
     "data": {
      "text/plain": [
       "9.714909886835764"
      ]
     },
     "execution_count": 36,
     "metadata": {},
     "output_type": "execute_result"
    }
   ],
   "source": [
    "data = pd.DataFrame(cp_verification[\"projects\"])[[\"opr_id\", \"recalculated\", \"project_reported\"]]\n",
    "mean_squared_error(data[\"recalculated\"], data[\"project_reported\"]) ** 0.5"
   ]
  },
  {
   "cell_type": "code",
   "execution_count": 37,
   "metadata": {},
   "outputs": [],
   "source": [
    "data[\"diff\"] = (data[\"recalculated\"] - data[\"project_reported\"]) / (data[\"project_reported\"])\n",
    "data = data[np.isfinite(data[\"diff\"])]  # CAR1186 = infite bc original CP = 0."
   ]
  },
  {
   "cell_type": "code",
   "execution_count": 38,
   "metadata": {},
   "outputs": [
    {
     "data": {
      "text/plain": [
       "0.02872469944696075"
      ]
     },
     "execution_count": 38,
     "metadata": {},
     "output_type": "execute_result"
    }
   ],
   "source": [
    "data[\"diff\"].mean()"
   ]
  },
  {
   "cell_type": "code",
   "execution_count": 39,
   "metadata": {},
   "outputs": [
    {
     "ename": "KeyError",
     "evalue": "\"None of ['opr_id'] are in the columns\"",
     "output_type": "error",
     "traceback": [
      "\u001b[0;31m---------------------------------------------------------------------------\u001b[0m",
      "\u001b[0;31mKeyError\u001b[0m                                  Traceback (most recent call last)",
      "\u001b[0;32m<ipython-input-39-c4ee1d5d82a9>\u001b[0m in \u001b[0;36m<module>\u001b[0;34m\u001b[0m\n\u001b[0;32m----> 1\u001b[0;31m \u001b[0merror_cp0\u001b[0m \u001b[0;34m=\u001b[0m \u001b[0mdata\u001b[0m\u001b[0;34m.\u001b[0m\u001b[0mset_index\u001b[0m\u001b[0;34m(\u001b[0m\u001b[0;34m\"opr_id\"\u001b[0m\u001b[0;34m)\u001b[0m\u001b[0;34m[\u001b[0m\u001b[0;34m\"diff\"\u001b[0m\u001b[0;34m]\u001b[0m\u001b[0;34m\u001b[0m\u001b[0;34m\u001b[0m\u001b[0m\n\u001b[0m",
      "\u001b[0;32m~/miniconda3/envs/carbonplan/lib/python3.7/site-packages/pandas/core/frame.py\u001b[0m in \u001b[0;36mset_index\u001b[0;34m(self, keys, drop, append, inplace, verify_integrity)\u001b[0m\n\u001b[1;32m   4553\u001b[0m \u001b[0;34m\u001b[0m\u001b[0m\n\u001b[1;32m   4554\u001b[0m         \u001b[0;32mif\u001b[0m \u001b[0mmissing\u001b[0m\u001b[0;34m:\u001b[0m\u001b[0;34m\u001b[0m\u001b[0;34m\u001b[0m\u001b[0m\n\u001b[0;32m-> 4555\u001b[0;31m             \u001b[0;32mraise\u001b[0m \u001b[0mKeyError\u001b[0m\u001b[0;34m(\u001b[0m\u001b[0;34mf\"None of {missing} are in the columns\"\u001b[0m\u001b[0;34m)\u001b[0m\u001b[0;34m\u001b[0m\u001b[0;34m\u001b[0m\u001b[0m\n\u001b[0m\u001b[1;32m   4556\u001b[0m \u001b[0;34m\u001b[0m\u001b[0m\n\u001b[1;32m   4557\u001b[0m         \u001b[0;32mif\u001b[0m \u001b[0minplace\u001b[0m\u001b[0;34m:\u001b[0m\u001b[0;34m\u001b[0m\u001b[0;34m\u001b[0m\u001b[0m\n",
      "\u001b[0;31mKeyError\u001b[0m: \"None of ['opr_id'] are in the columns\""
     ]
    }
   ],
   "source": [
    "error_cp0 = data.set_index(\"opr_id\")[\"diff\"]"
   ]
  },
  {
   "cell_type": "markdown",
   "metadata": {},
   "source": [
    "## Project scalars\n",
    "\n",
    "ratio of above ground to below ground carbon\n"
   ]
  },
  {
   "cell_type": "code",
   "execution_count": null,
   "metadata": {},
   "outputs": [],
   "source": [
    "pd.DataFrame([get_slag_to_total_scalar(project) for project in projects]).describe()"
   ]
  },
  {
   "cell_type": "markdown",
   "metadata": {},
   "source": [
    "## IFM-3\n",
    "\n",
    "IFM-3 in the baseline scenario and project scenario are equal\n"
   ]
  },
  {
   "cell_type": "code",
   "execution_count": null,
   "metadata": {},
   "outputs": [],
   "source": [
    "sum([x[\"rp_1\"][\"ifm_3\"] == x[\"baseline\"][\"ifm_3\"] for x in projects]) / len(projects)"
   ]
  },
  {
   "cell_type": "code",
   "execution_count": null,
   "metadata": {},
   "outputs": [],
   "source": [
    "fn = \"https://carbonplan.blob.core.windows.net/carbonplan-retro/results/reclassification-crediting-error.json\"\n",
    "with fsspec.open(fn, mode=\"r\") as f:\n",
    "    crediting_error = json.load(f)\n",
    "\n",
    "crediting_df = pd.DataFrame({k: v[\"delta_arbocs\"] for k, v in crediting_error.items()})\n",
    "\n",
    "median_crediting_error = {k: np.median(v[\"delta_arbocs\"]) for k, v in crediting_error.items()}"
   ]
  },
  {
   "cell_type": "code",
   "execution_count": null,
   "metadata": {},
   "outputs": [],
   "source": [
    "tp = pd.concat(\n",
    "    [pd.Series(median_crediting_error).rename(\"crediting_error\"), error_cp0.rename(\"cp\")],\n",
    "    axis=1,\n",
    ")"
   ]
  },
  {
   "cell_type": "code",
   "execution_count": null,
   "metadata": {},
   "outputs": [],
   "source": [
    "tp.dropna().corr()"
   ]
  },
  {
   "cell_type": "code",
   "execution_count": null,
   "metadata": {},
   "outputs": [],
   "source": [
    "sns.jointplot(\"cp\", \"crediting_error\", data=tp)"
   ]
  },
  {
   "cell_type": "markdown",
   "metadata": {},
   "source": [
    "# Disucssion\n",
    "\n",
    "## Data limitations\n"
   ]
  },
  {
   "cell_type": "markdown",
   "metadata": {},
   "source": [
    "### Plots in AK\n"
   ]
  },
  {
   "cell_type": "code",
   "execution_count": null,
   "metadata": {},
   "outputs": [],
   "source": [
    "ak_assessment_areas = [285, 286, 287]\n",
    "ak_all = pd.concat([cat.rfia_all(assessment_area_id=aa_id).read() for aa_id in ak_assessment_areas])"
   ]
  },
  {
   "cell_type": "code",
   "execution_count": null,
   "metadata": {},
   "outputs": [],
   "source": [
    "ak_all = ak_all[ak_all[\"YEAR\"] == 2013]"
   ]
  },
  {
   "cell_type": "code",
   "execution_count": null,
   "metadata": {},
   "outputs": [],
   "source": [
    "plots_by_aa = ak_all.groupby(\"Assessment\")[\"nPlots_TREE\"].sum()\n",
    "display(plots_by_aa)"
   ]
  },
  {
   "cell_type": "code",
   "execution_count": null,
   "metadata": {},
   "outputs": [],
   "source": [
    "sum([project[\"arbocs\"][\"issuance\"] for project in retro_json if 287 in project[\"supersection_ids\"]])"
   ]
  },
  {
   "cell_type": "code",
   "execution_count": null,
   "metadata": {},
   "outputs": [],
   "source": [
    "# total AK plots\n",
    "display(plots_by_aa.sum())"
   ]
  },
  {
   "cell_type": "markdown",
   "metadata": {},
   "source": [
    "Contrasted against 297 (mixed conifer)\n"
   ]
  },
  {
   "cell_type": "code",
   "execution_count": null,
   "metadata": {},
   "outputs": [],
   "source": [
    "sc = cat.rfia_all(assessment_area_id=297).read()\n",
    "sc[sc[\"YEAR\"] == 2010].nPlots_TREE.sum()"
   ]
  }
 ],
 "metadata": {
  "kernelspec": {
   "display_name": "Python 3",
   "language": "python",
   "name": "python3"
  },
  "language_info": {
   "codemirror_mode": {
    "name": "ipython",
    "version": 3
   },
   "file_extension": ".py",
   "mimetype": "text/x-python",
   "name": "python",
   "nbconvert_exporter": "python",
   "pygments_lexer": "ipython3",
   "version": "3.7.8"
  }
 },
 "nbformat": 4,
 "nbformat_minor": 5
}
